{
 "cells": [
  {
   "cell_type": "markdown",
   "metadata": {
    "id": "rhR-ZUkwJrFn"
   },
   "source": [
    "# Fake News Detection\n",
    "\n",
    "\n"
   ]
  },
  {
   "cell_type": "markdown",
   "metadata": {
    "id": "hXeHUV5fJGiZ"
   },
   "source": [
    "## Objective\n"
   ]
  },
  {
   "cell_type": "markdown",
   "metadata": {
    "id": "kX73YZdgJIgF"
   },
   "source": [
    "The objective of this assignment is to develop a Semantic Classification model. You will be using Word2Vec method to extract the semantic relations from the text and develop a basic understanding of how to train supervised models to categorise text based on its meaning, rather than just syntax. You will explore how this technique is used in situations where understanding textual meaning plays a critical role in making accurate and efficient decisions.\n"
   ]
  },
  {
   "cell_type": "markdown",
   "metadata": {
    "id": "Gg_J6K8Xxfk2"
   },
   "source": [
    "## Business Objective\n",
    "\n",
    "The spread of fake news has become a significant challenge in today’s digital world. With the massive volume of news articles published daily, it’s becoming harder to distinguish between credible and misleading information. This creates a need for systems that can automatically classify news articles as true or fake, helping to reduce misinformation and protect public trust.\n",
    "\n",
    "\n",
    "In this assignment, you will develop a Semantic Classification model that uses the Word2Vec method to detect recurring patterns and themes in news articles. Using supervised learning models, the goal is to build a system that classifies news articles as either fake or true.\n"
   ]
  },
  {
   "cell_type": "markdown",
   "metadata": {
    "id": "ySqxOckxI4-F"
   },
   "source": [
    "<h2> Pipelines that needs to be performed </h2>\n",
    "\n",
    "You need to perform the following tasks to complete the assignment:\n",
    "\n",
    "<ol type=\"1\">\n",
    "\n",
    "  <li> Data Preparation\n",
    "  <li> Text Preprocessing\n",
    "  <li> Train Validation Split\n",
    "  <li> EDA on Training Data\n",
    "  <li> EDA on Validation Data [Optional]\n",
    "  <li> Feature Extraction\n",
    "  <li> Model Training and Evaluation\n",
    "\n",
    "</ol>"
   ]
  },
  {
   "cell_type": "markdown",
   "metadata": {
    "id": "gTxV-3GJUhWm"
   },
   "source": [
    "---"
   ]
  },
  {
   "cell_type": "markdown",
   "metadata": {
    "id": "ofebI8ITG-Li"
   },
   "source": [
    "**NOTE:** The marks given along with headings and sub-headings are cumulative marks for those particular headings/sub-headings.<br>\n",
    "\n",
    "The actual marks for each task are specified within the tasks themselves.\n",
    "\n",
    "For example, marks given with heading *2* or sub-heading *2.1* are the cumulative marks, for your reference only. <br>\n",
    "\n",
    "The marks you will receive for completing tasks are given with the tasks.\n",
    "\n",
    "Suppose the marks for two tasks are: 3 marks for 2.1.1 and 2 marks for 3.2.2, or\n",
    "* 2.1.1 [3 marks]\n",
    "* 3.2.2 [2 marks]\n",
    "\n",
    "then, you will earn 3 marks for completing task 2.1.1 and 2 marks for completing task 3.2.2.\n"
   ]
  },
  {
   "cell_type": "markdown",
   "metadata": {
    "id": "YdQjht7dUiHt"
   },
   "source": [
    "---"
   ]
  },
  {
   "cell_type": "markdown",
   "metadata": {
    "id": "8b1lNTpKF54T"
   },
   "source": [
    "## Data Dictionary\n"
   ]
  },
  {
   "cell_type": "markdown",
   "metadata": {
    "id": "43j_A_GsI9TS"
   },
   "source": [
    "For this assignment, you will work with two datasets, `True.csv` and `Fake.csv`.\n",
    "Both datasets contain three columns:\n",
    "<ul>\n",
    "  <li> title of the news article\n",
    "  <li> text of the news article\n",
    "  <li> date of article publication\n",
    "</ul>\n",
    "\n",
    "`True.csv` dataset includes 21,417 true news, while the `Fake.csv` dataset comprises 23,502 fake news."
   ]
  },
  {
   "cell_type": "markdown",
   "metadata": {
    "id": "_oTQwQ_Rh4nT"
   },
   "source": [
    "## Installing required Libraries"
   ]
  },
  {
   "cell_type": "code",
   "execution_count": 20,
   "metadata": {
    "id": "lIY57QOLiCA2",
    "scrolled": true
   },
   "outputs": [
    {
     "name": "stdout",
     "output_type": "stream",
     "text": [
      "Collecting numpy==1.26.4\n",
      "  Downloading numpy-1.26.4-cp311-cp311-win_amd64.whl.metadata (61 kB)\n",
      "     ---------------------------------------- 0.0/61.0 kB ? eta -:--:--\n",
      "     ------------ ------------------------- 20.5/61.0 kB 217.9 kB/s eta 0:00:01\n",
      "     ------------------------- ------------ 41.0/61.0 kB 326.8 kB/s eta 0:00:01\n",
      "     ------------------------------- ------ 51.2/61.0 kB 435.7 kB/s eta 0:00:01\n",
      "     -------------------------------------- 61.0/61.0 kB 360.3 kB/s eta 0:00:00\n",
      "Downloading numpy-1.26.4-cp311-cp311-win_amd64.whl (15.8 MB)\n",
      "   ---------------------------------------- 0.0/15.8 MB ? eta -:--:--\n",
      "    --------------------------------------- 0.4/15.8 MB 10.9 MB/s eta 0:00:02\n",
      "   -- ------------------------------------- 0.8/15.8 MB 8.7 MB/s eta 0:00:02\n",
      "   --- ------------------------------------ 1.3/15.8 MB 10.5 MB/s eta 0:00:02\n",
      "   ---- ----------------------------------- 1.8/15.8 MB 10.2 MB/s eta 0:00:02\n",
      "   ----- ---------------------------------- 2.2/15.8 MB 10.7 MB/s eta 0:00:02\n",
      "   ------- -------------------------------- 2.8/15.8 MB 10.5 MB/s eta 0:00:02\n",
      "   -------- ------------------------------- 3.4/15.8 MB 10.8 MB/s eta 0:00:02\n",
      "   --------- ------------------------------ 3.9/15.8 MB 10.9 MB/s eta 0:00:02\n",
      "   ----------- ---------------------------- 4.4/15.8 MB 10.9 MB/s eta 0:00:02\n",
      "   ----------- ---------------------------- 4.7/15.8 MB 10.6 MB/s eta 0:00:02\n",
      "   ------------ --------------------------- 4.9/15.8 MB 10.1 MB/s eta 0:00:02\n",
      "   ------------- -------------------------- 5.3/15.8 MB 9.9 MB/s eta 0:00:02\n",
      "   ------------- -------------------------- 5.4/15.8 MB 9.9 MB/s eta 0:00:02\n",
      "   -------------- ------------------------- 5.6/15.8 MB 8.9 MB/s eta 0:00:02\n",
      "   -------------- ------------------------- 5.8/15.8 MB 8.7 MB/s eta 0:00:02\n",
      "   --------------- ------------------------ 6.1/15.8 MB 8.6 MB/s eta 0:00:02\n",
      "   ---------------- ----------------------- 6.3/15.8 MB 8.3 MB/s eta 0:00:02\n",
      "   ---------------- ----------------------- 6.5/15.8 MB 8.0 MB/s eta 0:00:02\n",
      "   ---------------- ----------------------- 6.6/15.8 MB 7.7 MB/s eta 0:00:02\n",
      "   ----------------- ---------------------- 6.7/15.8 MB 7.4 MB/s eta 0:00:02\n",
      "   ----------------- ---------------------- 6.9/15.8 MB 7.2 MB/s eta 0:00:02\n",
      "   ----------------- ---------------------- 7.1/15.8 MB 7.2 MB/s eta 0:00:02\n",
      "   ------------------ --------------------- 7.4/15.8 MB 7.1 MB/s eta 0:00:02\n",
      "   ------------------- -------------------- 7.7/15.8 MB 7.1 MB/s eta 0:00:02\n",
      "   -------------------- ------------------- 7.9/15.8 MB 7.0 MB/s eta 0:00:02\n",
      "   -------------------- ------------------- 8.0/15.8 MB 6.9 MB/s eta 0:00:02\n",
      "   -------------------- ------------------- 8.2/15.8 MB 6.8 MB/s eta 0:00:02\n",
      "   -------------------- ------------------- 8.3/15.8 MB 6.7 MB/s eta 0:00:02\n",
      "   --------------------- ------------------ 8.3/15.8 MB 6.4 MB/s eta 0:00:02\n",
      "   --------------------- ------------------ 8.4/15.8 MB 6.3 MB/s eta 0:00:02\n",
      "   --------------------- ------------------ 8.5/15.8 MB 6.2 MB/s eta 0:00:02\n",
      "   --------------------- ------------------ 8.7/15.8 MB 6.1 MB/s eta 0:00:02\n",
      "   ---------------------- ----------------- 8.8/15.8 MB 6.0 MB/s eta 0:00:02\n",
      "   ---------------------- ----------------- 9.0/15.8 MB 6.0 MB/s eta 0:00:02\n",
      "   ----------------------- ---------------- 9.3/15.8 MB 5.9 MB/s eta 0:00:02\n",
      "   ------------------------ --------------- 9.6/15.8 MB 6.0 MB/s eta 0:00:02\n",
      "   ------------------------- -------------- 9.9/15.8 MB 6.1 MB/s eta 0:00:01\n",
      "   -------------------------- ------------- 10.4/15.8 MB 6.1 MB/s eta 0:00:01\n",
      "   -------------------------- ------------- 10.6/15.8 MB 6.0 MB/s eta 0:00:01\n",
      "   --------------------------- ------------ 10.7/15.8 MB 5.9 MB/s eta 0:00:01\n",
      "   --------------------------- ------------ 10.9/15.8 MB 5.8 MB/s eta 0:00:01\n",
      "   ---------------------------- ----------- 11.1/15.8 MB 5.7 MB/s eta 0:00:01\n",
      "   ---------------------------- ----------- 11.3/15.8 MB 5.7 MB/s eta 0:00:01\n",
      "   ---------------------------- ----------- 11.4/15.8 MB 5.6 MB/s eta 0:00:01\n",
      "   ----------------------------- ---------- 11.7/15.8 MB 5.5 MB/s eta 0:00:01\n",
      "   ------------------------------ --------- 11.9/15.8 MB 5.5 MB/s eta 0:00:01\n",
      "   ------------------------------ --------- 12.2/15.8 MB 5.4 MB/s eta 0:00:01\n",
      "   ------------------------------- -------- 12.6/15.8 MB 5.3 MB/s eta 0:00:01\n",
      "   -------------------------------- ------- 12.8/15.8 MB 5.3 MB/s eta 0:00:01\n",
      "   --------------------------------- ------ 13.2/15.8 MB 5.3 MB/s eta 0:00:01\n",
      "   --------------------------------- ------ 13.4/15.8 MB 5.2 MB/s eta 0:00:01\n",
      "   ---------------------------------- ----- 13.5/15.8 MB 5.1 MB/s eta 0:00:01\n",
      "   ---------------------------------- ----- 13.6/15.8 MB 5.0 MB/s eta 0:00:01\n",
      "   ---------------------------------- ----- 13.7/15.8 MB 4.9 MB/s eta 0:00:01\n",
      "   ---------------------------------- ----- 13.8/15.8 MB 4.9 MB/s eta 0:00:01\n",
      "   ----------------------------------- ---- 14.0/15.8 MB 4.8 MB/s eta 0:00:01\n",
      "   ----------------------------------- ---- 14.2/15.8 MB 4.7 MB/s eta 0:00:01\n",
      "   ------------------------------------ --- 14.5/15.8 MB 4.7 MB/s eta 0:00:01\n",
      "   ------------------------------------- -- 14.8/15.8 MB 4.7 MB/s eta 0:00:01\n",
      "   -------------------------------------- - 15.1/15.8 MB 4.7 MB/s eta 0:00:01\n",
      "   ---------------------------------------  15.5/15.8 MB 4.7 MB/s eta 0:00:01\n",
      "   ---------------------------------------  15.8/15.8 MB 4.8 MB/s eta 0:00:01\n",
      "   ---------------------------------------  15.8/15.8 MB 4.8 MB/s eta 0:00:01\n",
      "   ---------------------------------------- 15.8/15.8 MB 4.7 MB/s eta 0:00:00\n",
      "Installing collected packages: numpy\n",
      "  Attempting uninstall: numpy\n",
      "    Found existing installation: numpy 1.24.4\n",
      "    Uninstalling numpy-1.24.4:\n",
      "      Successfully uninstalled numpy-1.24.4\n",
      "Successfully installed numpy-1.26.4\n"
     ]
    },
    {
     "name": "stderr",
     "output_type": "stream",
     "text": [
      "  WARNING: Failed to remove contents in a temporary directory 'C:\\Users\\asus\\anaconda3\\Lib\\site-packages\\numpy\\~libs'.\n",
      "  You can safely remove it manually.\n",
      "  WARNING: Failed to remove contents in a temporary directory 'C:\\Users\\asus\\AppData\\Local\\Temp\\pip-uninstall-pkyvmadt'.\n",
      "  You can safely remove it manually.\n",
      "ERROR: pip's dependency resolver does not currently take into account all the packages that are installed. This behaviour is the source of the following dependency conflicts.\n",
      "pyfume 0.3.4 requires numpy==1.24.4, but you have numpy 1.26.4 which is incompatible.\n"
     ]
    },
    {
     "name": "stdout",
     "output_type": "stream",
     "text": [
      "Collecting pandas==2.2.2\n",
      "  Downloading pandas-2.2.2-cp311-cp311-win_amd64.whl.metadata (19 kB)\n",
      "Requirement already satisfied: numpy>=1.23.2 in c:\\users\\asus\\anaconda3\\lib\\site-packages (from pandas==2.2.2) (1.26.4)\n",
      "Requirement already satisfied: python-dateutil>=2.8.2 in c:\\users\\asus\\anaconda3\\lib\\site-packages (from pandas==2.2.2) (2.8.2)\n",
      "Requirement already satisfied: pytz>=2020.1 in c:\\users\\asus\\anaconda3\\lib\\site-packages (from pandas==2.2.2) (2023.3.post1)\n",
      "Requirement already satisfied: tzdata>=2022.7 in c:\\users\\asus\\anaconda3\\lib\\site-packages (from pandas==2.2.2) (2023.3)\n",
      "Requirement already satisfied: six>=1.5 in c:\\users\\asus\\anaconda3\\lib\\site-packages (from python-dateutil>=2.8.2->pandas==2.2.2) (1.16.0)\n",
      "Downloading pandas-2.2.2-cp311-cp311-win_amd64.whl (11.6 MB)\n",
      "   ---------------------------------------- 0.0/11.6 MB ? eta -:--:--\n",
      "   ---------------------------------------- 0.0/11.6 MB ? eta -:--:--\n",
      "   ---------------------------------------- 0.1/11.6 MB 1.6 MB/s eta 0:00:08\n",
      "   - -------------------------------------- 0.5/11.6 MB 4.5 MB/s eta 0:00:03\n",
      "   --- ------------------------------------ 1.0/11.6 MB 6.2 MB/s eta 0:00:02\n",
      "   --- ------------------------------------ 1.1/11.6 MB 5.5 MB/s eta 0:00:02\n",
      "   ----- ---------------------------------- 1.5/11.6 MB 6.1 MB/s eta 0:00:02\n",
      "   ------ --------------------------------- 1.8/11.6 MB 6.4 MB/s eta 0:00:02\n",
      "   ------- -------------------------------- 2.2/11.6 MB 6.8 MB/s eta 0:00:02\n",
      "   -------- ------------------------------- 2.5/11.6 MB 6.6 MB/s eta 0:00:02\n",
      "   --------- ------------------------------ 2.8/11.6 MB 6.6 MB/s eta 0:00:02\n",
      "   ---------- ----------------------------- 3.1/11.6 MB 6.5 MB/s eta 0:00:02\n",
      "   ------------ --------------------------- 3.5/11.6 MB 7.0 MB/s eta 0:00:02\n",
      "   ------------- -------------------------- 4.0/11.6 MB 7.3 MB/s eta 0:00:02\n",
      "   -------------- ------------------------- 4.2/11.6 MB 7.4 MB/s eta 0:00:02\n",
      "   -------------- ------------------------- 4.2/11.6 MB 7.4 MB/s eta 0:00:02\n",
      "   -------------- ------------------------- 4.2/11.6 MB 7.4 MB/s eta 0:00:02\n",
      "   -------------- ------------------------- 4.2/11.6 MB 7.4 MB/s eta 0:00:02\n",
      "   --------------- ------------------------ 4.4/11.6 MB 5.7 MB/s eta 0:00:02\n",
      "   ----------------- ---------------------- 5.0/11.6 MB 6.1 MB/s eta 0:00:02\n",
      "   ------------------ --------------------- 5.5/11.6 MB 6.4 MB/s eta 0:00:01\n",
      "   -------------------- ------------------- 5.9/11.6 MB 6.6 MB/s eta 0:00:01\n",
      "   --------------------- ------------------ 6.3/11.6 MB 6.6 MB/s eta 0:00:01\n",
      "   ---------------------- ----------------- 6.5/11.6 MB 6.6 MB/s eta 0:00:01\n",
      "   ----------------------- ---------------- 6.9/11.6 MB 6.5 MB/s eta 0:00:01\n",
      "   ------------------------ --------------- 7.2/11.6 MB 6.5 MB/s eta 0:00:01\n",
      "   ------------------------- -------------- 7.4/11.6 MB 6.6 MB/s eta 0:00:01\n",
      "   -------------------------- ------------- 7.6/11.6 MB 6.5 MB/s eta 0:00:01\n",
      "   --------------------------- ------------ 7.9/11.6 MB 6.4 MB/s eta 0:00:01\n",
      "   --------------------------- ------------ 8.1/11.6 MB 6.4 MB/s eta 0:00:01\n",
      "   ---------------------------- ----------- 8.4/11.6 MB 6.4 MB/s eta 0:00:01\n",
      "   ----------------------------- ---------- 8.6/11.6 MB 6.3 MB/s eta 0:00:01\n",
      "   ------------------------------ --------- 8.9/11.6 MB 6.3 MB/s eta 0:00:01\n",
      "   ------------------------------- -------- 9.2/11.6 MB 6.4 MB/s eta 0:00:01\n",
      "   -------------------------------- ------- 9.4/11.6 MB 6.3 MB/s eta 0:00:01\n",
      "   -------------------------------- ------- 9.6/11.6 MB 6.2 MB/s eta 0:00:01\n",
      "   --------------------------------- ------ 9.7/11.6 MB 6.1 MB/s eta 0:00:01\n",
      "   ---------------------------------- ----- 10.0/11.6 MB 6.1 MB/s eta 0:00:01\n",
      "   ---------------------------------- ----- 10.1/11.6 MB 6.1 MB/s eta 0:00:01\n",
      "   ----------------------------------- ---- 10.3/11.6 MB 6.0 MB/s eta 0:00:01\n",
      "   ----------------------------------- ---- 10.4/11.6 MB 6.0 MB/s eta 0:00:01\n",
      "   ------------------------------------ --- 10.6/11.6 MB 6.0 MB/s eta 0:00:01\n",
      "   ------------------------------------- -- 10.8/11.6 MB 5.8 MB/s eta 0:00:01\n",
      "   ------------------------------------- -- 11.0/11.6 MB 5.8 MB/s eta 0:00:01\n",
      "   -------------------------------------- - 11.1/11.6 MB 5.6 MB/s eta 0:00:01\n",
      "   -------------------------------------- - 11.2/11.6 MB 5.6 MB/s eta 0:00:01\n",
      "   ---------------------------------------  11.4/11.6 MB 5.5 MB/s eta 0:00:01\n",
      "   ---------------------------------------  11.5/11.6 MB 5.5 MB/s eta 0:00:01\n",
      "   ---------------------------------------  11.6/11.6 MB 5.4 MB/s eta 0:00:01\n",
      "   ---------------------------------------- 11.6/11.6 MB 5.2 MB/s eta 0:00:00\n",
      "Installing collected packages: pandas\n",
      "  Attempting uninstall: pandas\n",
      "    Found existing installation: pandas 1.5.3\n",
      "    Uninstalling pandas-1.5.3:\n",
      "      Successfully uninstalled pandas-1.5.3\n",
      "Successfully installed pandas-2.2.2\n"
     ]
    },
    {
     "name": "stderr",
     "output_type": "stream",
     "text": [
      "  WARNING: Failed to remove contents in a temporary directory 'C:\\Users\\asus\\anaconda3\\Lib\\site-packages\\~andas'.\n",
      "  You can safely remove it manually.\n",
      "ERROR: pip's dependency resolver does not currently take into account all the packages that are installed. This behaviour is the source of the following dependency conflicts.\n",
      "pyfume 0.3.4 requires numpy==1.24.4, but you have numpy 1.26.4 which is incompatible.\n",
      "pyfume 0.3.4 requires pandas==1.5.3, but you have pandas 2.2.2 which is incompatible.\n"
     ]
    },
    {
     "name": "stdout",
     "output_type": "stream",
     "text": [
      "Collecting nltk==3.9.1\n",
      "  Downloading nltk-3.9.1-py3-none-any.whl.metadata (2.9 kB)\n",
      "Requirement already satisfied: click in c:\\users\\asus\\anaconda3\\lib\\site-packages (from nltk==3.9.1) (8.1.7)\n",
      "Requirement already satisfied: joblib in c:\\users\\asus\\anaconda3\\lib\\site-packages (from nltk==3.9.1) (1.2.0)\n",
      "Requirement already satisfied: regex>=2021.8.3 in c:\\users\\asus\\anaconda3\\lib\\site-packages (from nltk==3.9.1) (2023.10.3)\n",
      "Requirement already satisfied: tqdm in c:\\users\\asus\\anaconda3\\lib\\site-packages (from nltk==3.9.1) (4.65.0)\n",
      "Requirement already satisfied: colorama in c:\\users\\asus\\anaconda3\\lib\\site-packages (from click->nltk==3.9.1) (0.4.6)\n",
      "Downloading nltk-3.9.1-py3-none-any.whl (1.5 MB)\n",
      "   ---------------------------------------- 0.0/1.5 MB ? eta -:--:--\n",
      "   -------- ------------------------------- 0.3/1.5 MB 10.6 MB/s eta 0:00:01\n",
      "   -------------------- ------------------- 0.8/1.5 MB 9.6 MB/s eta 0:00:01\n",
      "   -------------------------------- ------- 1.2/1.5 MB 11.1 MB/s eta 0:00:01\n",
      "   ---------------------------------------  1.5/1.5 MB 10.6 MB/s eta 0:00:01\n",
      "   ---------------------------------------- 1.5/1.5 MB 8.7 MB/s eta 0:00:00\n",
      "Installing collected packages: nltk\n",
      "  Attempting uninstall: nltk\n",
      "    Found existing installation: nltk 3.8.1\n",
      "    Uninstalling nltk-3.8.1:\n",
      "      Successfully uninstalled nltk-3.8.1\n",
      "Successfully installed nltk-3.9.1\n",
      "Collecting spacy==3.7.5\n",
      "  Downloading spacy-3.7.5-cp311-cp311-win_amd64.whl.metadata (27 kB)\n",
      "Collecting spacy-legacy<3.1.0,>=3.0.11 (from spacy==3.7.5)\n",
      "  Downloading spacy_legacy-3.0.12-py2.py3-none-any.whl.metadata (2.8 kB)\n",
      "Collecting spacy-loggers<2.0.0,>=1.0.0 (from spacy==3.7.5)\n",
      "  Downloading spacy_loggers-1.0.5-py3-none-any.whl.metadata (23 kB)\n",
      "Collecting murmurhash<1.1.0,>=0.28.0 (from spacy==3.7.5)\n",
      "  Downloading murmurhash-1.0.12-cp311-cp311-win_amd64.whl.metadata (2.2 kB)\n",
      "Collecting cymem<2.1.0,>=2.0.2 (from spacy==3.7.5)\n",
      "  Downloading cymem-2.0.11-cp311-cp311-win_amd64.whl.metadata (8.8 kB)\n",
      "Collecting preshed<3.1.0,>=3.0.2 (from spacy==3.7.5)\n",
      "  Downloading preshed-3.0.9-cp311-cp311-win_amd64.whl.metadata (2.2 kB)\n",
      "Collecting thinc<8.3.0,>=8.2.2 (from spacy==3.7.5)\n",
      "  Downloading thinc-8.2.5-cp311-cp311-win_amd64.whl.metadata (15 kB)\n",
      "Collecting wasabi<1.2.0,>=0.9.1 (from spacy==3.7.5)\n",
      "  Downloading wasabi-1.1.3-py3-none-any.whl.metadata (28 kB)\n",
      "Collecting srsly<3.0.0,>=2.4.3 (from spacy==3.7.5)\n",
      "  Downloading srsly-2.5.1-cp311-cp311-win_amd64.whl.metadata (20 kB)\n",
      "Collecting catalogue<2.1.0,>=2.0.6 (from spacy==3.7.5)\n",
      "  Downloading catalogue-2.0.10-py3-none-any.whl.metadata (14 kB)\n",
      "Collecting weasel<0.5.0,>=0.1.0 (from spacy==3.7.5)\n",
      "  Downloading weasel-0.4.1-py3-none-any.whl.metadata (4.6 kB)\n",
      "Collecting typer<1.0.0,>=0.3.0 (from spacy==3.7.5)\n",
      "  Downloading typer-0.15.2-py3-none-any.whl.metadata (15 kB)\n",
      "Requirement already satisfied: tqdm<5.0.0,>=4.38.0 in c:\\users\\asus\\anaconda3\\lib\\site-packages (from spacy==3.7.5) (4.65.0)\n",
      "Requirement already satisfied: requests<3.0.0,>=2.13.0 in c:\\users\\asus\\anaconda3\\lib\\site-packages (from spacy==3.7.5) (2.31.0)\n",
      "Requirement already satisfied: pydantic!=1.8,!=1.8.1,<3.0.0,>=1.7.4 in c:\\users\\asus\\anaconda3\\lib\\site-packages (from spacy==3.7.5) (1.10.12)\n",
      "Requirement already satisfied: jinja2 in c:\\users\\asus\\anaconda3\\lib\\site-packages (from spacy==3.7.5) (3.1.3)\n",
      "Requirement already satisfied: setuptools in c:\\users\\asus\\anaconda3\\lib\\site-packages (from spacy==3.7.5) (68.2.2)\n",
      "Requirement already satisfied: packaging>=20.0 in c:\\users\\asus\\anaconda3\\lib\\site-packages (from spacy==3.7.5) (23.1)\n",
      "Collecting langcodes<4.0.0,>=3.2.0 (from spacy==3.7.5)\n",
      "  Downloading langcodes-3.5.0-py3-none-any.whl.metadata (29 kB)\n",
      "Requirement already satisfied: numpy>=1.19.0 in c:\\users\\asus\\anaconda3\\lib\\site-packages (from spacy==3.7.5) (1.26.4)\n",
      "Collecting language-data>=1.2 (from langcodes<4.0.0,>=3.2.0->spacy==3.7.5)\n",
      "  Downloading language_data-1.3.0-py3-none-any.whl.metadata (4.3 kB)\n",
      "Requirement already satisfied: typing-extensions>=4.2.0 in c:\\users\\asus\\anaconda3\\lib\\site-packages (from pydantic!=1.8,!=1.8.1,<3.0.0,>=1.7.4->spacy==3.7.5) (4.9.0)\n",
      "Requirement already satisfied: charset-normalizer<4,>=2 in c:\\users\\asus\\anaconda3\\lib\\site-packages (from requests<3.0.0,>=2.13.0->spacy==3.7.5) (2.0.4)\n",
      "Requirement already satisfied: idna<4,>=2.5 in c:\\users\\asus\\anaconda3\\lib\\site-packages (from requests<3.0.0,>=2.13.0->spacy==3.7.5) (3.4)\n",
      "Requirement already satisfied: urllib3<3,>=1.21.1 in c:\\users\\asus\\anaconda3\\lib\\site-packages (from requests<3.0.0,>=2.13.0->spacy==3.7.5) (2.0.7)\n",
      "Requirement already satisfied: certifi>=2017.4.17 in c:\\users\\asus\\anaconda3\\lib\\site-packages (from requests<3.0.0,>=2.13.0->spacy==3.7.5) (2024.7.4)\n",
      "Collecting blis<0.8.0,>=0.7.8 (from thinc<8.3.0,>=8.2.2->spacy==3.7.5)\n",
      "  Downloading blis-0.7.11-cp311-cp311-win_amd64.whl.metadata (7.6 kB)\n",
      "Collecting confection<1.0.0,>=0.0.1 (from thinc<8.3.0,>=8.2.2->spacy==3.7.5)\n",
      "  Downloading confection-0.1.5-py3-none-any.whl.metadata (19 kB)\n",
      "Requirement already satisfied: colorama in c:\\users\\asus\\anaconda3\\lib\\site-packages (from tqdm<5.0.0,>=4.38.0->spacy==3.7.5) (0.4.6)\n",
      "Requirement already satisfied: click>=8.0.0 in c:\\users\\asus\\anaconda3\\lib\\site-packages (from typer<1.0.0,>=0.3.0->spacy==3.7.5) (8.1.7)\n",
      "Collecting shellingham>=1.3.0 (from typer<1.0.0,>=0.3.0->spacy==3.7.5)\n",
      "  Downloading shellingham-1.5.4-py2.py3-none-any.whl.metadata (3.5 kB)\n",
      "Requirement already satisfied: rich>=10.11.0 in c:\\users\\asus\\anaconda3\\lib\\site-packages (from typer<1.0.0,>=0.3.0->spacy==3.7.5) (13.3.5)\n",
      "Collecting cloudpathlib<1.0.0,>=0.7.0 (from weasel<0.5.0,>=0.1.0->spacy==3.7.5)\n",
      "  Downloading cloudpathlib-0.21.0-py3-none-any.whl.metadata (14 kB)\n",
      "Requirement already satisfied: smart-open<8.0.0,>=5.2.1 in c:\\users\\asus\\anaconda3\\lib\\site-packages (from weasel<0.5.0,>=0.1.0->spacy==3.7.5) (5.2.1)\n",
      "Requirement already satisfied: MarkupSafe>=2.0 in c:\\users\\asus\\anaconda3\\lib\\site-packages (from jinja2->spacy==3.7.5) (2.1.3)\n",
      "Collecting marisa-trie>=1.1.0 (from language-data>=1.2->langcodes<4.0.0,>=3.2.0->spacy==3.7.5)\n",
      "  Downloading marisa_trie-1.2.1-cp311-cp311-win_amd64.whl.metadata (9.3 kB)\n",
      "Requirement already satisfied: markdown-it-py<3.0.0,>=2.2.0 in c:\\users\\asus\\anaconda3\\lib\\site-packages (from rich>=10.11.0->typer<1.0.0,>=0.3.0->spacy==3.7.5) (2.2.0)\n",
      "Requirement already satisfied: pygments<3.0.0,>=2.13.0 in c:\\users\\asus\\anaconda3\\lib\\site-packages (from rich>=10.11.0->typer<1.0.0,>=0.3.0->spacy==3.7.5) (2.15.1)\n",
      "Requirement already satisfied: mdurl~=0.1 in c:\\users\\asus\\anaconda3\\lib\\site-packages (from markdown-it-py<3.0.0,>=2.2.0->rich>=10.11.0->typer<1.0.0,>=0.3.0->spacy==3.7.5) (0.1.0)\n",
      "Downloading spacy-3.7.5-cp311-cp311-win_amd64.whl (12.1 MB)\n",
      "   ---------------------------------------- 0.0/12.1 MB ? eta -:--:--\n",
      "   - -------------------------------------- 0.4/12.1 MB 12.9 MB/s eta 0:00:01\n",
      "   -- ------------------------------------- 0.8/12.1 MB 10.5 MB/s eta 0:00:02\n",
      "   ---- ----------------------------------- 1.3/12.1 MB 10.4 MB/s eta 0:00:02\n",
      "   ------ --------------------------------- 1.9/12.1 MB 11.2 MB/s eta 0:00:01\n",
      "   -------- ------------------------------- 2.5/12.1 MB 10.5 MB/s eta 0:00:01\n",
      "   --------- ------------------------------ 3.0/12.1 MB 10.7 MB/s eta 0:00:01\n",
      "   ----------- ---------------------------- 3.6/12.1 MB 10.8 MB/s eta 0:00:01\n",
      "   ------------- -------------------------- 4.0/12.1 MB 10.6 MB/s eta 0:00:01\n",
      "   --------------- ------------------------ 4.6/12.1 MB 10.8 MB/s eta 0:00:01\n",
      "   ---------------- ----------------------- 5.0/12.1 MB 10.7 MB/s eta 0:00:01\n",
      "   ----------------- ---------------------- 5.3/12.1 MB 10.6 MB/s eta 0:00:01\n",
      "   ------------------ --------------------- 5.6/12.1 MB 10.2 MB/s eta 0:00:01\n",
      "   ------------------- -------------------- 5.8/12.1 MB 10.1 MB/s eta 0:00:01\n",
      "   ------------------- -------------------- 5.8/12.1 MB 10.1 MB/s eta 0:00:01\n",
      "   ------------------- -------------------- 5.8/12.1 MB 10.1 MB/s eta 0:00:01\n",
      "   ------------------- -------------------- 5.8/12.1 MB 10.1 MB/s eta 0:00:01\n",
      "   ------------------- -------------------- 5.8/12.1 MB 10.1 MB/s eta 0:00:01\n",
      "   ------------------- -------------------- 6.0/12.1 MB 7.2 MB/s eta 0:00:01\n",
      "   --------------------- ------------------ 6.5/12.1 MB 7.5 MB/s eta 0:00:01\n",
      "   ---------------------- ----------------- 6.9/12.1 MB 7.6 MB/s eta 0:00:01\n",
      "   ------------------------ --------------- 7.2/12.1 MB 7.6 MB/s eta 0:00:01\n",
      "   ------------------------- -------------- 7.7/12.1 MB 7.7 MB/s eta 0:00:01\n",
      "   -------------------------- ------------- 8.0/12.1 MB 7.8 MB/s eta 0:00:01\n",
      "   -------------------------- ------------- 8.0/12.1 MB 7.8 MB/s eta 0:00:01\n",
      "   -------------------------- ------------- 8.0/12.1 MB 7.8 MB/s eta 0:00:01\n",
      "   -------------------------- ------------- 8.0/12.1 MB 7.8 MB/s eta 0:00:01\n",
      "   -------------------------- ------------- 8.0/12.1 MB 7.8 MB/s eta 0:00:01\n",
      "   -------------------------- ------------- 8.1/12.1 MB 6.5 MB/s eta 0:00:01\n",
      "   ---------------------------- ----------- 8.5/12.1 MB 6.6 MB/s eta 0:00:01\n",
      "   ----------------------------- ---------- 9.0/12.1 MB 6.7 MB/s eta 0:00:01\n",
      "   ------------------------------- -------- 9.5/12.1 MB 6.9 MB/s eta 0:00:01\n",
      "   -------------------------------- ------- 9.9/12.1 MB 6.9 MB/s eta 0:00:01\n",
      "   --------------------------------- ------ 10.2/12.1 MB 6.8 MB/s eta 0:00:01\n",
      "   ---------------------------------- ----- 10.4/12.1 MB 6.8 MB/s eta 0:00:01\n",
      "   ----------------------------------- ---- 10.6/12.1 MB 6.7 MB/s eta 0:00:01\n",
      "   ----------------------------------- ---- 10.9/12.1 MB 6.6 MB/s eta 0:00:01\n",
      "   ------------------------------------ --- 11.0/12.1 MB 6.5 MB/s eta 0:00:01\n",
      "   ------------------------------------- -- 11.3/12.1 MB 6.4 MB/s eta 0:00:01\n",
      "   ------------------------------------- -- 11.5/12.1 MB 6.4 MB/s eta 0:00:01\n",
      "   -------------------------------------- - 11.7/12.1 MB 6.2 MB/s eta 0:00:01\n",
      "   ---------------------------------------  11.9/12.1 MB 6.1 MB/s eta 0:00:01\n",
      "   ---------------------------------------  12.1/12.1 MB 6.0 MB/s eta 0:00:01\n",
      "   ---------------------------------------- 12.1/12.1 MB 5.8 MB/s eta 0:00:00\n",
      "Downloading catalogue-2.0.10-py3-none-any.whl (17 kB)\n",
      "Downloading cymem-2.0.11-cp311-cp311-win_amd64.whl (39 kB)\n",
      "Downloading langcodes-3.5.0-py3-none-any.whl (182 kB)\n",
      "   ---------------------------------------- 0.0/183.0 kB ? eta -:--:--\n",
      "   ------------------------------------- - 174.1/183.0 kB 10.2 MB/s eta 0:00:01\n",
      "   ---------------------------------------- 183.0/183.0 kB 3.7 MB/s eta 0:00:00\n",
      "Downloading murmurhash-1.0.12-cp311-cp311-win_amd64.whl (25 kB)\n",
      "Downloading preshed-3.0.9-cp311-cp311-win_amd64.whl (122 kB)\n",
      "   ---------------------------------------- 0.0/122.3 kB ? eta -:--:--\n",
      "   ---------------------------------------- 122.3/122.3 kB 3.5 MB/s eta 0:00:00\n",
      "Downloading spacy_legacy-3.0.12-py2.py3-none-any.whl (29 kB)\n",
      "Downloading spacy_loggers-1.0.5-py3-none-any.whl (22 kB)\n",
      "Downloading srsly-2.5.1-cp311-cp311-win_amd64.whl (632 kB)\n",
      "   ---------------------------------------- 0.0/632.6 kB ? eta -:--:--\n",
      "   -------------------------- ------------- 419.8/632.6 kB 8.7 MB/s eta 0:00:01\n",
      "   ---------------------------------------- 632.6/632.6 kB 8.0 MB/s eta 0:00:00\n",
      "Downloading thinc-8.2.5-cp311-cp311-win_amd64.whl (1.5 MB)\n",
      "   ---------------------------------------- 0.0/1.5 MB ? eta -:--:--\n",
      "   ------------ --------------------------- 0.5/1.5 MB 14.4 MB/s eta 0:00:01\n",
      "   -------------------------- ------------- 1.0/1.5 MB 10.5 MB/s eta 0:00:01\n",
      "   ---------------------------------------  1.5/1.5 MB 11.7 MB/s eta 0:00:01\n",
      "   ---------------------------------------  1.5/1.5 MB 11.7 MB/s eta 0:00:01\n",
      "   ---------------------------------------- 1.5/1.5 MB 8.5 MB/s eta 0:00:00\n",
      "Downloading typer-0.15.2-py3-none-any.whl (45 kB)\n",
      "   ---------------------------------------- 0.0/45.1 kB ? eta -:--:--\n",
      "   ---------------------------------------- 45.1/45.1 kB 2.3 MB/s eta 0:00:00\n",
      "Downloading wasabi-1.1.3-py3-none-any.whl (27 kB)\n",
      "Downloading weasel-0.4.1-py3-none-any.whl (50 kB)\n",
      "   ---------------------------------------- 0.0/50.3 kB ? eta -:--:--\n",
      "   ---------------------------------------- 50.3/50.3 kB 2.5 MB/s eta 0:00:00\n",
      "Downloading blis-0.7.11-cp311-cp311-win_amd64.whl (6.6 MB)\n",
      "   ---------------------------------------- 0.0/6.6 MB ? eta -:--:--\n",
      "   --- ------------------------------------ 0.5/6.6 MB 16.8 MB/s eta 0:00:01\n",
      "   ------ --------------------------------- 1.1/6.6 MB 13.4 MB/s eta 0:00:01\n",
      "   -------- ------------------------------- 1.5/6.6 MB 11.7 MB/s eta 0:00:01\n",
      "   ----------- ---------------------------- 1.9/6.6 MB 12.0 MB/s eta 0:00:01\n",
      "   ------------- -------------------------- 2.2/6.6 MB 11.0 MB/s eta 0:00:01\n",
      "   ---------------- ----------------------- 2.7/6.6 MB 10.6 MB/s eta 0:00:01\n",
      "   ---------------- ----------------------- 2.7/6.6 MB 10.2 MB/s eta 0:00:01\n",
      "   ----------------- ---------------------- 2.9/6.6 MB 8.8 MB/s eta 0:00:01\n",
      "   -------------------- ------------------- 3.3/6.6 MB 8.9 MB/s eta 0:00:01\n",
      "   ----------------------- ---------------- 3.9/6.6 MB 9.1 MB/s eta 0:00:01\n",
      "   ------------------------ --------------- 4.0/6.6 MB 8.3 MB/s eta 0:00:01\n",
      "   -------------------------- ------------- 4.4/6.6 MB 8.2 MB/s eta 0:00:01\n",
      "   --------------------------- ------------ 4.6/6.6 MB 7.9 MB/s eta 0:00:01\n",
      "   ----------------------------- ---------- 4.8/6.6 MB 7.7 MB/s eta 0:00:01\n",
      "   ------------------------------ --------- 5.0/6.6 MB 7.6 MB/s eta 0:00:01\n",
      "   ------------------------------- -------- 5.2/6.6 MB 7.2 MB/s eta 0:00:01\n",
      "   -------------------------------- ------- 5.4/6.6 MB 7.2 MB/s eta 0:00:01\n",
      "   ---------------------------------- ----- 5.6/6.6 MB 7.1 MB/s eta 0:00:01\n",
      "   ----------------------------------- ---- 5.8/6.6 MB 6.9 MB/s eta 0:00:01\n",
      "   ------------------------------------ --- 6.1/6.6 MB 6.8 MB/s eta 0:00:01\n",
      "   ------------------------------------- -- 6.2/6.6 MB 6.8 MB/s eta 0:00:01\n",
      "   ---------------------------------------  6.5/6.6 MB 6.7 MB/s eta 0:00:01\n",
      "   ---------------------------------------  6.6/6.6 MB 6.6 MB/s eta 0:00:01\n",
      "   ---------------------------------------- 6.6/6.6 MB 6.4 MB/s eta 0:00:00\n",
      "Downloading cloudpathlib-0.21.0-py3-none-any.whl (52 kB)\n",
      "   ---------------------------------------- 0.0/52.7 kB ? eta -:--:--\n",
      "   ---------------------------------------- 52.7/52.7 kB 2.7 MB/s eta 0:00:00\n",
      "Downloading confection-0.1.5-py3-none-any.whl (35 kB)\n",
      "Downloading language_data-1.3.0-py3-none-any.whl (5.4 MB)\n",
      "   ---------------------------------------- 0.0/5.4 MB ? eta -:--:--\n",
      "   -- ------------------------------------- 0.3/5.4 MB 8.9 MB/s eta 0:00:01\n",
      "   ---- ----------------------------------- 0.6/5.4 MB 5.8 MB/s eta 0:00:01\n",
      "   ----- ---------------------------------- 0.7/5.4 MB 5.9 MB/s eta 0:00:01\n",
      "   ------- -------------------------------- 1.0/5.4 MB 5.8 MB/s eta 0:00:01\n",
      "   --------- ------------------------------ 1.3/5.4 MB 5.7 MB/s eta 0:00:01\n",
      "   ---------- ----------------------------- 1.5/5.4 MB 5.5 MB/s eta 0:00:01\n",
      "   ------------ --------------------------- 1.7/5.4 MB 5.4 MB/s eta 0:00:01\n",
      "   --------------- ------------------------ 2.1/5.4 MB 5.8 MB/s eta 0:00:01\n",
      "   ------------------ --------------------- 2.5/5.4 MB 6.4 MB/s eta 0:00:01\n",
      "   --------------------- ------------------ 2.9/5.4 MB 6.7 MB/s eta 0:00:01\n",
      "   ----------------------- ---------------- 3.2/5.4 MB 6.5 MB/s eta 0:00:01\n",
      "   ------------------------- -------------- 3.4/5.4 MB 6.3 MB/s eta 0:00:01\n",
      "   -------------------------- ------------- 3.6/5.4 MB 6.2 MB/s eta 0:00:01\n",
      "   ---------------------------- ----------- 3.8/5.4 MB 6.0 MB/s eta 0:00:01\n",
      "   ----------------------------- ---------- 4.0/5.4 MB 5.9 MB/s eta 0:00:01\n",
      "   ------------------------------- -------- 4.2/5.4 MB 5.9 MB/s eta 0:00:01\n",
      "   -------------------------------- ------- 4.4/5.4 MB 5.8 MB/s eta 0:00:01\n",
      "   --------------------------------- ------ 4.6/5.4 MB 5.7 MB/s eta 0:00:01\n",
      "   ----------------------------------- ---- 4.8/5.4 MB 5.7 MB/s eta 0:00:01\n",
      "   ------------------------------------- -- 5.1/5.4 MB 5.7 MB/s eta 0:00:01\n",
      "   ---------------------------------------  5.3/5.4 MB 5.7 MB/s eta 0:00:01\n",
      "   ---------------------------------------  5.3/5.4 MB 5.7 MB/s eta 0:00:01\n",
      "   ---------------------------------------  5.3/5.4 MB 5.7 MB/s eta 0:00:01\n",
      "   ---------------------------------------  5.3/5.4 MB 5.7 MB/s eta 0:00:01\n",
      "   ---------------------------------------  5.3/5.4 MB 5.7 MB/s eta 0:00:01\n",
      "   ---------------------------------------  5.3/5.4 MB 5.7 MB/s eta 0:00:01\n",
      "   ---------------------------------------- 5.4/5.4 MB 4.5 MB/s eta 0:00:00\n",
      "Downloading shellingham-1.5.4-py2.py3-none-any.whl (9.8 kB)\n",
      "Downloading marisa_trie-1.2.1-cp311-cp311-win_amd64.whl (152 kB)\n",
      "   ---------------------------------------- 0.0/152.0 kB ? eta -:--:--\n",
      "   ---------------------------------------- 152.0/152.0 kB 9.5 MB/s eta 0:00:00\n",
      "Installing collected packages: cymem, wasabi, spacy-loggers, spacy-legacy, shellingham, murmurhash, marisa-trie, cloudpathlib, catalogue, blis, srsly, preshed, language-data, typer, langcodes, confection, weasel, thinc, spacy\n",
      "Successfully installed blis-0.7.11 catalogue-2.0.10 cloudpathlib-0.21.0 confection-0.1.5 cymem-2.0.11 langcodes-3.5.0 language-data-1.3.0 marisa-trie-1.2.1 murmurhash-1.0.12 preshed-3.0.9 shellingham-1.5.4 spacy-3.7.5 spacy-legacy-3.0.12 spacy-loggers-1.0.5 srsly-2.5.1 thinc-8.2.5 typer-0.15.2 wasabi-1.1.3 weasel-0.4.1\n"
     ]
    },
    {
     "name": "stdout",
     "output_type": "stream",
     "text": [
      "Collecting scipy==1.12\n",
      "  Downloading scipy-1.12.0-cp311-cp311-win_amd64.whl.metadata (60 kB)\n",
      "     ---------------------------------------- 0.0/60.4 kB ? eta -:--:--\n",
      "     ---------------------------------------- 60.4/60.4 kB 1.6 MB/s eta 0:00:00\n",
      "Requirement already satisfied: numpy<1.29.0,>=1.22.4 in c:\\users\\asus\\anaconda3\\lib\\site-packages (from scipy==1.12) (1.26.4)\n",
      "Downloading scipy-1.12.0-cp311-cp311-win_amd64.whl (46.2 MB)\n",
      "   ---------------------------------------- 0.0/46.2 MB ? eta -:--:--\n",
      "   ---------------------------------------- 0.5/46.2 MB 15.9 MB/s eta 0:00:03\n",
      "    --------------------------------------- 1.0/46.2 MB 12.9 MB/s eta 0:00:04\n",
      "    --------------------------------------- 1.0/46.2 MB 13.3 MB/s eta 0:00:04\n",
      "    --------------------------------------- 1.0/46.2 MB 13.3 MB/s eta 0:00:04\n",
      "    --------------------------------------- 1.0/46.2 MB 13.3 MB/s eta 0:00:04\n",
      "   - -------------------------------------- 1.5/46.2 MB 5.6 MB/s eta 0:00:09\n",
      "   - -------------------------------------- 1.9/46.2 MB 6.1 MB/s eta 0:00:08\n",
      "   - -------------------------------------- 2.2/46.2 MB 6.2 MB/s eta 0:00:08\n",
      "   -- ------------------------------------- 2.7/46.2 MB 6.6 MB/s eta 0:00:07\n",
      "   -- ------------------------------------- 3.2/46.2 MB 7.3 MB/s eta 0:00:06\n",
      "   --- ------------------------------------ 3.6/46.2 MB 7.5 MB/s eta 0:00:06\n",
      "   --- ------------------------------------ 4.1/46.2 MB 8.0 MB/s eta 0:00:06\n",
      "   ---- ----------------------------------- 4.7/46.2 MB 8.4 MB/s eta 0:00:05\n",
      "   ---- ----------------------------------- 5.2/46.2 MB 8.5 MB/s eta 0:00:05\n",
      "   ---- ----------------------------------- 5.7/46.2 MB 8.7 MB/s eta 0:00:05\n",
      "   ----- ---------------------------------- 6.2/46.2 MB 8.9 MB/s eta 0:00:05\n",
      "   ----- ---------------------------------- 6.4/46.2 MB 8.9 MB/s eta 0:00:05\n",
      "   ----- ---------------------------------- 6.4/46.2 MB 8.9 MB/s eta 0:00:05\n",
      "   ----- ---------------------------------- 6.4/46.2 MB 8.9 MB/s eta 0:00:05\n",
      "   ----- ---------------------------------- 6.4/46.2 MB 8.9 MB/s eta 0:00:05\n",
      "   ----- ---------------------------------- 6.4/46.2 MB 8.9 MB/s eta 0:00:05\n",
      "   ----- ---------------------------------- 6.7/46.2 MB 6.9 MB/s eta 0:00:06\n",
      "   ------ --------------------------------- 7.1/46.2 MB 7.0 MB/s eta 0:00:06\n",
      "   ------ --------------------------------- 7.6/46.2 MB 7.2 MB/s eta 0:00:06\n",
      "   ------- -------------------------------- 8.2/46.2 MB 7.4 MB/s eta 0:00:06\n",
      "   ------- -------------------------------- 8.3/46.2 MB 7.4 MB/s eta 0:00:06\n",
      "   ------- -------------------------------- 8.3/46.2 MB 7.4 MB/s eta 0:00:06\n",
      "   ------- -------------------------------- 8.3/46.2 MB 7.4 MB/s eta 0:00:06\n",
      "   ------- -------------------------------- 8.3/46.2 MB 7.4 MB/s eta 0:00:06\n",
      "   ------- -------------------------------- 8.5/46.2 MB 6.2 MB/s eta 0:00:07\n",
      "   ------- -------------------------------- 9.1/46.2 MB 6.4 MB/s eta 0:00:06\n",
      "   -------- ------------------------------- 9.5/46.2 MB 6.6 MB/s eta 0:00:06\n",
      "   -------- ------------------------------- 10.0/46.2 MB 6.7 MB/s eta 0:00:06\n",
      "   -------- ------------------------------- 10.2/46.2 MB 6.8 MB/s eta 0:00:06\n",
      "   -------- ------------------------------- 10.2/46.2 MB 6.8 MB/s eta 0:00:06\n",
      "   -------- ------------------------------- 10.2/46.2 MB 6.8 MB/s eta 0:00:06\n",
      "   -------- ------------------------------- 10.2/46.2 MB 6.8 MB/s eta 0:00:06\n",
      "   -------- ------------------------------- 10.2/46.2 MB 6.8 MB/s eta 0:00:06\n",
      "   -------- ------------------------------- 10.3/46.2 MB 5.8 MB/s eta 0:00:07\n",
      "   --------- ------------------------------ 10.8/46.2 MB 5.8 MB/s eta 0:00:07\n",
      "   --------- ------------------------------ 11.3/46.2 MB 6.4 MB/s eta 0:00:06\n",
      "   ---------- ----------------------------- 11.8/46.2 MB 6.4 MB/s eta 0:00:06\n",
      "   ---------- ----------------------------- 12.1/46.2 MB 6.4 MB/s eta 0:00:06\n",
      "   ---------- ----------------------------- 12.3/46.2 MB 6.4 MB/s eta 0:00:06\n",
      "   ---------- ----------------------------- 12.6/46.2 MB 6.3 MB/s eta 0:00:06\n",
      "   ----------- ---------------------------- 12.7/46.2 MB 6.3 MB/s eta 0:00:06\n",
      "   ----------- ---------------------------- 12.7/46.2 MB 6.3 MB/s eta 0:00:06\n",
      "   ----------- ---------------------------- 12.7/46.2 MB 6.3 MB/s eta 0:00:06\n",
      "   ----------- ---------------------------- 12.7/46.2 MB 6.3 MB/s eta 0:00:06\n",
      "   ----------- ---------------------------- 12.7/46.2 MB 5.5 MB/s eta 0:00:07\n",
      "   ----------- ---------------------------- 13.3/46.2 MB 5.5 MB/s eta 0:00:06\n",
      "   ----------- ---------------------------- 13.8/46.2 MB 5.5 MB/s eta 0:00:06\n",
      "   ------------ --------------------------- 14.3/46.2 MB 5.5 MB/s eta 0:00:06\n",
      "   ------------ --------------------------- 14.7/46.2 MB 5.5 MB/s eta 0:00:06\n",
      "   ------------ --------------------------- 14.8/46.2 MB 5.4 MB/s eta 0:00:06\n",
      "   ------------- -------------------------- 15.0/46.2 MB 5.3 MB/s eta 0:00:06\n",
      "   ------------- -------------------------- 15.2/46.2 MB 5.3 MB/s eta 0:00:06\n",
      "   ------------- -------------------------- 15.5/46.2 MB 5.2 MB/s eta 0:00:06\n",
      "   ------------- -------------------------- 15.7/46.2 MB 5.2 MB/s eta 0:00:06\n",
      "   ------------- -------------------------- 15.9/46.2 MB 5.1 MB/s eta 0:00:06\n",
      "   ------------- -------------------------- 16.1/46.2 MB 5.0 MB/s eta 0:00:07\n",
      "   -------------- ------------------------- 16.3/46.2 MB 4.9 MB/s eta 0:00:07\n",
      "   -------------- ------------------------- 16.6/46.2 MB 5.5 MB/s eta 0:00:06\n",
      "   -------------- ------------------------- 16.9/46.2 MB 5.4 MB/s eta 0:00:06\n",
      "   -------------- ------------------------- 17.1/46.2 MB 5.3 MB/s eta 0:00:06\n",
      "   -------------- ------------------------- 17.2/46.2 MB 5.3 MB/s eta 0:00:06\n",
      "   -------------- ------------------------- 17.2/46.2 MB 5.3 MB/s eta 0:00:06\n",
      "   -------------- ------------------------- 17.2/46.2 MB 5.3 MB/s eta 0:00:06\n",
      "   -------------- ------------------------- 17.2/46.2 MB 5.3 MB/s eta 0:00:06\n",
      "   -------------- ------------------------- 17.2/46.2 MB 4.7 MB/s eta 0:00:07\n",
      "   --------------- ------------------------ 17.7/46.2 MB 4.7 MB/s eta 0:00:07\n",
      "   --------------- ------------------------ 18.2/46.2 MB 4.7 MB/s eta 0:00:06\n",
      "   ---------------- ----------------------- 18.5/46.2 MB 4.7 MB/s eta 0:00:06\n",
      "   ---------------- ----------------------- 19.1/46.2 MB 5.2 MB/s eta 0:00:06\n",
      "   ---------------- ----------------------- 19.3/46.2 MB 5.2 MB/s eta 0:00:06\n",
      "   ---------------- ----------------------- 19.5/46.2 MB 5.2 MB/s eta 0:00:06\n",
      "   ---------------- ----------------------- 19.5/46.2 MB 5.2 MB/s eta 0:00:06\n",
      "   ---------------- ----------------------- 19.5/46.2 MB 5.2 MB/s eta 0:00:06\n",
      "   ---------------- ----------------------- 19.5/46.2 MB 5.2 MB/s eta 0:00:06\n",
      "   ----------------- ---------------------- 19.7/46.2 MB 4.6 MB/s eta 0:00:06\n",
      "   ----------------- ---------------------- 20.3/46.2 MB 4.7 MB/s eta 0:00:06\n",
      "   ----------------- ---------------------- 20.8/46.2 MB 5.2 MB/s eta 0:00:05\n",
      "   ------------------ --------------------- 21.3/46.2 MB 5.2 MB/s eta 0:00:05\n",
      "   ------------------ --------------------- 21.4/46.2 MB 5.2 MB/s eta 0:00:05\n",
      "   ------------------ --------------------- 21.4/46.2 MB 5.2 MB/s eta 0:00:05\n",
      "   ------------------ --------------------- 21.4/46.2 MB 5.2 MB/s eta 0:00:05\n",
      "   ------------------ --------------------- 21.4/46.2 MB 5.2 MB/s eta 0:00:05\n",
      "   ------------------ --------------------- 21.4/46.2 MB 5.2 MB/s eta 0:00:05\n",
      "   ------------------ --------------------- 21.9/46.2 MB 4.6 MB/s eta 0:00:06\n",
      "   ------------------- -------------------- 22.5/46.2 MB 4.7 MB/s eta 0:00:06\n",
      "   ------------------- -------------------- 23.0/46.2 MB 5.4 MB/s eta 0:00:05\n",
      "   ------------------- -------------------- 23.1/46.2 MB 5.3 MB/s eta 0:00:05\n",
      "   ------------------- -------------------- 23.1/46.2 MB 5.3 MB/s eta 0:00:05\n",
      "   -------------------- ------------------- 23.2/46.2 MB 5.0 MB/s eta 0:00:05\n",
      "   -------------------- ------------------- 23.8/46.2 MB 5.0 MB/s eta 0:00:05\n",
      "   --------------------- ------------------ 24.3/46.2 MB 5.0 MB/s eta 0:00:05\n",
      "   --------------------- ------------------ 24.5/46.2 MB 5.0 MB/s eta 0:00:05\n",
      "   --------------------- ------------------ 24.5/46.2 MB 5.0 MB/s eta 0:00:05\n",
      "   --------------------- ------------------ 24.5/46.2 MB 5.0 MB/s eta 0:00:05\n",
      "   --------------------- ------------------ 24.5/46.2 MB 5.0 MB/s eta 0:00:05\n",
      "   --------------------- ------------------ 24.5/46.2 MB 5.0 MB/s eta 0:00:05\n",
      "   --------------------- ------------------ 24.8/46.2 MB 4.5 MB/s eta 0:00:05\n",
      "   --------------------- ------------------ 25.4/46.2 MB 4.6 MB/s eta 0:00:05\n",
      "   ---------------------- ----------------- 26.0/46.2 MB 4.8 MB/s eta 0:00:05\n",
      "   ---------------------- ----------------- 26.2/46.2 MB 4.9 MB/s eta 0:00:05\n",
      "   ---------------------- ----------------- 26.2/46.2 MB 4.9 MB/s eta 0:00:05\n",
      "   ---------------------- ----------------- 26.2/46.2 MB 4.9 MB/s eta 0:00:05\n",
      "   ----------------------- ---------------- 26.6/46.2 MB 4.7 MB/s eta 0:00:05\n",
      "   ----------------------- ---------------- 27.2/46.2 MB 4.9 MB/s eta 0:00:04\n",
      "   ----------------------- ---------------- 27.6/46.2 MB 5.5 MB/s eta 0:00:04\n",
      "   ------------------------ --------------- 27.8/46.2 MB 5.3 MB/s eta 0:00:04\n",
      "   ------------------------ --------------- 27.8/46.2 MB 5.3 MB/s eta 0:00:04\n",
      "   ------------------------ --------------- 27.8/46.2 MB 5.3 MB/s eta 0:00:04\n",
      "   ------------------------ --------------- 27.8/46.2 MB 5.3 MB/s eta 0:00:04\n",
      "   ------------------------ --------------- 27.8/46.2 MB 5.3 MB/s eta 0:00:04\n",
      "   ------------------------ --------------- 27.9/46.2 MB 4.8 MB/s eta 0:00:04\n",
      "   ------------------------ --------------- 28.5/46.2 MB 4.8 MB/s eta 0:00:04\n",
      "   ------------------------- -------------- 28.9/46.2 MB 4.8 MB/s eta 0:00:04\n",
      "   ------------------------- -------------- 29.6/46.2 MB 4.8 MB/s eta 0:00:04\n",
      "   ------------------------- -------------- 29.8/46.2 MB 5.4 MB/s eta 0:00:04\n",
      "   ------------------------- -------------- 29.8/46.2 MB 5.4 MB/s eta 0:00:04\n",
      "   ------------------------- -------------- 29.8/46.2 MB 5.4 MB/s eta 0:00:04\n",
      "   ------------------------- -------------- 29.8/46.2 MB 5.4 MB/s eta 0:00:04\n",
      "   ------------------------- -------------- 29.8/46.2 MB 5.4 MB/s eta 0:00:04\n",
      "   -------------------------- ------------- 30.2/46.2 MB 4.8 MB/s eta 0:00:04\n",
      "   -------------------------- ------------- 30.9/46.2 MB 4.9 MB/s eta 0:00:04\n",
      "   --------------------------- ------------ 31.4/46.2 MB 4.8 MB/s eta 0:00:04\n",
      "   --------------------------- ------------ 31.5/46.2 MB 4.8 MB/s eta 0:00:04\n",
      "   --------------------------- ------------ 31.5/46.2 MB 4.8 MB/s eta 0:00:04\n",
      "   --------------------------- ------------ 31.5/46.2 MB 4.8 MB/s eta 0:00:04\n",
      "   --------------------------- ------------ 31.5/46.2 MB 4.8 MB/s eta 0:00:04\n",
      "   --------------------------- ------------ 31.5/46.2 MB 4.8 MB/s eta 0:00:04\n",
      "   --------------------------- ------------ 31.5/46.2 MB 4.8 MB/s eta 0:00:04\n",
      "   --------------------------- ------------ 31.5/46.2 MB 4.2 MB/s eta 0:00:04\n",
      "   --------------------------- ------------ 32.0/46.2 MB 4.7 MB/s eta 0:00:04\n",
      "   ---------------------------- ----------- 32.6/46.2 MB 4.7 MB/s eta 0:00:03\n",
      "   ---------------------------- ----------- 33.1/46.2 MB 4.7 MB/s eta 0:00:03\n",
      "   ----------------------------- ---------- 33.5/46.2 MB 5.0 MB/s eta 0:00:03\n",
      "   ----------------------------- ---------- 33.5/46.2 MB 5.0 MB/s eta 0:00:03\n",
      "   ----------------------------- ---------- 33.5/46.2 MB 5.0 MB/s eta 0:00:03\n",
      "   ----------------------------- ---------- 33.9/46.2 MB 4.7 MB/s eta 0:00:03\n",
      "   ----------------------------- ---------- 34.5/46.2 MB 4.7 MB/s eta 0:00:03\n",
      "   ------------------------------ --------- 35.1/46.2 MB 5.3 MB/s eta 0:00:03\n",
      "   ------------------------------ --------- 35.4/46.2 MB 5.2 MB/s eta 0:00:03\n",
      "   ------------------------------ --------- 35.5/46.2 MB 5.2 MB/s eta 0:00:03\n",
      "   ------------------------------ --------- 35.5/46.2 MB 5.2 MB/s eta 0:00:03\n",
      "   ------------------------------ --------- 35.5/46.2 MB 5.2 MB/s eta 0:00:03\n",
      "   ------------------------------ --------- 35.5/46.2 MB 5.2 MB/s eta 0:00:03\n",
      "   ------------------------------ --------- 35.6/46.2 MB 4.7 MB/s eta 0:00:03\n",
      "   ------------------------------- -------- 36.0/46.2 MB 4.6 MB/s eta 0:00:03\n",
      "   ------------------------------- -------- 36.6/46.2 MB 4.9 MB/s eta 0:00:02\n",
      "   -------------------------------- ------- 37.0/46.2 MB 4.8 MB/s eta 0:00:02\n",
      "   -------------------------------- ------- 37.6/46.2 MB 4.8 MB/s eta 0:00:02\n",
      "   -------------------------------- ------- 38.1/46.2 MB 5.5 MB/s eta 0:00:02\n",
      "   --------------------------------- ------ 38.3/46.2 MB 5.4 MB/s eta 0:00:02\n",
      "   --------------------------------- ------ 38.6/46.2 MB 5.3 MB/s eta 0:00:02\n",
      "   --------------------------------- ------ 38.8/46.2 MB 5.2 MB/s eta 0:00:02\n",
      "   --------------------------------- ------ 39.0/46.2 MB 5.2 MB/s eta 0:00:02\n",
      "   ---------------------------------- ----- 39.3/46.2 MB 5.1 MB/s eta 0:00:02\n",
      "   ---------------------------------- ----- 39.5/46.2 MB 5.1 MB/s eta 0:00:02\n",
      "   ---------------------------------- ----- 39.7/46.2 MB 5.0 MB/s eta 0:00:02\n",
      "   ---------------------------------- ----- 40.0/46.2 MB 4.9 MB/s eta 0:00:02\n",
      "   ---------------------------------- ----- 40.2/46.2 MB 5.4 MB/s eta 0:00:02\n",
      "   ---------------------------------- ----- 40.3/46.2 MB 5.3 MB/s eta 0:00:02\n",
      "   ----------------------------------- ---- 40.6/46.2 MB 5.3 MB/s eta 0:00:02\n",
      "   ----------------------------------- ---- 40.9/46.2 MB 5.2 MB/s eta 0:00:02\n",
      "   ----------------------------------- ---- 41.0/46.2 MB 5.2 MB/s eta 0:00:02\n",
      "   ----------------------------------- ---- 41.0/46.2 MB 5.2 MB/s eta 0:00:02\n",
      "   ----------------------------------- ---- 41.0/46.2 MB 5.2 MB/s eta 0:00:02\n",
      "   ----------------------------------- ---- 41.0/46.2 MB 5.2 MB/s eta 0:00:02\n",
      "   ----------------------------------- ---- 41.1/46.2 MB 4.6 MB/s eta 0:00:02\n",
      "   ------------------------------------ --- 41.7/46.2 MB 4.6 MB/s eta 0:00:01\n",
      "   ------------------------------------ --- 42.1/46.2 MB 5.4 MB/s eta 0:00:01\n",
      "   ------------------------------------ --- 42.5/46.2 MB 5.3 MB/s eta 0:00:01\n",
      "   ------------------------------------- -- 43.0/46.2 MB 5.4 MB/s eta 0:00:01\n",
      "   ------------------------------------- -- 43.2/46.2 MB 5.3 MB/s eta 0:00:01\n",
      "   ------------------------------------- -- 43.2/46.2 MB 5.3 MB/s eta 0:00:01\n",
      "   ------------------------------------- -- 43.2/46.2 MB 5.3 MB/s eta 0:00:01\n",
      "   ------------------------------------- -- 43.2/46.2 MB 5.3 MB/s eta 0:00:01\n",
      "   ------------------------------------- -- 43.2/46.2 MB 5.3 MB/s eta 0:00:01\n",
      "   ------------------------------------- -- 43.2/46.2 MB 4.7 MB/s eta 0:00:01\n",
      "   ------------------------------------- -- 43.7/46.2 MB 4.7 MB/s eta 0:00:01\n",
      "   -------------------------------------- - 44.2/46.2 MB 5.0 MB/s eta 0:00:01\n",
      "   -------------------------------------- - 44.7/46.2 MB 5.0 MB/s eta 0:00:01\n",
      "   ---------------------------------------  45.2/46.2 MB 5.0 MB/s eta 0:00:01\n",
      "   ---------------------------------------  45.3/46.2 MB 4.9 MB/s eta 0:00:01\n",
      "   ---------------------------------------  45.6/46.2 MB 4.9 MB/s eta 0:00:01\n",
      "   ---------------------------------------  45.9/46.2 MB 5.5 MB/s eta 0:00:01\n",
      "   ---------------------------------------  46.1/46.2 MB 5.4 MB/s eta 0:00:01\n",
      "   ---------------------------------------  46.2/46.2 MB 5.4 MB/s eta 0:00:01\n",
      "   ---------------------------------------  46.2/46.2 MB 5.4 MB/s eta 0:00:01\n",
      "   ---------------------------------------  46.2/46.2 MB 5.4 MB/s eta 0:00:01\n",
      "   ---------------------------------------  46.2/46.2 MB 5.4 MB/s eta 0:00:01\n",
      "   ---------------------------------------- 46.2/46.2 MB 4.8 MB/s eta 0:00:00\n",
      "Installing collected packages: scipy\n",
      "  Attempting uninstall: scipy\n",
      "    Found existing installation: scipy 1.10.1\n",
      "    Uninstalling scipy-1.10.1:\n",
      "      Successfully uninstalled scipy-1.10.1\n",
      "Successfully installed scipy-1.12.0\n"
     ]
    },
    {
     "name": "stderr",
     "output_type": "stream",
     "text": [
      "  WARNING: Failed to remove contents in a temporary directory 'C:\\Users\\asus\\anaconda3\\Lib\\site-packages\\~cipy.libs'.\n",
      "  You can safely remove it manually.\n",
      "  WARNING: Failed to remove contents in a temporary directory 'C:\\Users\\asus\\anaconda3\\Lib\\site-packages\\~cipy'.\n",
      "  You can safely remove it manually.\n",
      "ERROR: pip's dependency resolver does not currently take into account all the packages that are installed. This behaviour is the source of the following dependency conflicts.\n",
      "pyfume 0.3.4 requires numpy==1.24.4, but you have numpy 1.26.4 which is incompatible.\n",
      "pyfume 0.3.4 requires pandas==1.5.3, but you have pandas 2.2.2 which is incompatible.\n",
      "pyfume 0.3.4 requires scipy==1.10.1, but you have scipy 1.12.0 which is incompatible.\n"
     ]
    },
    {
     "name": "stdout",
     "output_type": "stream",
     "text": [
      "Collecting pydantic==2.10.5\n",
      "  Downloading pydantic-2.10.5-py3-none-any.whl.metadata (30 kB)\n",
      "Collecting annotated-types>=0.6.0 (from pydantic==2.10.5)\n",
      "  Downloading annotated_types-0.7.0-py3-none-any.whl.metadata (15 kB)\n",
      "Collecting pydantic-core==2.27.2 (from pydantic==2.10.5)\n",
      "  Downloading pydantic_core-2.27.2-cp311-cp311-win_amd64.whl.metadata (6.7 kB)\n",
      "Collecting typing-extensions>=4.12.2 (from pydantic==2.10.5)\n",
      "  Downloading typing_extensions-4.13.2-py3-none-any.whl.metadata (3.0 kB)\n",
      "Downloading pydantic-2.10.5-py3-none-any.whl (431 kB)\n",
      "   ---------------------------------------- 0.0/431.4 kB ? eta -:--:--\n",
      "   ---------------------------------------  430.1/431.4 kB 8.9 MB/s eta 0:00:01\n",
      "   ---------------------------------------- 431.4/431.4 kB 9.0 MB/s eta 0:00:00\n",
      "Downloading pydantic_core-2.27.2-cp311-cp311-win_amd64.whl (2.0 MB)\n",
      "   ---------------------------------------- 0.0/2.0 MB ? eta -:--:--\n",
      "   ---------- ----------------------------- 0.5/2.0 MB 16.5 MB/s eta 0:00:01\n",
      "   ----------------------- ---------------- 1.1/2.0 MB 14.6 MB/s eta 0:00:01\n",
      "   ----------------------------------- ---- 1.8/2.0 MB 15.8 MB/s eta 0:00:01\n",
      "   ---------------------------------------- 2.0/2.0 MB 12.6 MB/s eta 0:00:00\n",
      "Downloading annotated_types-0.7.0-py3-none-any.whl (13 kB)\n",
      "Downloading typing_extensions-4.13.2-py3-none-any.whl (45 kB)\n",
      "   ---------------------------------------- 0.0/45.8 kB ? eta -:--:--\n",
      "   ---------------------------------------- 45.8/45.8 kB 2.4 MB/s eta 0:00:00\n",
      "Installing collected packages: typing-extensions, annotated-types, pydantic-core, pydantic\n",
      "  Attempting uninstall: typing-extensions\n",
      "    Found existing installation: typing_extensions 4.9.0\n",
      "    Uninstalling typing_extensions-4.9.0:\n",
      "      Successfully uninstalled typing_extensions-4.9.0\n",
      "  Attempting uninstall: pydantic\n",
      "    Found existing installation: pydantic 1.10.12\n",
      "    Uninstalling pydantic-1.10.12:\n",
      "      Successfully uninstalled pydantic-1.10.12\n",
      "Successfully installed annotated-types-0.7.0 pydantic-2.10.5 pydantic-core-2.27.2 typing-extensions-4.13.2\n"
     ]
    },
    {
     "name": "stderr",
     "output_type": "stream",
     "text": [
      "  WARNING: Failed to remove contents in a temporary directory 'C:\\Users\\asus\\anaconda3\\Lib\\site-packages\\~ydantic'.\n",
      "  You can safely remove it manually.\n",
      "ERROR: pip's dependency resolver does not currently take into account all the packages that are installed. This behaviour is the source of the following dependency conflicts.\n",
      "anaconda-cloud-auth 0.1.4 requires pydantic<2.0, but you have pydantic 2.10.5 which is incompatible.\n"
     ]
    },
    {
     "name": "stdout",
     "output_type": "stream",
     "text": [
      "Collecting wordcloud==1.9.4\n",
      "  Downloading wordcloud-1.9.4-cp311-cp311-win_amd64.whl.metadata (3.5 kB)\n",
      "Requirement already satisfied: numpy>=1.6.1 in c:\\users\\asus\\anaconda3\\lib\\site-packages (from wordcloud==1.9.4) (1.26.4)\n",
      "Requirement already satisfied: pillow in c:\\users\\asus\\anaconda3\\lib\\site-packages (from wordcloud==1.9.4) (10.2.0)\n",
      "Requirement already satisfied: matplotlib in c:\\users\\asus\\anaconda3\\lib\\site-packages (from wordcloud==1.9.4) (3.8.0)\n",
      "Requirement already satisfied: contourpy>=1.0.1 in c:\\users\\asus\\anaconda3\\lib\\site-packages (from matplotlib->wordcloud==1.9.4) (1.2.0)\n",
      "Requirement already satisfied: cycler>=0.10 in c:\\users\\asus\\anaconda3\\lib\\site-packages (from matplotlib->wordcloud==1.9.4) (0.11.0)\n",
      "Requirement already satisfied: fonttools>=4.22.0 in c:\\users\\asus\\anaconda3\\lib\\site-packages (from matplotlib->wordcloud==1.9.4) (4.25.0)\n",
      "Requirement already satisfied: kiwisolver>=1.0.1 in c:\\users\\asus\\anaconda3\\lib\\site-packages (from matplotlib->wordcloud==1.9.4) (1.4.4)\n",
      "Requirement already satisfied: packaging>=20.0 in c:\\users\\asus\\anaconda3\\lib\\site-packages (from matplotlib->wordcloud==1.9.4) (23.1)\n",
      "Requirement already satisfied: pyparsing>=2.3.1 in c:\\users\\asus\\anaconda3\\lib\\site-packages (from matplotlib->wordcloud==1.9.4) (3.2.0)\n",
      "Requirement already satisfied: python-dateutil>=2.7 in c:\\users\\asus\\anaconda3\\lib\\site-packages (from matplotlib->wordcloud==1.9.4) (2.8.2)\n",
      "Requirement already satisfied: six>=1.5 in c:\\users\\asus\\anaconda3\\lib\\site-packages (from python-dateutil>=2.7->matplotlib->wordcloud==1.9.4) (1.16.0)\n",
      "Downloading wordcloud-1.9.4-cp311-cp311-win_amd64.whl (299 kB)\n",
      "   ---------------------------------------- 0.0/299.9 kB ? eta -:--:--\n",
      "   ---------------------------------------- 0.0/299.9 kB ? eta -:--:--\n",
      "   --- ----------------------------------- 30.7/299.9 kB 660.6 kB/s eta 0:00:01\n",
      "   --------------------------- ------------ 204.8/299.9 kB 2.5 MB/s eta 0:00:01\n",
      "   ---------------------------------------- 299.9/299.9 kB 2.7 MB/s eta 0:00:00\n",
      "Installing collected packages: wordcloud\n",
      "Successfully installed wordcloud-1.9.4\n",
      "Collecting en-core-web-sm==3.7.1\n",
      "  Downloading https://github.com/explosion/spacy-models/releases/download/en_core_web_sm-3.7.1/en_core_web_sm-3.7.1-py3-none-any.whl (12.8 MB)\n",
      "     ---------------------------------------- 0.0/12.8 MB ? eta -:--:--\n",
      "     ---------------------------------------- 0.0/12.8 MB ? eta -:--:--\n",
      "     --------------------------------------- 0.0/12.8 MB 165.2 kB/s eta 0:01:18\n",
      "     --------------------------------------- 0.0/12.8 MB 245.8 kB/s eta 0:00:52\n",
      "     --------------------------------------- 0.1/12.8 MB 416.7 kB/s eta 0:00:31\n",
      "      -------------------------------------- 0.2/12.8 MB 841.6 kB/s eta 0:00:15\n",
      "      --------------------------------------- 0.3/12.8 MB 1.1 MB/s eta 0:00:12\n",
      "     - -------------------------------------- 0.4/12.8 MB 1.3 MB/s eta 0:00:10\n",
      "     - -------------------------------------- 0.5/12.8 MB 1.5 MB/s eta 0:00:09\n",
      "     -- ------------------------------------- 0.7/12.8 MB 1.7 MB/s eta 0:00:08\n",
      "     -- ------------------------------------- 0.7/12.8 MB 1.7 MB/s eta 0:00:08\n",
      "     -- ------------------------------------- 0.9/12.8 MB 1.8 MB/s eta 0:00:07\n",
      "     --- ------------------------------------ 1.0/12.8 MB 1.9 MB/s eta 0:00:07\n",
      "     --- ------------------------------------ 1.1/12.8 MB 1.9 MB/s eta 0:00:07\n",
      "     --- ------------------------------------ 1.2/12.8 MB 2.0 MB/s eta 0:00:06\n",
      "     ---- ----------------------------------- 1.3/12.8 MB 2.0 MB/s eta 0:00:06\n",
      "     ---- ----------------------------------- 1.4/12.8 MB 2.0 MB/s eta 0:00:06\n",
      "     ---- ----------------------------------- 1.5/12.8 MB 2.0 MB/s eta 0:00:06\n",
      "     ----- ---------------------------------- 1.6/12.8 MB 2.1 MB/s eta 0:00:06\n",
      "     ----- ---------------------------------- 1.7/12.8 MB 2.1 MB/s eta 0:00:06\n",
      "     ----- ---------------------------------- 1.8/12.8 MB 2.1 MB/s eta 0:00:06\n",
      "     ------ --------------------------------- 2.0/12.8 MB 2.1 MB/s eta 0:00:06\n",
      "     ------ --------------------------------- 2.0/12.8 MB 2.1 MB/s eta 0:00:06\n",
      "     ------ --------------------------------- 2.2/12.8 MB 2.1 MB/s eta 0:00:05\n",
      "     ------- -------------------------------- 2.3/12.8 MB 2.2 MB/s eta 0:00:05\n",
      "     ------- -------------------------------- 2.4/12.8 MB 2.2 MB/s eta 0:00:05\n",
      "     ------- -------------------------------- 2.5/12.8 MB 2.2 MB/s eta 0:00:05\n",
      "     -------- ------------------------------- 2.6/12.8 MB 2.2 MB/s eta 0:00:05\n",
      "     -------- ------------------------------- 2.7/12.8 MB 2.2 MB/s eta 0:00:05\n",
      "     -------- ------------------------------- 2.8/12.8 MB 2.2 MB/s eta 0:00:05\n",
      "     --------- ------------------------------ 2.9/12.8 MB 2.2 MB/s eta 0:00:05\n",
      "     --------- ------------------------------ 3.0/12.8 MB 2.2 MB/s eta 0:00:05\n",
      "     --------- ------------------------------ 3.2/12.8 MB 2.2 MB/s eta 0:00:05\n",
      "     ---------- ----------------------------- 3.3/12.8 MB 2.2 MB/s eta 0:00:05\n",
      "     ---------- ----------------------------- 3.4/12.8 MB 2.3 MB/s eta 0:00:05\n",
      "     ----------- ---------------------------- 3.5/12.8 MB 2.3 MB/s eta 0:00:05\n",
      "     ----------- ---------------------------- 3.6/12.8 MB 2.3 MB/s eta 0:00:05\n",
      "     ----------- ---------------------------- 3.7/12.8 MB 2.3 MB/s eta 0:00:04\n",
      "     ----------- ---------------------------- 3.8/12.8 MB 2.3 MB/s eta 0:00:04\n",
      "     ------------ --------------------------- 3.9/12.8 MB 2.3 MB/s eta 0:00:04\n",
      "     ------------ --------------------------- 4.0/12.8 MB 2.3 MB/s eta 0:00:04\n",
      "     ------------ --------------------------- 4.2/12.8 MB 2.3 MB/s eta 0:00:04\n",
      "     ------------- -------------------------- 4.3/12.8 MB 2.3 MB/s eta 0:00:04\n",
      "     ------------- -------------------------- 4.4/12.8 MB 2.3 MB/s eta 0:00:04\n",
      "     ------------- -------------------------- 4.5/12.8 MB 2.3 MB/s eta 0:00:04\n",
      "     -------------- ------------------------- 4.6/12.8 MB 2.3 MB/s eta 0:00:04\n",
      "     -------------- ------------------------- 4.7/12.8 MB 2.3 MB/s eta 0:00:04\n",
      "     --------------- ------------------------ 4.8/12.8 MB 2.3 MB/s eta 0:00:04\n",
      "     --------------- ------------------------ 5.0/12.8 MB 2.3 MB/s eta 0:00:04\n",
      "     --------------- ------------------------ 5.1/12.8 MB 2.3 MB/s eta 0:00:04\n",
      "     ---------------- ----------------------- 5.2/12.8 MB 2.3 MB/s eta 0:00:04\n",
      "     ---------------- ----------------------- 5.3/12.8 MB 2.4 MB/s eta 0:00:04\n",
      "     ---------------- ----------------------- 5.4/12.8 MB 2.3 MB/s eta 0:00:04\n",
      "     ----------------- ---------------------- 5.6/12.8 MB 2.4 MB/s eta 0:00:04\n",
      "     ----------------- ---------------------- 5.7/12.8 MB 2.3 MB/s eta 0:00:04\n",
      "     ------------------ --------------------- 5.8/12.8 MB 2.4 MB/s eta 0:00:03\n",
      "     ------------------ --------------------- 5.9/12.8 MB 2.4 MB/s eta 0:00:03\n",
      "     ------------------ --------------------- 6.0/12.8 MB 2.4 MB/s eta 0:00:03\n",
      "     ------------------- -------------------- 6.2/12.8 MB 2.4 MB/s eta 0:00:03\n",
      "     ------------------- -------------------- 6.3/12.8 MB 2.4 MB/s eta 0:00:03\n",
      "     ------------------- -------------------- 6.4/12.8 MB 2.4 MB/s eta 0:00:03\n",
      "     -------------------- ------------------- 6.5/12.8 MB 2.4 MB/s eta 0:00:03\n",
      "     -------------------- ------------------- 6.6/12.8 MB 2.4 MB/s eta 0:00:03\n",
      "     --------------------- ------------------ 6.7/12.8 MB 2.4 MB/s eta 0:00:03\n",
      "     --------------------- ------------------ 6.9/12.8 MB 2.4 MB/s eta 0:00:03\n",
      "     --------------------- ------------------ 7.0/12.8 MB 2.4 MB/s eta 0:00:03\n",
      "     ---------------------- ----------------- 7.1/12.8 MB 2.4 MB/s eta 0:00:03\n",
      "     ---------------------- ----------------- 7.2/12.8 MB 2.4 MB/s eta 0:00:03\n",
      "     ---------------------- ----------------- 7.3/12.8 MB 2.4 MB/s eta 0:00:03\n",
      "     ----------------------- ---------------- 7.4/12.8 MB 2.4 MB/s eta 0:00:03\n",
      "     ----------------------- ---------------- 7.5/12.8 MB 2.4 MB/s eta 0:00:03\n",
      "     ----------------------- ---------------- 7.7/12.8 MB 2.4 MB/s eta 0:00:03\n",
      "     ------------------------ --------------- 7.8/12.8 MB 2.4 MB/s eta 0:00:03\n",
      "     ------------------------ --------------- 7.9/12.8 MB 2.4 MB/s eta 0:00:03\n",
      "     ------------------------- -------------- 8.1/12.8 MB 2.4 MB/s eta 0:00:02\n",
      "     ------------------------- -------------- 8.1/12.8 MB 2.4 MB/s eta 0:00:02\n",
      "     ------------------------- -------------- 8.3/12.8 MB 2.4 MB/s eta 0:00:02\n",
      "     -------------------------- ------------- 8.4/12.8 MB 2.4 MB/s eta 0:00:02\n",
      "     -------------------------- ------------- 8.5/12.8 MB 2.4 MB/s eta 0:00:02\n",
      "     -------------------------- ------------- 8.6/12.8 MB 2.4 MB/s eta 0:00:02\n",
      "     --------------------------- ------------ 8.7/12.8 MB 2.4 MB/s eta 0:00:02\n",
      "     --------------------------- ------------ 8.9/12.8 MB 2.4 MB/s eta 0:00:02\n",
      "     ---------------------------- ----------- 9.0/12.8 MB 2.4 MB/s eta 0:00:02\n",
      "     ---------------------------- ----------- 9.1/12.8 MB 2.4 MB/s eta 0:00:02\n",
      "     ---------------------------- ----------- 9.2/12.8 MB 2.4 MB/s eta 0:00:02\n",
      "     ----------------------------- ---------- 9.3/12.8 MB 2.4 MB/s eta 0:00:02\n",
      "     ----------------------------- ---------- 9.5/12.8 MB 2.4 MB/s eta 0:00:02\n",
      "     ----------------------------- ---------- 9.6/12.8 MB 2.4 MB/s eta 0:00:02\n",
      "     ------------------------------ --------- 9.7/12.8 MB 2.4 MB/s eta 0:00:02\n",
      "     ------------------------------ --------- 9.8/12.8 MB 2.4 MB/s eta 0:00:02\n",
      "     ------------------------------- -------- 9.9/12.8 MB 2.4 MB/s eta 0:00:02\n",
      "     ------------------------------- -------- 10.1/12.8 MB 2.4 MB/s eta 0:00:02\n",
      "     ------------------------------- -------- 10.2/12.8 MB 2.4 MB/s eta 0:00:02\n",
      "     -------------------------------- ------- 10.3/12.8 MB 2.5 MB/s eta 0:00:01\n",
      "     -------------------------------- ------- 10.4/12.8 MB 2.5 MB/s eta 0:00:01\n",
      "     -------------------------------- ------- 10.5/12.8 MB 2.5 MB/s eta 0:00:01\n",
      "     --------------------------------- ------ 10.6/12.8 MB 2.5 MB/s eta 0:00:01\n",
      "     --------------------------------- ------ 10.7/12.8 MB 2.5 MB/s eta 0:00:01\n",
      "     --------------------------------- ------ 10.8/12.8 MB 2.5 MB/s eta 0:00:01\n",
      "     ---------------------------------- ----- 11.0/12.8 MB 2.5 MB/s eta 0:00:01\n",
      "     ---------------------------------- ----- 11.1/12.8 MB 2.5 MB/s eta 0:00:01\n",
      "     ---------------------------------- ----- 11.2/12.8 MB 2.5 MB/s eta 0:00:01\n",
      "     ----------------------------------- ---- 11.3/12.8 MB 2.5 MB/s eta 0:00:01\n",
      "     ----------------------------------- ---- 11.4/12.8 MB 2.5 MB/s eta 0:00:01\n",
      "     ----------------------------------- ---- 11.5/12.8 MB 2.5 MB/s eta 0:00:01\n",
      "     ------------------------------------ --- 11.6/12.8 MB 2.5 MB/s eta 0:00:01\n",
      "     ------------------------------------ --- 11.7/12.8 MB 2.5 MB/s eta 0:00:01\n",
      "     ------------------------------------- -- 11.9/12.8 MB 2.5 MB/s eta 0:00:01\n",
      "     ------------------------------------- -- 12.0/12.8 MB 2.5 MB/s eta 0:00:01\n",
      "     ------------------------------------- -- 12.1/12.8 MB 2.5 MB/s eta 0:00:01\n",
      "     -------------------------------------- - 12.2/12.8 MB 2.5 MB/s eta 0:00:01\n",
      "     -------------------------------------- - 12.4/12.8 MB 2.5 MB/s eta 0:00:01\n",
      "     -------------------------------------- - 12.5/12.8 MB 2.5 MB/s eta 0:00:01\n",
      "     ---------------------------------------  12.6/12.8 MB 2.5 MB/s eta 0:00:01\n",
      "     ---------------------------------------  12.7/12.8 MB 2.5 MB/s eta 0:00:01\n",
      "     ---------------------------------------  12.8/12.8 MB 2.5 MB/s eta 0:00:01\n",
      "     ---------------------------------------  12.8/12.8 MB 2.5 MB/s eta 0:00:01\n",
      "     ---------------------------------------- 12.8/12.8 MB 2.5 MB/s eta 0:00:00\n",
      "Requirement already satisfied: spacy<3.8.0,>=3.7.2 in c:\\users\\asus\\anaconda3\\lib\\site-packages (from en-core-web-sm==3.7.1) (3.7.5)\n",
      "Requirement already satisfied: spacy-legacy<3.1.0,>=3.0.11 in c:\\users\\asus\\anaconda3\\lib\\site-packages (from spacy<3.8.0,>=3.7.2->en-core-web-sm==3.7.1) (3.0.12)\n",
      "Requirement already satisfied: spacy-loggers<2.0.0,>=1.0.0 in c:\\users\\asus\\anaconda3\\lib\\site-packages (from spacy<3.8.0,>=3.7.2->en-core-web-sm==3.7.1) (1.0.5)\n",
      "Requirement already satisfied: murmurhash<1.1.0,>=0.28.0 in c:\\users\\asus\\anaconda3\\lib\\site-packages (from spacy<3.8.0,>=3.7.2->en-core-web-sm==3.7.1) (1.0.12)\n",
      "Requirement already satisfied: cymem<2.1.0,>=2.0.2 in c:\\users\\asus\\anaconda3\\lib\\site-packages (from spacy<3.8.0,>=3.7.2->en-core-web-sm==3.7.1) (2.0.11)\n",
      "Requirement already satisfied: preshed<3.1.0,>=3.0.2 in c:\\users\\asus\\anaconda3\\lib\\site-packages (from spacy<3.8.0,>=3.7.2->en-core-web-sm==3.7.1) (3.0.9)\n",
      "Requirement already satisfied: thinc<8.3.0,>=8.2.2 in c:\\users\\asus\\anaconda3\\lib\\site-packages (from spacy<3.8.0,>=3.7.2->en-core-web-sm==3.7.1) (8.2.5)\n",
      "Requirement already satisfied: wasabi<1.2.0,>=0.9.1 in c:\\users\\asus\\anaconda3\\lib\\site-packages (from spacy<3.8.0,>=3.7.2->en-core-web-sm==3.7.1) (1.1.3)\n",
      "Requirement already satisfied: srsly<3.0.0,>=2.4.3 in c:\\users\\asus\\anaconda3\\lib\\site-packages (from spacy<3.8.0,>=3.7.2->en-core-web-sm==3.7.1) (2.5.1)\n",
      "Requirement already satisfied: catalogue<2.1.0,>=2.0.6 in c:\\users\\asus\\anaconda3\\lib\\site-packages (from spacy<3.8.0,>=3.7.2->en-core-web-sm==3.7.1) (2.0.10)\n",
      "Requirement already satisfied: weasel<0.5.0,>=0.1.0 in c:\\users\\asus\\anaconda3\\lib\\site-packages (from spacy<3.8.0,>=3.7.2->en-core-web-sm==3.7.1) (0.4.1)\n",
      "Requirement already satisfied: typer<1.0.0,>=0.3.0 in c:\\users\\asus\\anaconda3\\lib\\site-packages (from spacy<3.8.0,>=3.7.2->en-core-web-sm==3.7.1) (0.15.2)\n",
      "Requirement already satisfied: tqdm<5.0.0,>=4.38.0 in c:\\users\\asus\\anaconda3\\lib\\site-packages (from spacy<3.8.0,>=3.7.2->en-core-web-sm==3.7.1) (4.65.0)\n",
      "Requirement already satisfied: requests<3.0.0,>=2.13.0 in c:\\users\\asus\\anaconda3\\lib\\site-packages (from spacy<3.8.0,>=3.7.2->en-core-web-sm==3.7.1) (2.31.0)\n",
      "Requirement already satisfied: pydantic!=1.8,!=1.8.1,<3.0.0,>=1.7.4 in c:\\users\\asus\\anaconda3\\lib\\site-packages (from spacy<3.8.0,>=3.7.2->en-core-web-sm==3.7.1) (2.10.5)\n",
      "Requirement already satisfied: jinja2 in c:\\users\\asus\\anaconda3\\lib\\site-packages (from spacy<3.8.0,>=3.7.2->en-core-web-sm==3.7.1) (3.1.3)\n",
      "Requirement already satisfied: setuptools in c:\\users\\asus\\anaconda3\\lib\\site-packages (from spacy<3.8.0,>=3.7.2->en-core-web-sm==3.7.1) (68.2.2)\n",
      "Requirement already satisfied: packaging>=20.0 in c:\\users\\asus\\anaconda3\\lib\\site-packages (from spacy<3.8.0,>=3.7.2->en-core-web-sm==3.7.1) (23.1)\n",
      "Requirement already satisfied: langcodes<4.0.0,>=3.2.0 in c:\\users\\asus\\anaconda3\\lib\\site-packages (from spacy<3.8.0,>=3.7.2->en-core-web-sm==3.7.1) (3.5.0)\n",
      "Requirement already satisfied: numpy>=1.19.0 in c:\\users\\asus\\anaconda3\\lib\\site-packages (from spacy<3.8.0,>=3.7.2->en-core-web-sm==3.7.1) (1.26.4)\n",
      "Requirement already satisfied: language-data>=1.2 in c:\\users\\asus\\anaconda3\\lib\\site-packages (from langcodes<4.0.0,>=3.2.0->spacy<3.8.0,>=3.7.2->en-core-web-sm==3.7.1) (1.3.0)\n",
      "Requirement already satisfied: annotated-types>=0.6.0 in c:\\users\\asus\\anaconda3\\lib\\site-packages (from pydantic!=1.8,!=1.8.1,<3.0.0,>=1.7.4->spacy<3.8.0,>=3.7.2->en-core-web-sm==3.7.1) (0.7.0)\n",
      "Requirement already satisfied: pydantic-core==2.27.2 in c:\\users\\asus\\anaconda3\\lib\\site-packages (from pydantic!=1.8,!=1.8.1,<3.0.0,>=1.7.4->spacy<3.8.0,>=3.7.2->en-core-web-sm==3.7.1) (2.27.2)\n",
      "Requirement already satisfied: typing-extensions>=4.12.2 in c:\\users\\asus\\anaconda3\\lib\\site-packages (from pydantic!=1.8,!=1.8.1,<3.0.0,>=1.7.4->spacy<3.8.0,>=3.7.2->en-core-web-sm==3.7.1) (4.13.2)\n",
      "Requirement already satisfied: charset-normalizer<4,>=2 in c:\\users\\asus\\anaconda3\\lib\\site-packages (from requests<3.0.0,>=2.13.0->spacy<3.8.0,>=3.7.2->en-core-web-sm==3.7.1) (2.0.4)\n",
      "Requirement already satisfied: idna<4,>=2.5 in c:\\users\\asus\\anaconda3\\lib\\site-packages (from requests<3.0.0,>=2.13.0->spacy<3.8.0,>=3.7.2->en-core-web-sm==3.7.1) (3.4)\n",
      "Requirement already satisfied: urllib3<3,>=1.21.1 in c:\\users\\asus\\anaconda3\\lib\\site-packages (from requests<3.0.0,>=2.13.0->spacy<3.8.0,>=3.7.2->en-core-web-sm==3.7.1) (2.0.7)\n",
      "Requirement already satisfied: certifi>=2017.4.17 in c:\\users\\asus\\anaconda3\\lib\\site-packages (from requests<3.0.0,>=2.13.0->spacy<3.8.0,>=3.7.2->en-core-web-sm==3.7.1) (2024.7.4)\n",
      "Requirement already satisfied: blis<0.8.0,>=0.7.8 in c:\\users\\asus\\anaconda3\\lib\\site-packages (from thinc<8.3.0,>=8.2.2->spacy<3.8.0,>=3.7.2->en-core-web-sm==3.7.1) (0.7.11)\n",
      "Requirement already satisfied: confection<1.0.0,>=0.0.1 in c:\\users\\asus\\anaconda3\\lib\\site-packages (from thinc<8.3.0,>=8.2.2->spacy<3.8.0,>=3.7.2->en-core-web-sm==3.7.1) (0.1.5)\n",
      "Requirement already satisfied: colorama in c:\\users\\asus\\anaconda3\\lib\\site-packages (from tqdm<5.0.0,>=4.38.0->spacy<3.8.0,>=3.7.2->en-core-web-sm==3.7.1) (0.4.6)\n",
      "Requirement already satisfied: click>=8.0.0 in c:\\users\\asus\\anaconda3\\lib\\site-packages (from typer<1.0.0,>=0.3.0->spacy<3.8.0,>=3.7.2->en-core-web-sm==3.7.1) (8.1.7)\n",
      "Requirement already satisfied: shellingham>=1.3.0 in c:\\users\\asus\\anaconda3\\lib\\site-packages (from typer<1.0.0,>=0.3.0->spacy<3.8.0,>=3.7.2->en-core-web-sm==3.7.1) (1.5.4)\n",
      "Requirement already satisfied: rich>=10.11.0 in c:\\users\\asus\\anaconda3\\lib\\site-packages (from typer<1.0.0,>=0.3.0->spacy<3.8.0,>=3.7.2->en-core-web-sm==3.7.1) (13.3.5)\n",
      "Requirement already satisfied: cloudpathlib<1.0.0,>=0.7.0 in c:\\users\\asus\\anaconda3\\lib\\site-packages (from weasel<0.5.0,>=0.1.0->spacy<3.8.0,>=3.7.2->en-core-web-sm==3.7.1) (0.21.0)\n",
      "Requirement already satisfied: smart-open<8.0.0,>=5.2.1 in c:\\users\\asus\\anaconda3\\lib\\site-packages (from weasel<0.5.0,>=0.1.0->spacy<3.8.0,>=3.7.2->en-core-web-sm==3.7.1) (5.2.1)\n",
      "Requirement already satisfied: MarkupSafe>=2.0 in c:\\users\\asus\\anaconda3\\lib\\site-packages (from jinja2->spacy<3.8.0,>=3.7.2->en-core-web-sm==3.7.1) (2.1.3)\n",
      "Requirement already satisfied: marisa-trie>=1.1.0 in c:\\users\\asus\\anaconda3\\lib\\site-packages (from language-data>=1.2->langcodes<4.0.0,>=3.2.0->spacy<3.8.0,>=3.7.2->en-core-web-sm==3.7.1) (1.2.1)\n",
      "Requirement already satisfied: markdown-it-py<3.0.0,>=2.2.0 in c:\\users\\asus\\anaconda3\\lib\\site-packages (from rich>=10.11.0->typer<1.0.0,>=0.3.0->spacy<3.8.0,>=3.7.2->en-core-web-sm==3.7.1) (2.2.0)\n",
      "Requirement already satisfied: pygments<3.0.0,>=2.13.0 in c:\\users\\asus\\anaconda3\\lib\\site-packages (from rich>=10.11.0->typer<1.0.0,>=0.3.0->spacy<3.8.0,>=3.7.2->en-core-web-sm==3.7.1) (2.15.1)\n",
      "Requirement already satisfied: mdurl~=0.1 in c:\\users\\asus\\anaconda3\\lib\\site-packages (from markdown-it-py<3.0.0,>=2.2.0->rich>=10.11.0->typer<1.0.0,>=0.3.0->spacy<3.8.0,>=3.7.2->en-core-web-sm==3.7.1) (0.1.0)\n",
      "Installing collected packages: en-core-web-sm\n",
      "Successfully installed en-core-web-sm-3.7.1\n",
      "\u001b[38;5;2m[+] Download and installation successful\u001b[0m\n",
      "You can now load the package via spacy.load('en_core_web_sm')\n"
     ]
    }
   ],
   "source": [
    "!pip install --upgrade numpy==1.26.4\n",
    "!pip install --upgrade pandas==2.2.2\n",
    "!pip install --upgrade nltk==3.9.1\n",
    "!pip install --upgrade spacy==3.7.5\n",
    "!pip install --upgrade scipy==1.12\n",
    "!pip install --upgrade pydantic==2.10.5\n",
    "!pip install wordcloud==1.9.4\n",
    "!python -m spacy download en_core_web_sm"
   ]
  },
  {
   "cell_type": "markdown",
   "metadata": {
    "id": "JuLFIymAL58u"
   },
   "source": [
    "## Importing the necessary libraries"
   ]
  },
  {
   "cell_type": "code",
   "execution_count": 2,
   "metadata": {
    "id": "O-Q9pqrcJrFr"
   },
   "outputs": [
    {
     "name": "stderr",
     "output_type": "stream",
     "text": [
      "[nltk_data] Downloading package stopwords to\n",
      "[nltk_data]     C:\\Users\\asus\\AppData\\Roaming\\nltk_data...\n",
      "[nltk_data]   Package stopwords is already up-to-date!\n",
      "[nltk_data] Downloading package wordnet to\n",
      "[nltk_data]     C:\\Users\\asus\\AppData\\Roaming\\nltk_data...\n",
      "[nltk_data]   Package wordnet is already up-to-date!\n"
     ]
    }
   ],
   "source": [
    "# Import essential libraries for data manipulation and analysis\n",
    "import numpy as np  # For numerical operations and arrays\n",
    "import pandas as pd  # For working with dataframes and structured data\n",
    "import re  # For regular expression operations (text processing)\n",
    "import nltk  # Natural Language Toolkit for text processing\n",
    "import spacy  # For advanced NLP tasks\n",
    "import string  # For handling string-related operations\n",
    "from wordcloud import WordCloud # for counting word frequencies\n",
    "from nltk.corpus import stopwords\n",
    "from collections import Counter\n",
    "from nltk.util import ngrams\n",
    "import ast\n",
    "import gensim.downloader as api\n",
    "from gensim.models import KeyedVectors,Word2Vec\n",
    "\n",
    "# Optional: Uncomment the line below to enable GPU support for spaCy (if you have a compatible GPU)\n",
    "#spacy.require_gpu()\n",
    "nltk.download('stopwords')\n",
    "nltk.download('wordnet')\n",
    "# Load the spaCy small English language model\n",
    "nlp = spacy.load(\"en_core_web_sm\")\n",
    "\n",
    "# For data visualization\n",
    "import seaborn as sns  # Data visualization library for statistical graphics\n",
    "import matplotlib.pyplot as plt  # Matplotlib for creating static plots\n",
    "# Configure Matplotlib to display plots inline in Jupyter Notebook\n",
    "%matplotlib inline\n",
    "\n",
    "# Suppress unnecessary warnings to keep output clean\n",
    "import warnings\n",
    "warnings.filterwarnings('ignore')\n",
    "\n",
    "# For interactive plots\n",
    "from plotly.offline import plot  # Enables offline plotting with Plotly\n",
    "import plotly.graph_objects as go  # For creating customizable Plotly plots\n",
    "import plotly.express as px  # A high-level interface for Plotly\n",
    "\n",
    "# For preprocessing and feature extraction in machine learning\n",
    "from sklearn.feature_extraction.text import (  # Methods for text vectorization\n",
    "    CountVectorizer,  # Converts text into a bag-of-words model\n",
    ")\n",
    "\n",
    "# Import accuracy, precision, recall, f_score from sklearn to predict train accuracy\n",
    "from sklearn.metrics import accuracy_score, precision_score, recall_score, f1_score\n",
    "\n",
    "# Pretty printing for better readability of output\n",
    "from pprint import pprint\n",
    "\n",
    "# For progress tracking in loops (useful for larger datasets)\n",
    "from tqdm import tqdm, tqdm_notebook  # Progress bar for loops\n",
    "tqdm.pandas()  # Enables progress bars for pandas operations\n"
   ]
  },
  {
   "cell_type": "code",
   "execution_count": 3,
   "metadata": {
    "id": "s8Le3OfjI666"
   },
   "outputs": [],
   "source": [
    "# ## Change the display properties of pandas to max\n",
    "# pd.set_option('display.max_colwidth', None)\n",
    "# pd.set_option('display.max_columns', None)\n",
    "# pd.set_option('display.max_rows', None)"
   ]
  },
  {
   "cell_type": "markdown",
   "metadata": {
    "id": "KtRLCsNVJrFt"
   },
   "source": [
    "## Load the data\n",
    "\n",
    "Load the True.csv and Fake.csv files as DataFrames"
   ]
  },
  {
   "cell_type": "code",
   "execution_count": 4,
   "metadata": {
    "id": "puVzIf_iJrFt"
   },
   "outputs": [],
   "source": [
    "# Import the first file - True.csv\n",
    "df_trueNews = pd.read_csv('True.csv')\n",
    "\n",
    "# Import the second file - Fake.csv\n",
    "df_fakeNews = pd.read_csv('Fake.csv')"
   ]
  },
  {
   "cell_type": "markdown",
   "metadata": {
    "id": "_xYpH-sAJrFu",
    "jp-MarkdownHeadingCollapsed": true
   },
   "source": [
    "## **1.** Data Preparation  <font color = red>[10 marks]</font>\n",
    "\n",
    "\n",
    "\n"
   ]
  },
  {
   "cell_type": "markdown",
   "metadata": {
    "id": "A2fTeYJImEv7"
   },
   "source": [
    "### **1.0** Data Understanding"
   ]
  },
  {
   "cell_type": "code",
   "execution_count": 5,
   "metadata": {
    "id": "Lf8ufHH5JrFu"
   },
   "outputs": [
    {
     "data": {
      "text/html": [
       "<div>\n",
       "<style scoped>\n",
       "    .dataframe tbody tr th:only-of-type {\n",
       "        vertical-align: middle;\n",
       "    }\n",
       "\n",
       "    .dataframe tbody tr th {\n",
       "        vertical-align: top;\n",
       "    }\n",
       "\n",
       "    .dataframe thead th {\n",
       "        text-align: right;\n",
       "    }\n",
       "</style>\n",
       "<table border=\"1\" class=\"dataframe\">\n",
       "  <thead>\n",
       "    <tr style=\"text-align: right;\">\n",
       "      <th></th>\n",
       "      <th>title</th>\n",
       "      <th>text</th>\n",
       "      <th>date</th>\n",
       "    </tr>\n",
       "  </thead>\n",
       "  <tbody>\n",
       "    <tr>\n",
       "      <th>0</th>\n",
       "      <td>As U.S. budget fight looms, Republicans flip t...</td>\n",
       "      <td>WASHINGTON (Reuters) - The head of a conservat...</td>\n",
       "      <td>December 31, 2017</td>\n",
       "    </tr>\n",
       "    <tr>\n",
       "      <th>1</th>\n",
       "      <td>U.S. military to accept transgender recruits o...</td>\n",
       "      <td>WASHINGTON (Reuters) - Transgender people will...</td>\n",
       "      <td>December 29, 2017</td>\n",
       "    </tr>\n",
       "    <tr>\n",
       "      <th>2</th>\n",
       "      <td>Senior U.S. Republican senator: 'Let Mr. Muell...</td>\n",
       "      <td>WASHINGTON (Reuters) - The special counsel inv...</td>\n",
       "      <td>December 31, 2017</td>\n",
       "    </tr>\n",
       "    <tr>\n",
       "      <th>3</th>\n",
       "      <td>FBI Russia probe helped by Australian diplomat...</td>\n",
       "      <td>WASHINGTON (Reuters) - Trump campaign adviser ...</td>\n",
       "      <td>December 30, 2017</td>\n",
       "    </tr>\n",
       "    <tr>\n",
       "      <th>4</th>\n",
       "      <td>Trump wants Postal Service to charge 'much mor...</td>\n",
       "      <td>SEATTLE/WASHINGTON (Reuters) - President Donal...</td>\n",
       "      <td>December 29, 2017</td>\n",
       "    </tr>\n",
       "  </tbody>\n",
       "</table>\n",
       "</div>"
      ],
      "text/plain": [
       "                                               title  \\\n",
       "0  As U.S. budget fight looms, Republicans flip t...   \n",
       "1  U.S. military to accept transgender recruits o...   \n",
       "2  Senior U.S. Republican senator: 'Let Mr. Muell...   \n",
       "3  FBI Russia probe helped by Australian diplomat...   \n",
       "4  Trump wants Postal Service to charge 'much mor...   \n",
       "\n",
       "                                                text                date  \n",
       "0  WASHINGTON (Reuters) - The head of a conservat...  December 31, 2017   \n",
       "1  WASHINGTON (Reuters) - Transgender people will...  December 29, 2017   \n",
       "2  WASHINGTON (Reuters) - The special counsel inv...  December 31, 2017   \n",
       "3  WASHINGTON (Reuters) - Trump campaign adviser ...  December 30, 2017   \n",
       "4  SEATTLE/WASHINGTON (Reuters) - President Donal...  December 29, 2017   "
      ]
     },
     "execution_count": 5,
     "metadata": {},
     "output_type": "execute_result"
    }
   ],
   "source": [
    "# Inspect the DataFrame with True News to understand the given data\n",
    "df_trueNews.head()"
   ]
  },
  {
   "cell_type": "code",
   "execution_count": 6,
   "metadata": {
    "id": "gI7X0Voh6h7r"
   },
   "outputs": [
    {
     "data": {
      "text/html": [
       "<div>\n",
       "<style scoped>\n",
       "    .dataframe tbody tr th:only-of-type {\n",
       "        vertical-align: middle;\n",
       "    }\n",
       "\n",
       "    .dataframe tbody tr th {\n",
       "        vertical-align: top;\n",
       "    }\n",
       "\n",
       "    .dataframe thead th {\n",
       "        text-align: right;\n",
       "    }\n",
       "</style>\n",
       "<table border=\"1\" class=\"dataframe\">\n",
       "  <thead>\n",
       "    <tr style=\"text-align: right;\">\n",
       "      <th></th>\n",
       "      <th>title</th>\n",
       "      <th>text</th>\n",
       "      <th>date</th>\n",
       "    </tr>\n",
       "  </thead>\n",
       "  <tbody>\n",
       "    <tr>\n",
       "      <th>0</th>\n",
       "      <td>Donald Trump Sends Out Embarrassing New Year’...</td>\n",
       "      <td>Donald Trump just couldn t wish all Americans ...</td>\n",
       "      <td>December 31, 2017</td>\n",
       "    </tr>\n",
       "    <tr>\n",
       "      <th>1</th>\n",
       "      <td>Drunk Bragging Trump Staffer Started Russian ...</td>\n",
       "      <td>House Intelligence Committee Chairman Devin Nu...</td>\n",
       "      <td>December 31, 2017</td>\n",
       "    </tr>\n",
       "    <tr>\n",
       "      <th>2</th>\n",
       "      <td>Sheriff David Clarke Becomes An Internet Joke...</td>\n",
       "      <td>On Friday, it was revealed that former Milwauk...</td>\n",
       "      <td>December 30, 2017</td>\n",
       "    </tr>\n",
       "    <tr>\n",
       "      <th>3</th>\n",
       "      <td>Trump Is So Obsessed He Even Has Obama’s Name...</td>\n",
       "      <td>On Christmas day, Donald Trump announced that ...</td>\n",
       "      <td>December 29, 2017</td>\n",
       "    </tr>\n",
       "    <tr>\n",
       "      <th>4</th>\n",
       "      <td>Pope Francis Just Called Out Donald Trump Dur...</td>\n",
       "      <td>Pope Francis used his annual Christmas Day mes...</td>\n",
       "      <td>December 25, 2017</td>\n",
       "    </tr>\n",
       "  </tbody>\n",
       "</table>\n",
       "</div>"
      ],
      "text/plain": [
       "                                               title  \\\n",
       "0   Donald Trump Sends Out Embarrassing New Year’...   \n",
       "1   Drunk Bragging Trump Staffer Started Russian ...   \n",
       "2   Sheriff David Clarke Becomes An Internet Joke...   \n",
       "3   Trump Is So Obsessed He Even Has Obama’s Name...   \n",
       "4   Pope Francis Just Called Out Donald Trump Dur...   \n",
       "\n",
       "                                                text               date  \n",
       "0  Donald Trump just couldn t wish all Americans ...  December 31, 2017  \n",
       "1  House Intelligence Committee Chairman Devin Nu...  December 31, 2017  \n",
       "2  On Friday, it was revealed that former Milwauk...  December 30, 2017  \n",
       "3  On Christmas day, Donald Trump announced that ...  December 29, 2017  \n",
       "4  Pope Francis used his annual Christmas Day mes...  December 25, 2017  "
      ]
     },
     "execution_count": 6,
     "metadata": {},
     "output_type": "execute_result"
    }
   ],
   "source": [
    "# Inspect the DataFrame with Fake News to understand the given data\n",
    "df_fakeNews.head()"
   ]
  },
  {
   "cell_type": "code",
   "execution_count": 7,
   "metadata": {
    "id": "Dwcty-wmJrFw"
   },
   "outputs": [
    {
     "name": "stdout",
     "output_type": "stream",
     "text": [
      "<class 'pandas.core.frame.DataFrame'>\n",
      "RangeIndex: 21417 entries, 0 to 21416\n",
      "Data columns (total 3 columns):\n",
      " #   Column  Non-Null Count  Dtype \n",
      "---  ------  --------------  ----- \n",
      " 0   title   21417 non-null  object\n",
      " 1   text    21417 non-null  object\n",
      " 2   date    21417 non-null  object\n",
      "dtypes: object(3)\n",
      "memory usage: 502.1+ KB\n"
     ]
    }
   ],
   "source": [
    "# Print the column details for True News DataFrame\n",
    "df_trueNews.info()"
   ]
  },
  {
   "cell_type": "code",
   "execution_count": 8,
   "metadata": {},
   "outputs": [
    {
     "data": {
      "text/html": [
       "<div>\n",
       "<style scoped>\n",
       "    .dataframe tbody tr th:only-of-type {\n",
       "        vertical-align: middle;\n",
       "    }\n",
       "\n",
       "    .dataframe tbody tr th {\n",
       "        vertical-align: top;\n",
       "    }\n",
       "\n",
       "    .dataframe thead th {\n",
       "        text-align: right;\n",
       "    }\n",
       "</style>\n",
       "<table border=\"1\" class=\"dataframe\">\n",
       "  <thead>\n",
       "    <tr style=\"text-align: right;\">\n",
       "      <th></th>\n",
       "      <th>title</th>\n",
       "      <th>text</th>\n",
       "      <th>date</th>\n",
       "    </tr>\n",
       "  </thead>\n",
       "  <tbody>\n",
       "    <tr>\n",
       "      <th>21412</th>\n",
       "      <td>'Fully committed' NATO backs new U.S. approach...</td>\n",
       "      <td>BRUSSELS (Reuters) - NATO allies on Tuesday we...</td>\n",
       "      <td>August 22, 2017</td>\n",
       "    </tr>\n",
       "    <tr>\n",
       "      <th>21413</th>\n",
       "      <td>LexisNexis withdrew two products from Chinese ...</td>\n",
       "      <td>LONDON (Reuters) - LexisNexis, a provider of l...</td>\n",
       "      <td>August 22, 2017</td>\n",
       "    </tr>\n",
       "    <tr>\n",
       "      <th>21414</th>\n",
       "      <td>Minsk cultural hub becomes haven from authorities</td>\n",
       "      <td>MINSK (Reuters) - In the shadow of disused Sov...</td>\n",
       "      <td>August 22, 2017</td>\n",
       "    </tr>\n",
       "    <tr>\n",
       "      <th>21415</th>\n",
       "      <td>Vatican upbeat on possibility of Pope Francis ...</td>\n",
       "      <td>MOSCOW (Reuters) - Vatican Secretary of State ...</td>\n",
       "      <td>August 22, 2017</td>\n",
       "    </tr>\n",
       "    <tr>\n",
       "      <th>21416</th>\n",
       "      <td>Indonesia to buy $1.14 billion worth of Russia...</td>\n",
       "      <td>JAKARTA (Reuters) - Indonesia will buy 11 Sukh...</td>\n",
       "      <td>August 22, 2017</td>\n",
       "    </tr>\n",
       "  </tbody>\n",
       "</table>\n",
       "</div>"
      ],
      "text/plain": [
       "                                                   title  \\\n",
       "21412  'Fully committed' NATO backs new U.S. approach...   \n",
       "21413  LexisNexis withdrew two products from Chinese ...   \n",
       "21414  Minsk cultural hub becomes haven from authorities   \n",
       "21415  Vatican upbeat on possibility of Pope Francis ...   \n",
       "21416  Indonesia to buy $1.14 billion worth of Russia...   \n",
       "\n",
       "                                                    text              date  \n",
       "21412  BRUSSELS (Reuters) - NATO allies on Tuesday we...  August 22, 2017   \n",
       "21413  LONDON (Reuters) - LexisNexis, a provider of l...  August 22, 2017   \n",
       "21414  MINSK (Reuters) - In the shadow of disused Sov...  August 22, 2017   \n",
       "21415  MOSCOW (Reuters) - Vatican Secretary of State ...  August 22, 2017   \n",
       "21416  JAKARTA (Reuters) - Indonesia will buy 11 Sukh...  August 22, 2017   "
      ]
     },
     "execution_count": 8,
     "metadata": {},
     "output_type": "execute_result"
    }
   ],
   "source": [
    "df_trueNews.tail()"
   ]
  },
  {
   "cell_type": "code",
   "execution_count": 9,
   "metadata": {},
   "outputs": [
    {
     "data": {
      "text/html": [
       "<div>\n",
       "<style scoped>\n",
       "    .dataframe tbody tr th:only-of-type {\n",
       "        vertical-align: middle;\n",
       "    }\n",
       "\n",
       "    .dataframe tbody tr th {\n",
       "        vertical-align: top;\n",
       "    }\n",
       "\n",
       "    .dataframe thead th {\n",
       "        text-align: right;\n",
       "    }\n",
       "</style>\n",
       "<table border=\"1\" class=\"dataframe\">\n",
       "  <thead>\n",
       "    <tr style=\"text-align: right;\">\n",
       "      <th></th>\n",
       "      <th>title</th>\n",
       "      <th>text</th>\n",
       "      <th>date</th>\n",
       "    </tr>\n",
       "  </thead>\n",
       "  <tbody>\n",
       "    <tr>\n",
       "      <th>23518</th>\n",
       "      <td>McPain: John McCain Furious That Iran Treated ...</td>\n",
       "      <td>21st Century Wire says As 21WIRE reported earl...</td>\n",
       "      <td>January 16, 2016</td>\n",
       "    </tr>\n",
       "    <tr>\n",
       "      <th>23519</th>\n",
       "      <td>JUSTICE? Yahoo Settles E-mail Privacy Class-ac...</td>\n",
       "      <td>21st Century Wire says It s a familiar theme. ...</td>\n",
       "      <td>January 16, 2016</td>\n",
       "    </tr>\n",
       "    <tr>\n",
       "      <th>23520</th>\n",
       "      <td>Sunnistan: US and Allied ‘Safe Zone’ Plan to T...</td>\n",
       "      <td>Patrick Henningsen  21st Century WireRemember ...</td>\n",
       "      <td>January 15, 2016</td>\n",
       "    </tr>\n",
       "    <tr>\n",
       "      <th>23521</th>\n",
       "      <td>How to Blow $700 Million: Al Jazeera America F...</td>\n",
       "      <td>21st Century Wire says Al Jazeera America will...</td>\n",
       "      <td>January 14, 2016</td>\n",
       "    </tr>\n",
       "    <tr>\n",
       "      <th>23522</th>\n",
       "      <td>10 U.S. Navy Sailors Held by Iranian Military ...</td>\n",
       "      <td>21st Century Wire says As 21WIRE predicted in ...</td>\n",
       "      <td>January 12, 2016</td>\n",
       "    </tr>\n",
       "  </tbody>\n",
       "</table>\n",
       "</div>"
      ],
      "text/plain": [
       "                                                   title  \\\n",
       "23518  McPain: John McCain Furious That Iran Treated ...   \n",
       "23519  JUSTICE? Yahoo Settles E-mail Privacy Class-ac...   \n",
       "23520  Sunnistan: US and Allied ‘Safe Zone’ Plan to T...   \n",
       "23521  How to Blow $700 Million: Al Jazeera America F...   \n",
       "23522  10 U.S. Navy Sailors Held by Iranian Military ...   \n",
       "\n",
       "                                                    text              date  \n",
       "23518  21st Century Wire says As 21WIRE reported earl...  January 16, 2016  \n",
       "23519  21st Century Wire says It s a familiar theme. ...  January 16, 2016  \n",
       "23520  Patrick Henningsen  21st Century WireRemember ...  January 15, 2016  \n",
       "23521  21st Century Wire says Al Jazeera America will...  January 14, 2016  \n",
       "23522  21st Century Wire says As 21WIRE predicted in ...  January 12, 2016  "
      ]
     },
     "execution_count": 9,
     "metadata": {},
     "output_type": "execute_result"
    }
   ],
   "source": [
    "df_fakeNews.tail()"
   ]
  },
  {
   "cell_type": "code",
   "execution_count": 10,
   "metadata": {
    "id": "EPLAnUMjjzQ4"
   },
   "outputs": [
    {
     "name": "stdout",
     "output_type": "stream",
     "text": [
      "<class 'pandas.core.frame.DataFrame'>\n",
      "RangeIndex: 23523 entries, 0 to 23522\n",
      "Data columns (total 3 columns):\n",
      " #   Column  Non-Null Count  Dtype \n",
      "---  ------  --------------  ----- \n",
      " 0   title   23502 non-null  object\n",
      " 1   text    23502 non-null  object\n",
      " 2   date    23481 non-null  object\n",
      "dtypes: object(3)\n",
      "memory usage: 551.4+ KB\n"
     ]
    }
   ],
   "source": [
    "# Print the column details for Fake News Dataframe\n",
    "df_fakeNews.info()"
   ]
  },
  {
   "cell_type": "code",
   "execution_count": 11,
   "metadata": {
    "id": "dyuDFzPkI67B"
   },
   "outputs": [
    {
     "name": "stdout",
     "output_type": "stream",
     "text": [
      "Index(['title', 'text', 'date'], dtype='object')\n",
      "Index(['title', 'text', 'date'], dtype='object')\n"
     ]
    }
   ],
   "source": [
    "# Print the column names of both DataFrames\n",
    "print(df_trueNews.columns)\n",
    "print(df_fakeNews.columns)"
   ]
  },
  {
   "cell_type": "markdown",
   "metadata": {
    "id": "h2fff1S7hq5h"
   },
   "source": [
    "### **1.1** Add new column  <font color = red>[3 marks]</font> <br>\n",
    "\n",
    "Add new column `news_label` to both the DataFrames and assign labels"
   ]
  },
  {
   "cell_type": "code",
   "execution_count": 12,
   "metadata": {
    "id": "YOu_KhbH78du"
   },
   "outputs": [],
   "source": [
    "# Add a new column 'news_label' to the true news DataFrame and assign the label \"1\" to indicate that these news are true\n",
    "df_trueNews[\"news_label\"] = 1\n",
    "# Add a new column 'news_label' to the fake news DataFrame and assign the label \"0\" to indicate that these news are fake\n",
    "df_fakeNews[\"news_label\"] = 0"
   ]
  },
  {
   "cell_type": "code",
   "execution_count": 13,
   "metadata": {},
   "outputs": [
    {
     "name": "stdout",
     "output_type": "stream",
     "text": [
      "<class 'pandas.core.frame.DataFrame'>\n",
      "RangeIndex: 21417 entries, 0 to 21416\n",
      "Data columns (total 4 columns):\n",
      " #   Column      Non-Null Count  Dtype \n",
      "---  ------      --------------  ----- \n",
      " 0   title       21417 non-null  object\n",
      " 1   text        21417 non-null  object\n",
      " 2   date        21417 non-null  object\n",
      " 3   news_label  21417 non-null  int64 \n",
      "dtypes: int64(1), object(3)\n",
      "memory usage: 669.4+ KB\n"
     ]
    }
   ],
   "source": [
    "# checking the news_label column in fake and true news dataframe\n",
    "df_trueNews.info()"
   ]
  },
  {
   "cell_type": "code",
   "execution_count": 14,
   "metadata": {},
   "outputs": [
    {
     "name": "stdout",
     "output_type": "stream",
     "text": [
      "<class 'pandas.core.frame.DataFrame'>\n",
      "RangeIndex: 23523 entries, 0 to 23522\n",
      "Data columns (total 4 columns):\n",
      " #   Column      Non-Null Count  Dtype \n",
      "---  ------      --------------  ----- \n",
      " 0   title       23502 non-null  object\n",
      " 1   text        23502 non-null  object\n",
      " 2   date        23481 non-null  object\n",
      " 3   news_label  23523 non-null  int64 \n",
      "dtypes: int64(1), object(3)\n",
      "memory usage: 735.2+ KB\n"
     ]
    }
   ],
   "source": [
    "df_fakeNews.info()"
   ]
  },
  {
   "cell_type": "markdown",
   "metadata": {
    "id": "UShuo3h54DAh"
   },
   "source": [
    "### **1.2** Merge DataFrames  <font color = red>[2 marks]</font> <br>\n",
    "\n",
    "Create a new Dataframe by merging True and Fake DataFrames"
   ]
  },
  {
   "cell_type": "code",
   "execution_count": 15,
   "metadata": {
    "id": "5GX_QMy04M4-"
   },
   "outputs": [
    {
     "data": {
      "text/plain": [
       "news_label\n",
       "0    23523\n",
       "1    21417\n",
       "Name: count, dtype: int64"
      ]
     },
     "execution_count": 15,
     "metadata": {},
     "output_type": "execute_result"
    }
   ],
   "source": [
    "# Combine the true and fake news DataFrames into a single DataFrame\n",
    "df = df_trueNews.merge(df_fakeNews,how='outer')\n",
    "df[\"news_label\"].value_counts()"
   ]
  },
  {
   "cell_type": "code",
   "execution_count": 16,
   "metadata": {},
   "outputs": [],
   "source": [
    "# shuffled_df = df.sample(frac=1,random_state=42).reset_index(drop=True)\n",
    "# shuffled_df.head()"
   ]
  },
  {
   "cell_type": "code",
   "execution_count": 17,
   "metadata": {
    "id": "FYCtKXD1JrFw"
   },
   "outputs": [
    {
     "data": {
      "text/html": [
       "<div>\n",
       "<style scoped>\n",
       "    .dataframe tbody tr th:only-of-type {\n",
       "        vertical-align: middle;\n",
       "    }\n",
       "\n",
       "    .dataframe tbody tr th {\n",
       "        vertical-align: top;\n",
       "    }\n",
       "\n",
       "    .dataframe thead th {\n",
       "        text-align: right;\n",
       "    }\n",
       "</style>\n",
       "<table border=\"1\" class=\"dataframe\">\n",
       "  <thead>\n",
       "    <tr style=\"text-align: right;\">\n",
       "      <th></th>\n",
       "      <th>title</th>\n",
       "      <th>text</th>\n",
       "      <th>date</th>\n",
       "      <th>news_label</th>\n",
       "    </tr>\n",
       "  </thead>\n",
       "  <tbody>\n",
       "    <tr>\n",
       "      <th>0</th>\n",
       "      <td>\\r\\r\\r\\r\\r\\r\\r\\nDonald Trump Gets His A** Hand...</td>\n",
       "      <td>A 10-year-old girl smacked down Donald Trump, ...</td>\n",
       "      <td>February 29, 2016</td>\n",
       "      <td>0</td>\n",
       "    </tr>\n",
       "    <tr>\n",
       "      <th>1</th>\n",
       "      <td>\\r\\r\\r\\r\\r\\r\\r\\nEx-GOP Congressman Shreds Fell...</td>\n",
       "      <td>At this point, every Republican who refuses to...</td>\n",
       "      <td>June 22, 2017</td>\n",
       "      <td>0</td>\n",
       "    </tr>\n",
       "    <tr>\n",
       "      <th>2</th>\n",
       "      <td>\\r\\r\\r\\r\\r\\r\\r\\nTrump Gets STOMPED For Whining...</td>\n",
       "      <td>Donald Trump has been attacking President Obam...</td>\n",
       "      <td>November 5, 2016</td>\n",
       "      <td>0</td>\n",
       "    </tr>\n",
       "    <tr>\n",
       "      <th>3</th>\n",
       "      <td>\\r\\r\\r\\r\\r\\r\\r\\nWATCH: Democratic Rep Delivers...</td>\n",
       "      <td>Massachusetts Rep. Jim McGovern brought the Ho...</td>\n",
       "      <td>May 4, 2017</td>\n",
       "      <td>0</td>\n",
       "    </tr>\n",
       "    <tr>\n",
       "      <th>4</th>\n",
       "      <td>#AfterTrumpImplodes Hashtag Hilariously Imagi...</td>\n",
       "      <td>What will the world be like post-Donald Trump?...</td>\n",
       "      <td>August 5, 2016</td>\n",
       "      <td>0</td>\n",
       "    </tr>\n",
       "  </tbody>\n",
       "</table>\n",
       "</div>"
      ],
      "text/plain": [
       "                                               title  \\\n",
       "0  \\r\\r\\r\\r\\r\\r\\r\\nDonald Trump Gets His A** Hand...   \n",
       "1  \\r\\r\\r\\r\\r\\r\\r\\nEx-GOP Congressman Shreds Fell...   \n",
       "2  \\r\\r\\r\\r\\r\\r\\r\\nTrump Gets STOMPED For Whining...   \n",
       "3  \\r\\r\\r\\r\\r\\r\\r\\nWATCH: Democratic Rep Delivers...   \n",
       "4   #AfterTrumpImplodes Hashtag Hilariously Imagi...   \n",
       "\n",
       "                                                text               date  \\\n",
       "0  A 10-year-old girl smacked down Donald Trump, ...  February 29, 2016   \n",
       "1  At this point, every Republican who refuses to...      June 22, 2017   \n",
       "2  Donald Trump has been attacking President Obam...   November 5, 2016   \n",
       "3  Massachusetts Rep. Jim McGovern brought the Ho...        May 4, 2017   \n",
       "4  What will the world be like post-Donald Trump?...     August 5, 2016   \n",
       "\n",
       "   news_label  \n",
       "0           0  \n",
       "1           0  \n",
       "2           0  \n",
       "3           0  \n",
       "4           0  "
      ]
     },
     "execution_count": 17,
     "metadata": {},
     "output_type": "execute_result"
    }
   ],
   "source": [
    "# Display the first 5 rows of the combined DataFrame to verify the result\n",
    "df.head()"
   ]
  },
  {
   "cell_type": "markdown",
   "metadata": {
    "id": "IphUaBu3oFZK"
   },
   "source": [
    "### **1.3** Handle the null values  <font color = red>[2 marks]</font> <br>\n",
    "\n",
    "Check for null values and handle it by imputation or dropping the null values"
   ]
  },
  {
   "cell_type": "code",
   "execution_count": 18,
   "metadata": {
    "id": "4FRDxOo6r51j"
   },
   "outputs": [
    {
     "data": {
      "text/plain": [
       "title         21\n",
       "text          21\n",
       "date          42\n",
       "news_label     0\n",
       "dtype: int64"
      ]
     },
     "execution_count": 18,
     "metadata": {},
     "output_type": "execute_result"
    }
   ],
   "source": [
    "# Check Presence of Null Values\n",
    "#df.info()\n",
    "df.isnull().sum()"
   ]
  },
  {
   "cell_type": "code",
   "execution_count": 19,
   "metadata": {
    "id": "eiwvoyfYr6EB"
   },
   "outputs": [],
   "source": [
    "# Handle Rows with Null Values\n",
    "DF = df.dropna()"
   ]
  },
  {
   "cell_type": "code",
   "execution_count": 20,
   "metadata": {},
   "outputs": [
    {
     "name": "stdout",
     "output_type": "stream",
     "text": [
      "<class 'pandas.core.frame.DataFrame'>\n",
      "Index: 44898 entries, 0 to 44918\n",
      "Data columns (total 4 columns):\n",
      " #   Column      Non-Null Count  Dtype \n",
      "---  ------      --------------  ----- \n",
      " 0   title       44898 non-null  object\n",
      " 1   text        44898 non-null  object\n",
      " 2   date        44898 non-null  object\n",
      " 3   news_label  44898 non-null  int64 \n",
      "dtypes: int64(1), object(3)\n",
      "memory usage: 1.7+ MB\n"
     ]
    }
   ],
   "source": [
    "DF.info()"
   ]
  },
  {
   "cell_type": "markdown",
   "metadata": {
    "id": "kDyPvMITooWA"
   },
   "source": [
    "### **1.4** Merge the relevant columns and drop the rest from the DataFrame  <font color = red>[3 marks]</font> <br>\n",
    "\n",
    "Combine the relevant columns into a new column `news_text` and then drop irrelevant columns from the DataFrame"
   ]
  },
  {
   "cell_type": "code",
   "execution_count": 21,
   "metadata": {
    "id": "u9VI48jS_HTy"
   },
   "outputs": [
    {
     "data": {
      "text/html": [
       "<div>\n",
       "<style scoped>\n",
       "    .dataframe tbody tr th:only-of-type {\n",
       "        vertical-align: middle;\n",
       "    }\n",
       "\n",
       "    .dataframe tbody tr th {\n",
       "        vertical-align: top;\n",
       "    }\n",
       "\n",
       "    .dataframe thead th {\n",
       "        text-align: right;\n",
       "    }\n",
       "</style>\n",
       "<table border=\"1\" class=\"dataframe\">\n",
       "  <thead>\n",
       "    <tr style=\"text-align: right;\">\n",
       "      <th></th>\n",
       "      <th>date</th>\n",
       "      <th>news_label</th>\n",
       "      <th>news_text</th>\n",
       "    </tr>\n",
       "  </thead>\n",
       "  <tbody>\n",
       "    <tr>\n",
       "      <th>0</th>\n",
       "      <td>February 29, 2016</td>\n",
       "      <td>0</td>\n",
       "      <td>\\r\\r\\r\\r\\r\\r\\r\\nDonald Trump Gets His A** Hand...</td>\n",
       "    </tr>\n",
       "    <tr>\n",
       "      <th>1</th>\n",
       "      <td>June 22, 2017</td>\n",
       "      <td>0</td>\n",
       "      <td>\\r\\r\\r\\r\\r\\r\\r\\nEx-GOP Congressman Shreds Fell...</td>\n",
       "    </tr>\n",
       "    <tr>\n",
       "      <th>2</th>\n",
       "      <td>November 5, 2016</td>\n",
       "      <td>0</td>\n",
       "      <td>\\r\\r\\r\\r\\r\\r\\r\\nTrump Gets STOMPED For Whining...</td>\n",
       "    </tr>\n",
       "    <tr>\n",
       "      <th>3</th>\n",
       "      <td>May 4, 2017</td>\n",
       "      <td>0</td>\n",
       "      <td>\\r\\r\\r\\r\\r\\r\\r\\nWATCH: Democratic Rep Delivers...</td>\n",
       "    </tr>\n",
       "    <tr>\n",
       "      <th>4</th>\n",
       "      <td>August 5, 2016</td>\n",
       "      <td>0</td>\n",
       "      <td>#AfterTrumpImplodes Hashtag Hilariously Imagi...</td>\n",
       "    </tr>\n",
       "  </tbody>\n",
       "</table>\n",
       "</div>"
      ],
      "text/plain": [
       "                date  news_label  \\\n",
       "0  February 29, 2016           0   \n",
       "1      June 22, 2017           0   \n",
       "2   November 5, 2016           0   \n",
       "3        May 4, 2017           0   \n",
       "4     August 5, 2016           0   \n",
       "\n",
       "                                           news_text  \n",
       "0  \\r\\r\\r\\r\\r\\r\\r\\nDonald Trump Gets His A** Hand...  \n",
       "1  \\r\\r\\r\\r\\r\\r\\r\\nEx-GOP Congressman Shreds Fell...  \n",
       "2  \\r\\r\\r\\r\\r\\r\\r\\nTrump Gets STOMPED For Whining...  \n",
       "3  \\r\\r\\r\\r\\r\\r\\r\\nWATCH: Democratic Rep Delivers...  \n",
       "4   #AfterTrumpImplodes Hashtag Hilariously Imagi...  "
      ]
     },
     "execution_count": 21,
     "metadata": {},
     "output_type": "execute_result"
    }
   ],
   "source": [
    "# Combine the relevant columns into a new column 'news_text' by joining their values with a space\n",
    "DF[\"news_text\"] = DF[\"title\"].astype('str')+' '+DF[\"text\"].astype('str')\n",
    "# Drop the irrelevant columns from the DataFrame as they are no longer needed\n",
    "DF.drop([\"title\",\"text\"],axis=1,inplace=True)\n",
    "# Display the first 5 rows of the updated DataFrame to check the result\n",
    "DF.head()"
   ]
  },
  {
   "cell_type": "markdown",
   "metadata": {
    "id": "L944HZpsJrFy"
   },
   "source": [
    "## **2.** Text Preprocessing <font color = red>[15 marks]</font> <br>\n",
    "\n",
    "\n",
    "\n",
    "\n",
    "\n",
    "\n",
    "On all the news text, you need to:\n",
    "<ol type=1>\n",
    "  <li> Make the text lowercase\n",
    "  <li> Remove text in square brackets\n",
    "  <li> Remove punctuation\n",
    "  <li> Remove words containing numbers\n",
    "</ol>\n",
    "\n",
    "\n",
    "Once you have done these cleaning operations you need to perform POS tagging and lemmatization on the cleaned news text, and remove all words that are not tagged as NN or NNS."
   ]
  },
  {
   "cell_type": "markdown",
   "metadata": {
    "id": "_-6VW3V3jx1A"
   },
   "source": [
    "### **2.1** Text Cleaning  <font color = red>[5 marks]</font> <br>\n",
    "\n"
   ]
  },
  {
   "cell_type": "markdown",
   "metadata": {
    "id": "78OZs7P4kp41"
   },
   "source": [
    "#### 2.1.0 Create a new DataFrame to store the processed data\n",
    "\n"
   ]
  },
  {
   "cell_type": "code",
   "execution_count": 22,
   "metadata": {
    "id": "uXnN7aa_JrF0"
   },
   "outputs": [],
   "source": [
    "# Create a DataFrame('df_clean') that will have only the cleaned news text and the lemmatized news text with POS tags removed\n",
    "\n",
    "# Add 'news_label' column to the new dataframe for topic identification\n"
   ]
  },
  {
   "cell_type": "markdown",
   "metadata": {
    "id": "hsf00J83mdNL"
   },
   "source": [
    "#### 2.1.1 Write the function to clean the text and remove all the unnecessary elements  <font color = red>[4 marks]</font> <br>\n",
    "\n"
   ]
  },
  {
   "cell_type": "code",
   "execution_count": 23,
   "metadata": {
    "id": "qm7SjjSkJrFz"
   },
   "outputs": [],
   "source": [
    "# Write the function here to clean the text and remove all the unnecessary elements\n",
    "def textCleaning(dataframe, column,column_new):\n",
    "    df = dataframe.copy()\n",
    "    # Convert to lower case\n",
    "    df[column_new] = df[column].astype(str).str.lower()\n",
    "    # Remove text in square brackets\n",
    "    df[column_new] = df[column_new].str.replace(r'\\[.*?\\]', '', regex=True)\n",
    "    # Remove punctuation\n",
    "    df[column_new] = df[column_new].apply(lambda x: x.translate(str.maketrans('', '', string.punctuation)))\n",
    "    # Remove words with numbers\n",
    "    df[column_new] = df[column_new].apply(lambda x: ' '.join([word for word in x.split() if not any(c.isdigit() for c in word)]))\n",
    "    \n",
    "    return df\n"
   ]
  },
  {
   "cell_type": "markdown",
   "metadata": {
    "id": "dDFMNnrdkUvd"
   },
   "source": [
    "#### 2.1.2  Apply the function to clean the news text and store the cleaned text in a new column within the new DataFrame. <font color = red>[1 mark]</font> <br>\n"
   ]
  },
  {
   "cell_type": "code",
   "execution_count": 24,
   "metadata": {
    "id": "nOiDVvEIJrF0"
   },
   "outputs": [],
   "source": [
    "# Apply the function to clean the news text and remove all unnecessary elements\n",
    "# Store it in a separate column in the new DataFrame\n",
    "DF = textCleaning(DF,\"news_text\",\"news_text_cleaned\")"
   ]
  },
  {
   "cell_type": "code",
   "execution_count": 25,
   "metadata": {},
   "outputs": [
    {
     "data": {
      "text/html": [
       "<div>\n",
       "<style scoped>\n",
       "    .dataframe tbody tr th:only-of-type {\n",
       "        vertical-align: middle;\n",
       "    }\n",
       "\n",
       "    .dataframe tbody tr th {\n",
       "        vertical-align: top;\n",
       "    }\n",
       "\n",
       "    .dataframe thead th {\n",
       "        text-align: right;\n",
       "    }\n",
       "</style>\n",
       "<table border=\"1\" class=\"dataframe\">\n",
       "  <thead>\n",
       "    <tr style=\"text-align: right;\">\n",
       "      <th></th>\n",
       "      <th>date</th>\n",
       "      <th>news_label</th>\n",
       "      <th>news_text</th>\n",
       "      <th>news_text_cleaned</th>\n",
       "    </tr>\n",
       "  </thead>\n",
       "  <tbody>\n",
       "    <tr>\n",
       "      <th>0</th>\n",
       "      <td>February 29, 2016</td>\n",
       "      <td>0</td>\n",
       "      <td>\\r\\r\\r\\r\\r\\r\\r\\nDonald Trump Gets His A** Hand...</td>\n",
       "      <td>donald trump gets his a handed to him by a gir...</td>\n",
       "    </tr>\n",
       "    <tr>\n",
       "      <th>1</th>\n",
       "      <td>June 22, 2017</td>\n",
       "      <td>0</td>\n",
       "      <td>\\r\\r\\r\\r\\r\\r\\r\\nEx-GOP Congressman Shreds Fell...</td>\n",
       "      <td>exgop congressman shreds fellow republicans fo...</td>\n",
       "    </tr>\n",
       "    <tr>\n",
       "      <th>2</th>\n",
       "      <td>November 5, 2016</td>\n",
       "      <td>0</td>\n",
       "      <td>\\r\\r\\r\\r\\r\\r\\r\\nTrump Gets STOMPED For Whining...</td>\n",
       "      <td>trump gets stomped for whining about president...</td>\n",
       "    </tr>\n",
       "    <tr>\n",
       "      <th>3</th>\n",
       "      <td>May 4, 2017</td>\n",
       "      <td>0</td>\n",
       "      <td>\\r\\r\\r\\r\\r\\r\\r\\nWATCH: Democratic Rep Delivers...</td>\n",
       "      <td>watch democratic rep delivers scathing rebuke ...</td>\n",
       "    </tr>\n",
       "    <tr>\n",
       "      <th>4</th>\n",
       "      <td>August 5, 2016</td>\n",
       "      <td>0</td>\n",
       "      <td>#AfterTrumpImplodes Hashtag Hilariously Imagi...</td>\n",
       "      <td>aftertrumpimplodes hashtag hilariously imagine...</td>\n",
       "    </tr>\n",
       "  </tbody>\n",
       "</table>\n",
       "</div>"
      ],
      "text/plain": [
       "                date  news_label  \\\n",
       "0  February 29, 2016           0   \n",
       "1      June 22, 2017           0   \n",
       "2   November 5, 2016           0   \n",
       "3        May 4, 2017           0   \n",
       "4     August 5, 2016           0   \n",
       "\n",
       "                                           news_text  \\\n",
       "0  \\r\\r\\r\\r\\r\\r\\r\\nDonald Trump Gets His A** Hand...   \n",
       "1  \\r\\r\\r\\r\\r\\r\\r\\nEx-GOP Congressman Shreds Fell...   \n",
       "2  \\r\\r\\r\\r\\r\\r\\r\\nTrump Gets STOMPED For Whining...   \n",
       "3  \\r\\r\\r\\r\\r\\r\\r\\nWATCH: Democratic Rep Delivers...   \n",
       "4   #AfterTrumpImplodes Hashtag Hilariously Imagi...   \n",
       "\n",
       "                                   news_text_cleaned  \n",
       "0  donald trump gets his a handed to him by a gir...  \n",
       "1  exgop congressman shreds fellow republicans fo...  \n",
       "2  trump gets stomped for whining about president...  \n",
       "3  watch democratic rep delivers scathing rebuke ...  \n",
       "4  aftertrumpimplodes hashtag hilariously imagine...  "
      ]
     },
     "execution_count": 25,
     "metadata": {},
     "output_type": "execute_result"
    }
   ],
   "source": [
    "DF.head()"
   ]
  },
  {
   "cell_type": "markdown",
   "metadata": {
    "id": "MSAVnSelkF9d"
   },
   "source": [
    "### **2.2** POS Tagging and Lemmatization  <font color = red>[10 marks]</font> <br>\n",
    "\n"
   ]
  },
  {
   "cell_type": "markdown",
   "metadata": {
    "id": "QCqNHDL2mHok"
   },
   "source": [
    "#### 2.2.1 Write the function for POS tagging and lemmatization, filtering stopwords and keeping only NN and NNS tags <font color = red>[8 marks]</font> <br>\n",
    "\n"
   ]
  },
  {
   "cell_type": "code",
   "execution_count": 26,
   "metadata": {
    "id": "zgOu8t8HJrFz"
   },
   "outputs": [],
   "source": [
    "# Write the function for POS tagging and lemmatization, filtering stopwords and keeping only NN and NNS tags\n",
    "def lemmaAndPOSTags(row_text):\n",
    "    \n",
    "    wordnet_lemmatizer = nltk.stem.WordNetLemmatizer()\n",
    "    \n",
    "    # Tokenize the row text\n",
    "    words = nltk.tokenize.word_tokenize(row_text)\n",
    "    \n",
    "    # Removing stop words\n",
    "    words = [word for word in words if word not in nltk.corpus.stopwords.words(\"english\")]\n",
    "    \n",
    "    # POS tagging the words\n",
    "    wordsWithPOSTag = nltk.pos_tag(words)\n",
    "    \n",
    "    # Lemmatization with correct POS mapping\n",
    "    lemmatized_words = []\n",
    "    for word, pos_tag in wordsWithPOSTag:\n",
    "        # Map NLTK POS tag to WordNet format\n",
    "        if pos_tag.startswith('N'):\n",
    "            wordnet_pos = 'n'\n",
    "        elif pos_tag.startswith('V'):\n",
    "            wordnet_pos = 'v'\n",
    "        elif pos_tag.startswith('J'):\n",
    "            wordnet_pos = 'a'\n",
    "        elif pos_tag.startswith('R'):\n",
    "            wordnet_pos = 'r'\n",
    "        else:\n",
    "            wordnet_pos = 'n'  # Default to noun\n",
    "        \n",
    "        # Lemmatize with the correct POS\n",
    "        lemma = wordnet_lemmatizer.lemmatize(word, pos=wordnet_pos)\n",
    "        lemmatized_words.append((lemma, pos_tag))\n",
    "    \n",
    "    # Keeping only NN and NNS\n",
    "    words_NN_NNS = [word for word, pos in lemmatized_words if pos == 'NN' or pos == 'NNS']\n",
    "    \n",
    "    return words_NN_NNS\n",
    "    "
   ]
  },
  {
   "cell_type": "markdown",
   "metadata": {
    "id": "_T3So7PXlibT"
   },
   "source": [
    "#### 2.2.2  Apply the POS tagging and lemmatization function to cleaned text and store it in a new column within the new DataFrame. <font color = red>[2 mark]</font> <br>\n",
    "\n",
    "**NOTE: Store the cleaned text and the lemmatized text with POS tags removed in separate columns within the new DataFrame.**\n",
    "\n",
    "**This will be useful for analysing character length differences between cleaned text and lemmatized text with POS tags removed during EDA.**\n"
   ]
  },
  {
   "cell_type": "code",
   "execution_count": 70,
   "metadata": {
    "id": "L9FWmibNI67F"
   },
   "outputs": [
    {
     "data": {
      "text/html": [
       "<div>\n",
       "<style scoped>\n",
       "    .dataframe tbody tr th:only-of-type {\n",
       "        vertical-align: middle;\n",
       "    }\n",
       "\n",
       "    .dataframe tbody tr th {\n",
       "        vertical-align: top;\n",
       "    }\n",
       "\n",
       "    .dataframe thead th {\n",
       "        text-align: right;\n",
       "    }\n",
       "</style>\n",
       "<table border=\"1\" class=\"dataframe\">\n",
       "  <thead>\n",
       "    <tr style=\"text-align: right;\">\n",
       "      <th></th>\n",
       "      <th>date</th>\n",
       "      <th>news_label</th>\n",
       "      <th>news_text</th>\n",
       "      <th>news_text_cleaned</th>\n",
       "      <th>preprocessed_text</th>\n",
       "    </tr>\n",
       "  </thead>\n",
       "  <tbody>\n",
       "    <tr>\n",
       "      <th>0</th>\n",
       "      <td>February 29, 2016</td>\n",
       "      <td>0</td>\n",
       "      <td>\\r\\r\\r\\r\\r\\r\\r\\nDonald Trump Gets His A** Hand...</td>\n",
       "      <td>donald trump gets his a handed to him by a gir...</td>\n",
       "      <td>[trump, girl, video, girl, trump, amazingon, h...</td>\n",
       "    </tr>\n",
       "    <tr>\n",
       "      <th>1</th>\n",
       "      <td>June 22, 2017</td>\n",
       "      <td>0</td>\n",
       "      <td>\\r\\r\\r\\r\\r\\r\\r\\nEx-GOP Congressman Shreds Fell...</td>\n",
       "      <td>exgop congressman shreds fellow republicans fo...</td>\n",
       "      <td>[congressman, shred, trump, impeachment, video...</td>\n",
       "    </tr>\n",
       "    <tr>\n",
       "      <th>2</th>\n",
       "      <td>November 5, 2016</td>\n",
       "      <td>0</td>\n",
       "      <td>\\r\\r\\r\\r\\r\\r\\r\\nTrump Gets STOMPED For Whining...</td>\n",
       "      <td>trump gets stomped for whining about president...</td>\n",
       "      <td>[trump, president, air, force, campaign, trail...</td>\n",
       "    </tr>\n",
       "    <tr>\n",
       "      <th>3</th>\n",
       "      <td>May 4, 2017</td>\n",
       "      <td>0</td>\n",
       "      <td>\\r\\r\\r\\r\\r\\r\\r\\nWATCH: Democratic Rep Delivers...</td>\n",
       "      <td>watch democratic rep delivers scathing rebuke ...</td>\n",
       "      <td>[watch, rep, delivers, rebuke, trumpcare, bill...</td>\n",
       "    </tr>\n",
       "    <tr>\n",
       "      <th>4</th>\n",
       "      <td>August 5, 2016</td>\n",
       "      <td>0</td>\n",
       "      <td>#AfterTrumpImplodes Hashtag Hilariously Imagi...</td>\n",
       "      <td>aftertrumpimplodes hashtag hilariously imagine...</td>\n",
       "      <td>[aftertrumpimplodes, imago, posttrump, world, ...</td>\n",
       "    </tr>\n",
       "  </tbody>\n",
       "</table>\n",
       "</div>"
      ],
      "text/plain": [
       "                date  news_label  \\\n",
       "0  February 29, 2016           0   \n",
       "1      June 22, 2017           0   \n",
       "2   November 5, 2016           0   \n",
       "3        May 4, 2017           0   \n",
       "4     August 5, 2016           0   \n",
       "\n",
       "                                           news_text  \\\n",
       "0  \\r\\r\\r\\r\\r\\r\\r\\nDonald Trump Gets His A** Hand...   \n",
       "1  \\r\\r\\r\\r\\r\\r\\r\\nEx-GOP Congressman Shreds Fell...   \n",
       "2  \\r\\r\\r\\r\\r\\r\\r\\nTrump Gets STOMPED For Whining...   \n",
       "3  \\r\\r\\r\\r\\r\\r\\r\\nWATCH: Democratic Rep Delivers...   \n",
       "4   #AfterTrumpImplodes Hashtag Hilariously Imagi...   \n",
       "\n",
       "                                   news_text_cleaned  \\\n",
       "0  donald trump gets his a handed to him by a gir...   \n",
       "1  exgop congressman shreds fellow republicans fo...   \n",
       "2  trump gets stomped for whining about president...   \n",
       "3  watch democratic rep delivers scathing rebuke ...   \n",
       "4  aftertrumpimplodes hashtag hilariously imagine...   \n",
       "\n",
       "                                   preprocessed_text  \n",
       "0  [trump, girl, video, girl, trump, amazingon, h...  \n",
       "1  [congressman, shred, trump, impeachment, video...  \n",
       "2  [trump, president, air, force, campaign, trail...  \n",
       "3  [watch, rep, delivers, rebuke, trumpcare, bill...  \n",
       "4  [aftertrumpimplodes, imago, posttrump, world, ...  "
      ]
     },
     "execution_count": 70,
     "metadata": {},
     "output_type": "execute_result"
    }
   ],
   "source": [
    "# Apply POS tagging and lemmatization function to cleaned text\n",
    "# Store it in a separate column in the new DataFrame\n",
    "#DF[\"news_text_cleaned\"][0]\n",
    "DF[\"preprocessed_text\"] = DF[\"news_text_cleaned\"].apply(lemmaAndPOSTags)\n",
    "DF.head()"
   ]
  },
  {
   "cell_type": "markdown",
   "metadata": {
    "id": "BMc5kjeqnX9b"
   },
   "source": [
    "### Save the Cleaned data as a csv file (Recommended)"
   ]
  },
  {
   "cell_type": "code",
   "execution_count": 3,
   "metadata": {
    "id": "fTjNG5xfnlwm"
   },
   "outputs": [],
   "source": [
    "## Recommended to perform the below steps to save time while rerunning the code\n",
    "#df_clean = DF.copy()\n",
    "#df_clean.to_csv(\"clean_df.csv\", index=False)\n",
    "df_clean = pd.read_csv(\"clean_df.csv\")"
   ]
  },
  {
   "cell_type": "code",
   "execution_count": 4,
   "metadata": {
    "id": "0M0LseVjneMv"
   },
   "outputs": [
    {
     "data": {
      "text/html": [
       "<div>\n",
       "<style scoped>\n",
       "    .dataframe tbody tr th:only-of-type {\n",
       "        vertical-align: middle;\n",
       "    }\n",
       "\n",
       "    .dataframe tbody tr th {\n",
       "        vertical-align: top;\n",
       "    }\n",
       "\n",
       "    .dataframe thead th {\n",
       "        text-align: right;\n",
       "    }\n",
       "</style>\n",
       "<table border=\"1\" class=\"dataframe\">\n",
       "  <thead>\n",
       "    <tr style=\"text-align: right;\">\n",
       "      <th></th>\n",
       "      <th>date</th>\n",
       "      <th>news_label</th>\n",
       "      <th>news_text</th>\n",
       "      <th>news_text_cleaned</th>\n",
       "      <th>news_text_token</th>\n",
       "    </tr>\n",
       "  </thead>\n",
       "  <tbody>\n",
       "    <tr>\n",
       "      <th>0</th>\n",
       "      <td>February 29, 2016</td>\n",
       "      <td>0</td>\n",
       "      <td>\\r\\r\\r\\r\\r\\r\\r\\nDonald Trump Gets His A** Hand...</td>\n",
       "      <td>donald trump gets his a handed to him by a gir...</td>\n",
       "      <td>['trump', 'girl', 'video', 'girl', 'trump', 'a...</td>\n",
       "    </tr>\n",
       "    <tr>\n",
       "      <th>1</th>\n",
       "      <td>June 22, 2017</td>\n",
       "      <td>0</td>\n",
       "      <td>\\r\\r\\r\\r\\r\\r\\r\\nEx-GOP Congressman Shreds Fell...</td>\n",
       "      <td>exgop congressman shreds fellow republicans fo...</td>\n",
       "      <td>['congressman', 'shred', 'trump', 'impeachment...</td>\n",
       "    </tr>\n",
       "    <tr>\n",
       "      <th>2</th>\n",
       "      <td>November 5, 2016</td>\n",
       "      <td>0</td>\n",
       "      <td>\\r\\r\\r\\r\\r\\r\\r\\nTrump Gets STOMPED For Whining...</td>\n",
       "      <td>trump gets stomped for whining about president...</td>\n",
       "      <td>['trump', 'president', 'air', 'force', 'campai...</td>\n",
       "    </tr>\n",
       "    <tr>\n",
       "      <th>3</th>\n",
       "      <td>May 4, 2017</td>\n",
       "      <td>0</td>\n",
       "      <td>\\r\\r\\r\\r\\r\\r\\r\\nWATCH: Democratic Rep Delivers...</td>\n",
       "      <td>watch democratic rep delivers scathing rebuke ...</td>\n",
       "      <td>['watch', 'rep', 'delivers', 'rebuke', 'trumpc...</td>\n",
       "    </tr>\n",
       "    <tr>\n",
       "      <th>4</th>\n",
       "      <td>August 5, 2016</td>\n",
       "      <td>0</td>\n",
       "      <td>#AfterTrumpImplodes Hashtag Hilariously Imagi...</td>\n",
       "      <td>aftertrumpimplodes hashtag hilariously imagine...</td>\n",
       "      <td>['aftertrumpimplodes', 'imago', 'posttrump', '...</td>\n",
       "    </tr>\n",
       "    <tr>\n",
       "      <th>5</th>\n",
       "      <td>February 4, 2016</td>\n",
       "      <td>0</td>\n",
       "      <td>#BlackLivesMatter Leader To Run For Mayor Of ...</td>\n",
       "      <td>blacklivesmatter leader to run for mayor of ra...</td>\n",
       "      <td>['blacklivesmatter', 'leader', 'mayor', 'polic...</td>\n",
       "    </tr>\n",
       "    <tr>\n",
       "      <th>6</th>\n",
       "      <td>July 13, 2017</td>\n",
       "      <td>0</td>\n",
       "      <td>#BringBackObama Hashtag Blows Up On Twitter A...</td>\n",
       "      <td>bringbackobama hashtag blows up on twitter as ...</td>\n",
       "      <td>['bringbackobama', 'hashtag', 'twitter', 'amer...</td>\n",
       "    </tr>\n",
       "    <tr>\n",
       "      <th>7</th>\n",
       "      <td>March 2, 2016</td>\n",
       "      <td>0</td>\n",
       "      <td>#FreeChrisChristie: Twitter Reacts To The ‘Ho...</td>\n",
       "      <td>freechrischristie twitter reacts to the ‘hosta...</td>\n",
       "      <td>['twitter', 'reacts', 'situation', 'trump', 's...</td>\n",
       "    </tr>\n",
       "    <tr>\n",
       "      <th>8</th>\n",
       "      <td>August 13, 2016</td>\n",
       "      <td>0</td>\n",
       "      <td>#MakeAmericaBrannigan: Futurama Voice Actor R...</td>\n",
       "      <td>makeamericabrannigan futurama voice actor read...</td>\n",
       "      <td>['voice', 'actor', 'quote', 'tweet', 'voice', ...</td>\n",
       "    </tr>\n",
       "    <tr>\n",
       "      <th>9</th>\n",
       "      <td>March 1, 2017</td>\n",
       "      <td>0</td>\n",
       "      <td>#NeverTrump Conservative Has The PERFECT Desc...</td>\n",
       "      <td>nevertrump conservative has the perfect descri...</td>\n",
       "      <td>['description', 'pundit', 'reaction', 'trump',...</td>\n",
       "    </tr>\n",
       "  </tbody>\n",
       "</table>\n",
       "</div>"
      ],
      "text/plain": [
       "                date  news_label  \\\n",
       "0  February 29, 2016           0   \n",
       "1      June 22, 2017           0   \n",
       "2   November 5, 2016           0   \n",
       "3        May 4, 2017           0   \n",
       "4     August 5, 2016           0   \n",
       "5   February 4, 2016           0   \n",
       "6      July 13, 2017           0   \n",
       "7      March 2, 2016           0   \n",
       "8    August 13, 2016           0   \n",
       "9      March 1, 2017           0   \n",
       "\n",
       "                                           news_text  \\\n",
       "0  \\r\\r\\r\\r\\r\\r\\r\\nDonald Trump Gets His A** Hand...   \n",
       "1  \\r\\r\\r\\r\\r\\r\\r\\nEx-GOP Congressman Shreds Fell...   \n",
       "2  \\r\\r\\r\\r\\r\\r\\r\\nTrump Gets STOMPED For Whining...   \n",
       "3  \\r\\r\\r\\r\\r\\r\\r\\nWATCH: Democratic Rep Delivers...   \n",
       "4   #AfterTrumpImplodes Hashtag Hilariously Imagi...   \n",
       "5   #BlackLivesMatter Leader To Run For Mayor Of ...   \n",
       "6   #BringBackObama Hashtag Blows Up On Twitter A...   \n",
       "7   #FreeChrisChristie: Twitter Reacts To The ‘Ho...   \n",
       "8   #MakeAmericaBrannigan: Futurama Voice Actor R...   \n",
       "9   #NeverTrump Conservative Has The PERFECT Desc...   \n",
       "\n",
       "                                   news_text_cleaned  \\\n",
       "0  donald trump gets his a handed to him by a gir...   \n",
       "1  exgop congressman shreds fellow republicans fo...   \n",
       "2  trump gets stomped for whining about president...   \n",
       "3  watch democratic rep delivers scathing rebuke ...   \n",
       "4  aftertrumpimplodes hashtag hilariously imagine...   \n",
       "5  blacklivesmatter leader to run for mayor of ra...   \n",
       "6  bringbackobama hashtag blows up on twitter as ...   \n",
       "7  freechrischristie twitter reacts to the ‘hosta...   \n",
       "8  makeamericabrannigan futurama voice actor read...   \n",
       "9  nevertrump conservative has the perfect descri...   \n",
       "\n",
       "                                     news_text_token  \n",
       "0  ['trump', 'girl', 'video', 'girl', 'trump', 'a...  \n",
       "1  ['congressman', 'shred', 'trump', 'impeachment...  \n",
       "2  ['trump', 'president', 'air', 'force', 'campai...  \n",
       "3  ['watch', 'rep', 'delivers', 'rebuke', 'trumpc...  \n",
       "4  ['aftertrumpimplodes', 'imago', 'posttrump', '...  \n",
       "5  ['blacklivesmatter', 'leader', 'mayor', 'polic...  \n",
       "6  ['bringbackobama', 'hashtag', 'twitter', 'amer...  \n",
       "7  ['twitter', 'reacts', 'situation', 'trump', 's...  \n",
       "8  ['voice', 'actor', 'quote', 'tweet', 'voice', ...  \n",
       "9  ['description', 'pundit', 'reaction', 'trump',...  "
      ]
     },
     "execution_count": 4,
     "metadata": {},
     "output_type": "execute_result"
    }
   ],
   "source": [
    "# Check the first few rows of the DataFrame\n",
    "df_clean.head(10)"
   ]
  },
  {
   "cell_type": "code",
   "execution_count": 5,
   "metadata": {},
   "outputs": [
    {
     "data": {
      "text/html": [
       "<div>\n",
       "<style scoped>\n",
       "    .dataframe tbody tr th:only-of-type {\n",
       "        vertical-align: middle;\n",
       "    }\n",
       "\n",
       "    .dataframe tbody tr th {\n",
       "        vertical-align: top;\n",
       "    }\n",
       "\n",
       "    .dataframe thead th {\n",
       "        text-align: right;\n",
       "    }\n",
       "</style>\n",
       "<table border=\"1\" class=\"dataframe\">\n",
       "  <thead>\n",
       "    <tr style=\"text-align: right;\">\n",
       "      <th></th>\n",
       "      <th>news_label</th>\n",
       "      <th>news_text</th>\n",
       "      <th>news_text_cleaned</th>\n",
       "      <th>news_text_token</th>\n",
       "    </tr>\n",
       "  </thead>\n",
       "  <tbody>\n",
       "    <tr>\n",
       "      <th>0</th>\n",
       "      <td>0</td>\n",
       "      <td>\\r\\r\\r\\r\\r\\r\\r\\nDonald Trump Gets His A** Hand...</td>\n",
       "      <td>donald trump gets his a handed to him by a gir...</td>\n",
       "      <td>['trump', 'girl', 'video', 'girl', 'trump', 'a...</td>\n",
       "    </tr>\n",
       "    <tr>\n",
       "      <th>1</th>\n",
       "      <td>0</td>\n",
       "      <td>\\r\\r\\r\\r\\r\\r\\r\\nEx-GOP Congressman Shreds Fell...</td>\n",
       "      <td>exgop congressman shreds fellow republicans fo...</td>\n",
       "      <td>['congressman', 'shred', 'trump', 'impeachment...</td>\n",
       "    </tr>\n",
       "    <tr>\n",
       "      <th>2</th>\n",
       "      <td>0</td>\n",
       "      <td>\\r\\r\\r\\r\\r\\r\\r\\nTrump Gets STOMPED For Whining...</td>\n",
       "      <td>trump gets stomped for whining about president...</td>\n",
       "      <td>['trump', 'president', 'air', 'force', 'campai...</td>\n",
       "    </tr>\n",
       "    <tr>\n",
       "      <th>3</th>\n",
       "      <td>0</td>\n",
       "      <td>\\r\\r\\r\\r\\r\\r\\r\\nWATCH: Democratic Rep Delivers...</td>\n",
       "      <td>watch democratic rep delivers scathing rebuke ...</td>\n",
       "      <td>['watch', 'rep', 'delivers', 'rebuke', 'trumpc...</td>\n",
       "    </tr>\n",
       "    <tr>\n",
       "      <th>4</th>\n",
       "      <td>0</td>\n",
       "      <td>#AfterTrumpImplodes Hashtag Hilariously Imagi...</td>\n",
       "      <td>aftertrumpimplodes hashtag hilariously imagine...</td>\n",
       "      <td>['aftertrumpimplodes', 'imago', 'posttrump', '...</td>\n",
       "    </tr>\n",
       "    <tr>\n",
       "      <th>...</th>\n",
       "      <td>...</td>\n",
       "      <td>...</td>\n",
       "      <td>...</td>\n",
       "      <td>...</td>\n",
       "    </tr>\n",
       "    <tr>\n",
       "      <th>44893</th>\n",
       "      <td>0</td>\n",
       "      <td>“YOU’RE HIRED!” Trump Pulls Unemployed Vet Fro...</td>\n",
       "      <td>“you’re hired” trump pulls unemployed vet from...</td>\n",
       "      <td>['trump', 'pull', 'vet', 'audience', 'hire', '...</td>\n",
       "    </tr>\n",
       "    <tr>\n",
       "      <th>44894</th>\n",
       "      <td>0</td>\n",
       "      <td>“YOU’RE HIRED!” Trump Pulls Unemployed Vet Fro...</td>\n",
       "      <td>“you’re hired” trump pulls unemployed vet from...</td>\n",
       "      <td>['trump', 'pull', 'vet', 'audience', 'hire', '...</td>\n",
       "    </tr>\n",
       "    <tr>\n",
       "      <th>44895</th>\n",
       "      <td>0</td>\n",
       "      <td>“Your rights are NOT superior to mine!” JUDGE ...</td>\n",
       "      <td>“your rights are not superior to mine” judge j...</td>\n",
       "      <td>['right', 'mine', 'judge', 'jeanine', 'let', '...</td>\n",
       "    </tr>\n",
       "    <tr>\n",
       "      <th>44896</th>\n",
       "      <td>0</td>\n",
       "      <td>“You’re Not Welcome!” Obama As Welcome At Rose...</td>\n",
       "      <td>“you’re not welcome” obama as welcome at roseb...</td>\n",
       "      <td>['roseberg', 'funeral', 'church', 'member', 'r...</td>\n",
       "    </tr>\n",
       "    <tr>\n",
       "      <th>44897</th>\n",
       "      <td>0</td>\n",
       "      <td>“You’re Not Welcome!” Obama As Welcome At Rose...</td>\n",
       "      <td>“you’re not welcome” obama as welcome at roseb...</td>\n",
       "      <td>['roseberg', 'funeral', 'church', 'member', 'r...</td>\n",
       "    </tr>\n",
       "  </tbody>\n",
       "</table>\n",
       "<p>44898 rows × 4 columns</p>\n",
       "</div>"
      ],
      "text/plain": [
       "       news_label                                          news_text  \\\n",
       "0               0  \\r\\r\\r\\r\\r\\r\\r\\nDonald Trump Gets His A** Hand...   \n",
       "1               0  \\r\\r\\r\\r\\r\\r\\r\\nEx-GOP Congressman Shreds Fell...   \n",
       "2               0  \\r\\r\\r\\r\\r\\r\\r\\nTrump Gets STOMPED For Whining...   \n",
       "3               0  \\r\\r\\r\\r\\r\\r\\r\\nWATCH: Democratic Rep Delivers...   \n",
       "4               0   #AfterTrumpImplodes Hashtag Hilariously Imagi...   \n",
       "...           ...                                                ...   \n",
       "44893           0  “YOU’RE HIRED!” Trump Pulls Unemployed Vet Fro...   \n",
       "44894           0  “YOU’RE HIRED!” Trump Pulls Unemployed Vet Fro...   \n",
       "44895           0  “Your rights are NOT superior to mine!” JUDGE ...   \n",
       "44896           0  “You’re Not Welcome!” Obama As Welcome At Rose...   \n",
       "44897           0  “You’re Not Welcome!” Obama As Welcome At Rose...   \n",
       "\n",
       "                                       news_text_cleaned  \\\n",
       "0      donald trump gets his a handed to him by a gir...   \n",
       "1      exgop congressman shreds fellow republicans fo...   \n",
       "2      trump gets stomped for whining about president...   \n",
       "3      watch democratic rep delivers scathing rebuke ...   \n",
       "4      aftertrumpimplodes hashtag hilariously imagine...   \n",
       "...                                                  ...   \n",
       "44893  “you’re hired” trump pulls unemployed vet from...   \n",
       "44894  “you’re hired” trump pulls unemployed vet from...   \n",
       "44895  “your rights are not superior to mine” judge j...   \n",
       "44896  “you’re not welcome” obama as welcome at roseb...   \n",
       "44897  “you’re not welcome” obama as welcome at roseb...   \n",
       "\n",
       "                                         news_text_token  \n",
       "0      ['trump', 'girl', 'video', 'girl', 'trump', 'a...  \n",
       "1      ['congressman', 'shred', 'trump', 'impeachment...  \n",
       "2      ['trump', 'president', 'air', 'force', 'campai...  \n",
       "3      ['watch', 'rep', 'delivers', 'rebuke', 'trumpc...  \n",
       "4      ['aftertrumpimplodes', 'imago', 'posttrump', '...  \n",
       "...                                                  ...  \n",
       "44893  ['trump', 'pull', 'vet', 'audience', 'hire', '...  \n",
       "44894  ['trump', 'pull', 'vet', 'audience', 'hire', '...  \n",
       "44895  ['right', 'mine', 'judge', 'jeanine', 'let', '...  \n",
       "44896  ['roseberg', 'funeral', 'church', 'member', 'r...  \n",
       "44897  ['roseberg', 'funeral', 'church', 'member', 'r...  \n",
       "\n",
       "[44898 rows x 4 columns]"
      ]
     },
     "execution_count": 5,
     "metadata": {},
     "output_type": "execute_result"
    }
   ],
   "source": [
    "df_clean.drop('date', axis=1)"
   ]
  },
  {
   "cell_type": "code",
   "execution_count": 6,
   "metadata": {
    "id": "lDZq_T3FYuOi"
   },
   "outputs": [
    {
     "data": {
      "text/plain": [
       "(44898, 5)"
      ]
     },
     "execution_count": 6,
     "metadata": {},
     "output_type": "execute_result"
    }
   ],
   "source": [
    "# Check the dimensions of the DataFrame\n",
    "df_clean.shape"
   ]
  },
  {
   "cell_type": "code",
   "execution_count": 7,
   "metadata": {
    "id": "ah1aJPmiAqWz"
   },
   "outputs": [
    {
     "name": "stdout",
     "output_type": "stream",
     "text": [
      "<class 'pandas.core.frame.DataFrame'>\n",
      "RangeIndex: 44898 entries, 0 to 44897\n",
      "Data columns (total 5 columns):\n",
      " #   Column             Non-Null Count  Dtype \n",
      "---  ------             --------------  ----- \n",
      " 0   date               44898 non-null  object\n",
      " 1   news_label         44898 non-null  int64 \n",
      " 2   news_text          44898 non-null  object\n",
      " 3   news_text_cleaned  44889 non-null  object\n",
      " 4   news_text_token    44898 non-null  object\n",
      "dtypes: int64(1), object(4)\n",
      "memory usage: 1.7+ MB\n"
     ]
    }
   ],
   "source": [
    "# Check the number of non-null entries and data types of each column\n",
    "df_clean.info()"
   ]
  },
  {
   "cell_type": "code",
   "execution_count": 8,
   "metadata": {
    "scrolled": true
   },
   "outputs": [],
   "source": [
    "# Since preprocessed_text is not list but a str we need to change it for further analysis\n",
    "import ast\n",
    "df_clean['news_text_token'] = df_clean['news_text_token'].apply(\n",
    "    lambda x: ast.literal_eval(x) if isinstance(x, str) else x\n",
    ")"
   ]
  },
  {
   "cell_type": "markdown",
   "metadata": {
    "id": "XMzqKme_2QQ0"
   },
   "source": [
    "## **3.** Train Validation Split <font color = red>[5 marks]</font> <br>"
   ]
  },
  {
   "cell_type": "code",
   "execution_count": 9,
   "metadata": {
    "id": "jmx_W7Ty2PlK"
   },
   "outputs": [],
   "source": [
    "# Import Train Test Split and split the DataFrame into 70% train and 30% validation data\n",
    "from sklearn.model_selection import train_test_split\n",
    "X = df_clean[['news_text','news_text_cleaned','news_text_token','news_label']]\n",
    "y = df_clean['news_label']\n",
    "train_df, test_df, y_train, y_test = train_test_split(X,y,test_size=0.3,random_state=42)"
   ]
  },
  {
   "cell_type": "code",
   "execution_count": 41,
   "metadata": {},
   "outputs": [
    {
     "name": "stdout",
     "output_type": "stream",
     "text": [
      "Shape of train_df: (31428, 6)\n",
      "Shape of test_df: (13470, 4)\n",
      "Shape of y_train: (31428,)\n",
      "Shape of y_test: (13470,)\n"
     ]
    }
   ],
   "source": [
    "print(\"Shape of train_df:\", train_df.shape)\n",
    "print(\"Shape of test_df:\", test_df.shape)\n",
    "print(\"Shape of y_train:\", y_train.shape)\n",
    "print(\"Shape of y_test:\", y_test.shape)"
   ]
  },
  {
   "cell_type": "code",
   "execution_count": 10,
   "metadata": {},
   "outputs": [
    {
     "data": {
      "text/html": [
       "<div>\n",
       "<style scoped>\n",
       "    .dataframe tbody tr th:only-of-type {\n",
       "        vertical-align: middle;\n",
       "    }\n",
       "\n",
       "    .dataframe tbody tr th {\n",
       "        vertical-align: top;\n",
       "    }\n",
       "\n",
       "    .dataframe thead th {\n",
       "        text-align: right;\n",
       "    }\n",
       "</style>\n",
       "<table border=\"1\" class=\"dataframe\">\n",
       "  <thead>\n",
       "    <tr style=\"text-align: right;\">\n",
       "      <th></th>\n",
       "      <th>news_text</th>\n",
       "      <th>news_text_cleaned</th>\n",
       "      <th>news_text_token</th>\n",
       "      <th>news_label</th>\n",
       "    </tr>\n",
       "  </thead>\n",
       "  <tbody>\n",
       "    <tr>\n",
       "      <th>13970</th>\n",
       "      <td>COLLEGE STUDENTS ASKED How To Achieve The Amer...</td>\n",
       "      <td>college students asked how to achieve the amer...</td>\n",
       "      <td>[college, student, dream, stuff, bernie, sander]</td>\n",
       "      <td>0</td>\n",
       "    </tr>\n",
       "    <tr>\n",
       "      <th>41668</th>\n",
       "      <td>Vatican vows to seek truth about diplomat in c...</td>\n",
       "      <td>vatican vows to seek truth about diplomat in c...</td>\n",
       "      <td>[vow, truth, diplomat, child, pornography, cas...</td>\n",
       "      <td>1</td>\n",
       "    </tr>\n",
       "    <tr>\n",
       "      <th>26810</th>\n",
       "      <td>Myriad of ways the CIA tried (and failed) to a...</td>\n",
       "      <td>myriad of ways the cia tried and failed to ass...</td>\n",
       "      <td>[way, assassinate, fidel, cuban, revolution, f...</td>\n",
       "      <td>0</td>\n",
       "    </tr>\n",
       "    <tr>\n",
       "      <th>30967</th>\n",
       "      <td>Republican Rubio projected to win Puerto Rico:...</td>\n",
       "      <td>republican rubio projected to win puerto rico ...</td>\n",
       "      <td>[rubio, rico, medium, washington, reuters, can...</td>\n",
       "      <td>1</td>\n",
       "    </tr>\n",
       "    <tr>\n",
       "      <th>26072</th>\n",
       "      <td>May Brexit offer would hurt, cost EU citizens ...</td>\n",
       "      <td>may brexit offer would hurt cost eu citizens e...</td>\n",
       "      <td>[offer, cost, eu, citizen, brussels, reuters, ...</td>\n",
       "      <td>1</td>\n",
       "    </tr>\n",
       "  </tbody>\n",
       "</table>\n",
       "</div>"
      ],
      "text/plain": [
       "                                               news_text  \\\n",
       "13970  COLLEGE STUDENTS ASKED How To Achieve The Amer...   \n",
       "41668  Vatican vows to seek truth about diplomat in c...   \n",
       "26810  Myriad of ways the CIA tried (and failed) to a...   \n",
       "30967  Republican Rubio projected to win Puerto Rico:...   \n",
       "26072  May Brexit offer would hurt, cost EU citizens ...   \n",
       "\n",
       "                                       news_text_cleaned  \\\n",
       "13970  college students asked how to achieve the amer...   \n",
       "41668  vatican vows to seek truth about diplomat in c...   \n",
       "26810  myriad of ways the cia tried and failed to ass...   \n",
       "30967  republican rubio projected to win puerto rico ...   \n",
       "26072  may brexit offer would hurt cost eu citizens e...   \n",
       "\n",
       "                                         news_text_token  news_label  \n",
       "13970   [college, student, dream, stuff, bernie, sander]           0  \n",
       "41668  [vow, truth, diplomat, child, pornography, cas...           1  \n",
       "26810  [way, assassinate, fidel, cuban, revolution, f...           0  \n",
       "30967  [rubio, rico, medium, washington, reuters, can...           1  \n",
       "26072  [offer, cost, eu, citizen, brussels, reuters, ...           1  "
      ]
     },
     "execution_count": 10,
     "metadata": {},
     "output_type": "execute_result"
    }
   ],
   "source": [
    "train_df.head()"
   ]
  },
  {
   "cell_type": "markdown",
   "metadata": {
    "id": "_7Un1AElJrF2"
   },
   "source": [
    "## **4.** Exploratory Data Analysis on Training Data  <font color = red>[40 marks]</font> <br>\n",
    "\n",
    "Perform EDA on cleaned and preprocessed texts to get familiar with the training data by performing the tasks given below:\n",
    "\n",
    "<ul>\n",
    "  <li> Visualise the training data according to the character length of cleaned news text and lemmatized news text with POS tags removed\n",
    "  <li> Using a word cloud, find the top 40 words by frequency in true and fake news separately\n",
    "  <li> Find the top unigrams, bigrams and trigrams by frequency in true and fake news separately\n",
    "</ul>\n",
    "\n",
    "\n",
    "\n"
   ]
  },
  {
   "cell_type": "markdown",
   "metadata": {
    "id": "rOZ7yZ4Fp1cp"
   },
   "source": [
    "### **4.1** Visualise character lengths of cleaned news text and lemmatized news text with POS tags removed  <font color = red>[10 marks]</font> <br>\n",
    "\n"
   ]
  },
  {
   "cell_type": "markdown",
   "metadata": {
    "id": "UCI4DbZWpQ7n"
   },
   "source": [
    "##### 4.1.1  Add new columns to calculate the character lengths of the processed data columns  <font color = red>[3 marks]</font> <br>\n",
    "\n"
   ]
  },
  {
   "cell_type": "code",
   "execution_count": 11,
   "metadata": {
    "id": "HifHm5rxpaxZ"
   },
   "outputs": [],
   "source": [
    "# Add a new column to calculate the character length of cleaned news text\n",
    "train_df[\"char_length_news_text_cleaned\"] = train_df[\"news_text_cleaned\"].apply(lambda x: len(str(x)))\n",
    "# Add a new column to calculate the character length of lemmatized news text with POS tags removed\n",
    "train_df[\"char_length_preproccesed_text\"] = train_df[\"news_text_token\"].apply(lambda x: len(str(x)))"
   ]
  },
  {
   "cell_type": "code",
   "execution_count": 12,
   "metadata": {},
   "outputs": [
    {
     "data": {
      "text/plain": [
       "13970     [college, student, dream, stuff, bernie, sander]\n",
       "41668    [vow, truth, diplomat, child, pornography, cas...\n",
       "26810    [way, assassinate, fidel, cuban, revolution, f...\n",
       "30967    [rubio, rico, medium, washington, reuters, can...\n",
       "26072    [offer, cost, eu, citizen, brussels, reuters, ...\n",
       "Name: news_text_token, dtype: object"
      ]
     },
     "execution_count": 12,
     "metadata": {},
     "output_type": "execute_result"
    }
   ],
   "source": [
    "train_df[\"news_text_token\"].head()"
   ]
  },
  {
   "cell_type": "markdown",
   "metadata": {
    "id": "U1JvT8lNpbFe"
   },
   "source": [
    "##### 4.1.2  Create Histogram to visualise character lengths  <font color = red>[7 marks]</font> <br>\n",
    "\n",
    " Plot both distributions on the same graph for comparison and to observe overlaps and peak differences to understand text preprocessing's impact on text length."
   ]
  },
  {
   "cell_type": "code",
   "execution_count": 13,
   "metadata": {
    "id": "q-zaqJF6JrF2"
   },
   "outputs": [
    {
     "data": {
      "image/png": "[encoded data removed]",
      "text/plain": [
       "<Figure size 1000x600 with 1 Axes>"
      ]
     },
     "metadata": {},
     "output_type": "display_data"
    }
   ],
   "source": [
    "# Create a histogram plot to visualise character lengths\n",
    " \n",
    "plt.figure(figsize=(10, 6))\n",
    "# Add histogram for cleaned news text\n",
    "sns.histplot(train_df[\"char_length_news_text_cleaned\"])\n",
    "# Add histogram for lemmatized news text with POS tags removed\n",
    "sns.histplot(train_df[\"char_length_preproccesed_text\"])\n",
    "plt.show()"
   ]
  },
  {
   "cell_type": "markdown",
   "metadata": {
    "id": "T9jD_6SeJrF3"
   },
   "source": [
    "### **4.2** Find and display the top 40 words by frequency among true and fake news in Training data after processing the text  <font color = red>[10 marks]</font> <br>\n",
    "\n"
   ]
  },
  {
   "cell_type": "markdown",
   "metadata": {
    "id": "n320yzDiEUH4"
   },
   "source": [
    "##### 4.2.1 Find and display the top 40 words by frequency among true news in Training data after processing the text  <font color = red>[5 marks]</font> <br>"
   ]
  },
  {
   "cell_type": "code",
   "execution_count": 58,
   "metadata": {
    "id": "QcfdvtfZJrF3",
    "scrolled": true
   },
   "outputs": [
    {
     "name": "stdout",
     "output_type": "stream",
     "text": [
      "Top 40 Word Frequencies:\n",
      "state': 10279\n",
      "year': 9768\n",
      "government': 9170\n",
      "trump': 7452\n",
      "people': 6738\n",
      "country': 6708\n",
      "week': 5945\n",
      "month': 5436\n",
      "time': 5134\n",
      "group': 4744\n",
      "official': 4392\n",
      "statement': 4138\n",
      "president': 3935\n",
      "day': 3906\n",
      "law': 3311\n",
      "plan': 3205\n",
      "support': 3169\n",
      "party': 3150\n",
      "issue': 3144\n",
      "administration': 3111\n",
      "part': 3043\n",
      "leader': 3032\n",
      "policy': 3004\n",
      "election': 3003\n",
      "way': 2847\n",
      "washington' reuters': 2768\n",
      "campaign': 2753\n",
      "company': 2666\n",
      "lawmaker': 2575\n",
      "case': 2517\n",
      "decision': 2504\n",
      "effort': 2491\n",
      "deal': 2484\n",
      "report': 2441\n",
      "nation': 2438\n",
      "power': 2413\n",
      "vote': 2398\n",
      "china': 2380\n",
      "work': 2362\n",
      "comment': 2355\n"
     ]
    },
    {
     "data": {
      "image/png": "[encoded data removed]",
      "text/plain": [
       "<Figure size 640x480 with 1 Axes>"
      ]
     },
     "metadata": {},
     "output_type": "display_data"
    }
   ],
   "source": [
    "## Use a word cloud find the top 40 words by frequency among true news in the training data after processing the text\n",
    "\n",
    "# Filter news with label 1 (True News) and convert to it string and handle any non-string values\n",
    "true_news_text = train_df[train_df['news_label'] == 1]['news_text_token']\n",
    "all_true_text = ' '.join(true_news_text.astype(str).tolist())\n",
    "# Generate word cloud for True News\n",
    "wordcloud = WordCloud(width=800, height=400, background_color='white', max_words=40).generate(all_true_text)\n",
    "plt.imshow(wordcloud, interpolation='bilinear')\n",
    "plt.axis('off')\n",
    "\n",
    "word_frequencies=wordcloud.process_text(all_true_text)\n",
    "top_40 = sorted(word_frequencies.items(), key=lambda x: x[1], reverse=True)[:40]\n",
    "\n",
    "# Print top 40\n",
    "print(\"Top 40 Word Frequencies:\")\n",
    "for word, freq in top_40:\n",
    "    print(f\"{word}: {freq}\")"
   ]
  },
  {
   "cell_type": "markdown",
   "metadata": {
    "id": "LbHtjWzbEj__"
   },
   "source": [
    "##### 4.2.2 Find and display the top 40 words by frequency among fake news in Training data after processing the text  <font color = red>[5 marks]</font> <br>"
   ]
  },
  {
   "cell_type": "code",
   "execution_count": 59,
   "metadata": {
    "id": "MOFoDEscEkMO",
    "scrolled": true
   },
   "outputs": [
    {
     "name": "stdout",
     "output_type": "stream",
     "text": [
      "Top 40 Word Frequencies:\n",
      "trump': 13832\n",
      "people': 12565\n",
      "time': 8777\n",
      "president': 8501\n",
      "year': 7604\n",
      "state': 7172\n",
      "way': 5777\n",
      "clinton': 5608\n",
      "country': 5126\n",
      "medium': 4893\n",
      "day': 4884\n",
      "woman': 4802\n",
      "thing': 4752\n",
      "house': 4480\n",
      "government': 4166\n",
      "fact': 4132\n",
      "news': 3970\n",
      "man': 3724\n",
      "party': 3656\n",
      "group': 3533\n",
      "campaign': 3480\n",
      "donald' trump': 3460\n",
      "report': 3445\n",
      "week': 3438\n",
      "video': 3304\n",
      "world': 3275\n",
      "part': 3061\n",
      "case': 3043\n",
      "statement': 3038\n",
      "obama': 2991\n",
      "family': 2947\n",
      "american': 2907\n",
      "today': 2882\n",
      "something': 2872\n",
      "nation': 2810\n",
      "question': 2776\n",
      "point': 2775\n",
      "nothing': 2745\n",
      "administration': 2742\n",
      "democrat': 2712\n"
     ]
    },
    {
     "data": {
      "image/png": "[encoded data removed]",
      "text/plain": [
       "<Figure size 640x480 with 1 Axes>"
      ]
     },
     "metadata": {},
     "output_type": "display_data"
    }
   ],
   "source": [
    "## Use a word cloud find the top 40 words by frequency among fake news in the training data after processing the text\n",
    "\n",
    "# Filter news with label 0 (Fake News) and convert to it string and handle any non-string values\n",
    "fake_news_text = train_df[train_df['news_label'] == 0]['news_text_token']\n",
    "all_fake_text = ' '.join(fake_news_text.astype(str).tolist())\n",
    "# Generate word cloud for True News\n",
    "wordcloud = WordCloud(width=800, height=400, background_color='white', max_words=40).generate(all_fake_text)\n",
    "plt.imshow(wordcloud, interpolation='bilinear')\n",
    "plt.axis('off')\n",
    "\n",
    "word_frequencies=wordcloud.process_text(all_fake_text)\n",
    "top_40 = sorted(word_frequencies.items(), key=lambda x: x[1], reverse=True)[:40]\n",
    "\n",
    "# Print top 40\n",
    "print(\"Top 40 Word Frequencies:\")\n",
    "for word, freq in top_40:\n",
    "    print(f\"{word}: {freq}\")\n"
   ]
  },
  {
   "cell_type": "markdown",
   "metadata": {
    "id": "5DfCSbbmJrF4"
   },
   "source": [
    "### **4.3** Find and display the top unigrams, bigrams and trigrams by frequency in true news and fake news after processing the text  <font color = red>[20 marks]</font> <br>\n",
    "\n",
    "\n"
   ]
  },
  {
   "cell_type": "markdown",
   "metadata": {
    "id": "ApGagSppsAyL"
   },
   "source": [
    "##### 4.3.1 Write a function to get the specified top n-grams  <font color = red>[4 marks]</font> <br>\n",
    "\n"
   ]
  },
  {
   "cell_type": "code",
   "execution_count": 16,
   "metadata": {
    "id": "5mbk5DS5JrF4"
   },
   "outputs": [],
   "source": [
    "# Write a function to get the specified top n-grams\n",
    "def get_top_ngrams(text, n, top_k=10):\n",
    " \n",
    "    #tokens = nltk.word_tokenize(text)\n",
    "    ngram_list = list(nltk.ngrams(text, n))\n",
    "    ngram_freq = Counter(ngram_list)\n",
    "    top_ngrams = ngram_freq.most_common(top_k)  # Get top k frequent n-grams\n",
    "    \n",
    "    \n",
    "    ngrams = [' '.join(gram) for gram, freq in top_ngrams]\n",
    "    freqs = [freq for gram, freq in top_ngrams]\n",
    "\n",
    "    # Plotting\n",
    "    plt.figure(figsize=(10,6))\n",
    "    plt.barh(ngrams, freqs, color='skyblue')\n",
    "    plt.xlabel(\"Frequency\")\n",
    "    plt.title(f\"Top {top_k} {n}-grams\")\n",
    "    plt.gca().invert_yaxis()  # To show the highest frequency on top\n",
    "    plt.show()\n",
    "    \n",
    "    return top_ngrams"
   ]
  },
  {
   "cell_type": "markdown",
   "metadata": {
    "id": "ZHcBL7vRsM4I"
   },
   "source": [
    "##### 4.3.2 Handle the NaN values  <font color = red>[1 mark]</font> <br>\n",
    "\n"
   ]
  },
  {
   "cell_type": "code",
   "execution_count": 17,
   "metadata": {
    "id": "3Ks69UQGCXpw"
   },
   "outputs": [
    {
     "name": "stdout",
     "output_type": "stream",
     "text": [
      "Any NaN values: 13970    False\n",
      "41668    False\n",
      "26810    False\n",
      "30967    False\n",
      "26072    False\n",
      "         ...  \n",
      "11284    False\n",
      "44732    False\n",
      "38158    False\n",
      "860      False\n",
      "15795    False\n",
      "Name: news_text_token, Length: 31428, dtype: bool\n"
     ]
    }
   ],
   "source": [
    "# Handle NaN values in the text data\n",
    "has_nan = train_df['news_text_token'].isna()\n",
    "print(\"Any NaN values:\", has_nan)"
   ]
  },
  {
   "cell_type": "markdown",
   "metadata": {},
   "source": [
    "###### No NaN Values found"
   ]
  },
  {
   "cell_type": "markdown",
   "metadata": {
    "id": "caioIgIEsfh2"
   },
   "source": [
    "### For True News\n",
    "\n",
    "\n"
   ]
  },
  {
   "cell_type": "markdown",
   "metadata": {
    "id": "QYB2ZXZ83fjo"
   },
   "source": [
    "##### 4.3.3 Display the top 10 unigrams by frequency in true news and plot them as a bar graph  <font color = red>[2.5 marks]</font> <br>"
   ]
  },
  {
   "cell_type": "code",
   "execution_count": 18,
   "metadata": {
    "id": "YX7fedm1JrF8"
   },
   "outputs": [
    {
     "data": {
      "image/png": "[encoded data removed]",
      "text/plain": [
       "<Figure size 1000x600 with 1 Axes>"
      ]
     },
     "metadata": {},
     "output_type": "display_data"
    },
    {
     "name": "stdout",
     "output_type": "stream",
     "text": [
      "Top 10 Unigrams: [(('trump',), 27384), (('state',), 25709), (('president',), 19325), (('reuters',), 19294), (('government',), 13880), (('year',), 13560), (('house',), 12913), (('party',), 10848), (('people',), 10774), (('election',), 10314)]\n"
     ]
    }
   ],
   "source": [
    "# Print the top 10 unigrams by frequency in true news and plot the same using a bar graph\n",
    "\n",
    "true_news_text = train_df[train_df['news_label'] == 1]['news_text_token']\n",
    "all_tokens = [token for sublist in true_news_text for token in sublist]\n",
    "top_unigrams = get_top_ngrams(all_tokens, n=1, top_k=10)\n",
    "print(\"Top 10 Unigrams:\", top_unigrams)"
   ]
  },
  {
   "cell_type": "markdown",
   "metadata": {
    "id": "y3Q7wQnnsvOE"
   },
   "source": [
    "##### 4.3.4 Display the top 10 bigrams by frequency in true news and plot them as a bar graph  <font color = red>[2.5 marks]</font> <br>\n",
    "\n"
   ]
  },
  {
   "cell_type": "code",
   "execution_count": 19,
   "metadata": {
    "id": "aV7kD7w8JrF8"
   },
   "outputs": [
    {
     "data": {
      "image/png": "[encoded data removed]",
      "text/plain": [
       "<Figure size 1000x600 with 1 Axes>"
      ]
     },
     "metadata": {},
     "output_type": "display_data"
    },
    {
     "name": "stdout",
     "output_type": "stream",
     "text": [
      "Top 10 Bigrams: [(('washington', 'reuters'), 2768), (('reuters', 'president'), 1958), (('president', 'barack'), 1912), (('donald', 'trump'), 1836), (('house', 'representative'), 1616), (('secretary', 'state'), 1606), (('president', 'trump'), 1581), (('barack', 'obama'), 1575), (('state', 'department'), 1331), (('president', 'donald'), 1205)]\n"
     ]
    }
   ],
   "source": [
    "# Print the top 10 bigrams by frequency in true news and plot the same using a bar graph\n",
    "top_unigrams = get_top_ngrams(all_tokens, n=2, top_k=10)\n",
    "print(\"Top 10 Bigrams:\", top_unigrams)"
   ]
  },
  {
   "cell_type": "markdown",
   "metadata": {
    "id": "opdM04-Bs_Bg"
   },
   "source": [
    "##### 4.3.5 Display the top 10 trigrams by frequency in true news and plot them as a bar graph  <font color = red>[2.5 marks]</font> <br>\n",
    "\n"
   ]
  },
  {
   "cell_type": "code",
   "execution_count": 20,
   "metadata": {
    "id": "Xkh7vtbtJrF-"
   },
   "outputs": [
    {
     "data": {
      "image/png": "[encoded data removed]",
      "text/plain": [
       "<Figure size 1000x600 with 1 Axes>"
      ]
     },
     "metadata": {},
     "output_type": "display_data"
    },
    {
     "name": "stdout",
     "output_type": "stream",
     "text": [
      "Top 10 Trigrams: [(('president', 'barack', 'obama'), 1349), (('washington', 'reuters', 'president'), 580), (('president', 'donald', 'trump'), 511), (('reuters', 'president', 'trump'), 445), (('secretary', 'state', 'rex'), 441), (('state', 'rex', 'tillerson'), 436), (('president', 'vladimir', 'putin'), 424), (('speaker', 'paul', 'ryan'), 355), (('leader', 'mitch', 'mcconnell'), 343), (('majority', 'leader', 'mitch'), 309)]\n"
     ]
    }
   ],
   "source": [
    "# Print the top 10 trigrams by frequency in true news and plot the same using a bar graph\n",
    "top_unigrams = get_top_ngrams(all_tokens, n=3, top_k=10)\n",
    "print(\"Top 10 Trigrams:\", top_unigrams)"
   ]
  },
  {
   "cell_type": "markdown",
   "metadata": {
    "id": "prNx2Sm0WGEj"
   },
   "source": [
    "### For Fake News\n",
    "\n",
    "\n",
    "\n",
    "\n",
    "\n"
   ]
  },
  {
   "cell_type": "markdown",
   "metadata": {
    "id": "obBKlBVK3mfX"
   },
   "source": [
    "##### 4.3.6 Display the top 10 unigrams by frequency in fake news and plot them as a bar graph  <font color = red>[2.5 marks]</font> <br>"
   ]
  },
  {
   "cell_type": "code",
   "execution_count": 21,
   "metadata": {
    "id": "1qKDzoSIWGXp"
   },
   "outputs": [
    {
     "data": {
      "image/png": "[encoded data removed]",
      "text/plain": [
       "<Figure size 1000x600 with 1 Axes>"
      ]
     },
     "metadata": {},
     "output_type": "display_data"
    },
    {
     "name": "stdout",
     "output_type": "stream",
     "text": [
      "Top 10 Unigrams: [(('trump',), 39630), (('president',), 18849), (('people',), 18239), (('state',), 15203), (('time',), 12344), (('clinton',), 11786), (('year',), 10305), (('news',), 10244), (('image',), 9605), (('woman',), 8182)]\n"
     ]
    }
   ],
   "source": [
    "# Print the top 10 unigrams by frequency in fake news and plot the same using a bar graph\n",
    "fake_news_text = train_df[train_df['news_label'] == 0]['news_text_token']\n",
    "all_tokens_fake = [token for sublist in fake_news_text for token in sublist]\n",
    "top_unigrams_fake = get_top_ngrams(all_tokens_fake, n=1, top_k=10)\n",
    "print(\"Top 10 Unigrams:\", top_unigrams_fake)"
   ]
  },
  {
   "cell_type": "markdown",
   "metadata": {
    "id": "bSlMnmqcYsNw"
   },
   "source": [
    "##### 4.3.7 Display the top 10 bigrams by frequency in fake news and plot them as a bar graph  <font color = red>[2.5 marks]</font> <br>\n",
    "\n"
   ]
  },
  {
   "cell_type": "code",
   "execution_count": 22,
   "metadata": {
    "id": "r5xUk_r9Wa0f"
   },
   "outputs": [
    {
     "data": {
      "image/png": "[encoded data removed]",
      "text/plain": [
       "<Figure size 1000x600 with 1 Axes>"
      ]
     },
     "metadata": {},
     "output_type": "display_data"
    },
    {
     "name": "stdout",
     "output_type": "stream",
     "text": [
      "Top 10 Bigrams: [(('donald', 'trump'), 3460), (('president', 'trump'), 2633), (('century', 'wire'), 1307), (('trump', 'campaign'), 1253), (('trump', 'supporter'), 1203), (('secretary', 'state'), 1100), (('state', 'department'), 1092), (('trump', 'realdonaldtrump'), 1072), (('law', 'enforcement'), 1070), (('york', 'time'), 1050)]\n"
     ]
    }
   ],
   "source": [
    "# Print the top 10 bigrams by frequency in fake news and plot the same using a bar graph\n",
    "top_unigrams_fake = get_top_ngrams(all_tokens_fake, n=2, top_k=10)\n",
    "print(\"Top 10 Bigrams:\", top_unigrams_fake)"
   ]
  },
  {
   "cell_type": "markdown",
   "metadata": {
    "id": "i08WYIwPYs6R"
   },
   "source": [
    "##### 4.3.8 Display the top 10 trigrams by frequency in fake news and plot them as a bar graph  <font color = red>[2.5 marks]</font> <br>\n",
    "\n"
   ]
  },
  {
   "cell_type": "code",
   "execution_count": 23,
   "metadata": {
    "id": "6nT9a1EvWa-s"
   },
   "outputs": [
    {
     "data": {
      "image/png": "[encoded data removed]",
      "text/plain": [
       "<Figure size 1000x600 with 1 Axes>"
      ]
     },
     "metadata": {},
     "output_type": "display_data"
    },
    {
     "name": "stdout",
     "output_type": "stream",
     "text": [
      "Top 10 Trigrams: [(('j', 'trump', 'realdonaldtrump'), 776), (('donald', 'j', 'trump'), 705), (('news', 'century', 'wire'), 637), (('president', 'barack', 'obama'), 428), (('image', 'video', 'screen'), 393), (('video', 'screen', 'capture'), 371), (('fbi', 'director', 'james'), 194), (('department', 'homeland', 'security'), 187), (('secretary', 'state', 'clinton'), 183), (('image', 'chip', 'image'), 175)]\n"
     ]
    }
   ],
   "source": [
    "# Print the top 10 trigrams by frequency in fake news and plot the same using a bar graph\n",
    "top_unigrams_fake = get_top_ngrams(all_tokens_fake, n=3, top_k=10)\n",
    "print(\"Top 10 Trigrams:\", top_unigrams_fake)"
   ]
  },
  {
   "cell_type": "markdown",
   "metadata": {
    "id": "2VsOO_oHN8-_",
    "jp-MarkdownHeadingCollapsed": true
   },
   "source": [
    "## **5.** Exploratory Data Analysis on Validation Data [Optional]\n",
    "\n",
    "Perform EDA on validation data to differentiate EDA on training data with EDA on validation data and the tasks are given below:\n",
    "\n",
    "<ul>\n",
    "  <li> Visualise the data according to the character length of cleaned news text and lemmatized text with POS tags removed\n",
    "  <li> Using a word cloud find the top 40 words by frequency in true and fake news separately\n",
    "  <li> Find the top unigrams, bigrams and trigrams by frequency in true and fake news separately\n",
    "</ul>\n",
    "\n",
    "\n",
    "\n"
   ]
  },
  {
   "cell_type": "markdown",
   "metadata": {
    "id": "jNkif5wrONfI"
   },
   "source": [
    "### **5.1** Visualise character lengths of cleaned news text and lemmatized news text with POS tags removed"
   ]
  },
  {
   "cell_type": "markdown",
   "metadata": {
    "id": "gAhwSWBWOTIj"
   },
   "source": [
    "##### 5.1.1  Add new columns to calculate the character lengths of the processed data columns"
   ]
  },
  {
   "cell_type": "code",
   "execution_count": 45,
   "metadata": {
    "id": "6hYYTrdHORAs"
   },
   "outputs": [],
   "source": [
    "# Add a new column to calculate the character length of cleaned news text\n",
    "\n",
    "# Add a new column to calculate the character length of lemmatized news text with POS tags removed\n"
   ]
  },
  {
   "cell_type": "markdown",
   "metadata": {
    "id": "VRILiD8hOX5q"
   },
   "source": [
    "##### 5.1.2  Create Histogram to visualise character lengths\n",
    "\n",
    "Plot both distributions on the same graph for comparison and to observe overlaps and peak differences to understand text preprocessing's impact on text length."
   ]
  },
  {
   "cell_type": "code",
   "execution_count": 46,
   "metadata": {
    "id": "j7LLOXC0Oaix"
   },
   "outputs": [],
   "source": [
    "# Create a histogram plot to visualise character lengths\n",
    "\n",
    "# Add histogram for cleaned news text\n",
    "\n",
    "# Add histogram for lemmatized news text with POS tags removed\n"
   ]
  },
  {
   "cell_type": "markdown",
   "metadata": {
    "id": "nPxa0JrvOwFu"
   },
   "source": [
    "### **5.2** Find and display the top 40 words by frequency among true and fake news after processing the text"
   ]
  },
  {
   "cell_type": "markdown",
   "metadata": {
    "id": "uOZRD8vaFt2h"
   },
   "source": [
    "##### 5.2.1  Find and display the top 40 words by frequency among true news in validation data after processing the text"
   ]
  },
  {
   "cell_type": "code",
   "execution_count": 47,
   "metadata": {
    "id": "6_9UVs4WOw0_"
   },
   "outputs": [],
   "source": [
    "## Use a word cloud find the top 40 words by frequency among true news after processing the text\n",
    "\n",
    "# Generate word cloud for True News\n"
   ]
  },
  {
   "cell_type": "markdown",
   "metadata": {
    "id": "T6AQPITsFuop"
   },
   "source": [
    "##### 5.2.2  Find and display the top 40 words by frequency among fake news in validation data after processing the text"
   ]
  },
  {
   "cell_type": "code",
   "execution_count": 48,
   "metadata": {
    "id": "4gk6xTdSFu1X"
   },
   "outputs": [],
   "source": [
    "## Use a word cloud find the top 40 words by frequency among fake news after processing the text\n",
    "\n",
    "# Generate word cloud for Fake News\n"
   ]
  },
  {
   "cell_type": "markdown",
   "metadata": {
    "id": "dx0s2a7xOxKf"
   },
   "source": [
    "### **5.3** Find and display the top unigrams, bigrams and trigrams by frequency in true news and fake news after processing the text  \n",
    "\n",
    "\n",
    "\n"
   ]
  },
  {
   "cell_type": "markdown",
   "metadata": {
    "id": "z2xZKU0RO5ft"
   },
   "source": [
    "##### 5.3.1 Write a function to get the specified top n-grams"
   ]
  },
  {
   "cell_type": "code",
   "execution_count": 49,
   "metadata": {
    "id": "g70ZFxcoOxS2"
   },
   "outputs": [],
   "source": [
    "## Write a function to get the specified top n-grams\n"
   ]
  },
  {
   "cell_type": "markdown",
   "metadata": {
    "id": "k8ud5-r7O7ut"
   },
   "source": [
    "##### 5.3.2 Handle the NaN values"
   ]
  },
  {
   "cell_type": "code",
   "execution_count": 50,
   "metadata": {
    "id": "vsBu-aotPBJF"
   },
   "outputs": [],
   "source": [
    "## First handle NaN values in the text data\n"
   ]
  },
  {
   "cell_type": "markdown",
   "metadata": {
    "id": "0KVWcxoDPAiE"
   },
   "source": [
    "### For True News\n"
   ]
  },
  {
   "cell_type": "markdown",
   "metadata": {
    "id": "Am3uuIlU4wj1"
   },
   "source": [
    "\n",
    "##### 5.3.3 Display the top 10 unigrams by frequency in true news and plot them as a bar graph"
   ]
  },
  {
   "cell_type": "code",
   "execution_count": 51,
   "metadata": {
    "id": "HKdpz-XmPGHD"
   },
   "outputs": [],
   "source": [
    "## Print the top 10 unigrams by frequency in true news and plot the same using a bar graph\n"
   ]
  },
  {
   "cell_type": "markdown",
   "metadata": {
    "id": "kiKrOL8rPLAs"
   },
   "source": [
    "##### 5.3.4 Display the top 10 bigrams by frequency in true news and plot them as a bar graph"
   ]
  },
  {
   "cell_type": "code",
   "execution_count": 52,
   "metadata": {
    "id": "iuyYGnaNPLwq"
   },
   "outputs": [],
   "source": [
    "## Print the top 10 bigrams by frequency in true news and plot the same using a bar graph\n"
   ]
  },
  {
   "cell_type": "markdown",
   "metadata": {
    "id": "9f8_h-BiPOKb"
   },
   "source": [
    "##### 5.3.5 Display the top 10 trigrams by frequency in true news and plot them as a bar graph"
   ]
  },
  {
   "cell_type": "code",
   "execution_count": 53,
   "metadata": {
    "id": "8lz-XS7qPQZj"
   },
   "outputs": [],
   "source": [
    "## Print the top 10 trigrams by frequency in true news and plot the same using a bar graph\n"
   ]
  },
  {
   "cell_type": "markdown",
   "metadata": {
    "id": "7MfApeGrd6Fl"
   },
   "source": [
    "### For Fake News"
   ]
  },
  {
   "cell_type": "markdown",
   "metadata": {
    "id": "_CH1csmZeGqh"
   },
   "source": [
    "##### 5.3.6 Display the top 10 unigrams by frequency in fake news and plot them as a bar graph"
   ]
  },
  {
   "cell_type": "code",
   "execution_count": 54,
   "metadata": {
    "id": "w310WzGAeG4K"
   },
   "outputs": [],
   "source": [
    "## Print the top 10 unigrams by frequency in fake news and plot the same using a bar graph\n"
   ]
  },
  {
   "cell_type": "markdown",
   "metadata": {
    "id": "yFjOaPx7eHFw"
   },
   "source": [
    "##### 5.3.7 Display the top 10 bigrams by frequency in fake news and plot them as a bar graph"
   ]
  },
  {
   "cell_type": "code",
   "execution_count": 55,
   "metadata": {
    "id": "ZuTqnjkIeHSJ"
   },
   "outputs": [],
   "source": [
    "## Print the top 10 bigrams by frequency in fake news and plot the same using a bar graph\n"
   ]
  },
  {
   "cell_type": "markdown",
   "metadata": {
    "id": "Vn_oiixheHf_"
   },
   "source": [
    "##### 5.3.8 Display the top 10 trigrams by frequency in fake news and plot them as a bar graph"
   ]
  },
  {
   "cell_type": "code",
   "execution_count": 56,
   "metadata": {
    "id": "xduyO4gheHtI"
   },
   "outputs": [],
   "source": [
    "## Print the top 10 trigrams by frequency in fake news and plot the same using a bar graph\n"
   ]
  },
  {
   "cell_type": "markdown",
   "metadata": {
    "id": "k-I0k0QtJrGA"
   },
   "source": [
    "## **6.** Feature Extraction  <font color = red>[10 marks]</font> <br>\n",
    "\n",
    "For any ML model to perform classification on textual data, you need to convert it to a vector form. In this assignment, you will use the Word2Vec Vectorizer to create vectors from textual data. Word2Vec model captures the semantic relationship between words.\n"
   ]
  },
  {
   "cell_type": "markdown",
   "metadata": {
    "id": "09xy3mAbtZgZ"
   },
   "source": [
    "### **6.1** Initialise Word2Vec model  <font color = red>[2 marks]</font>"
   ]
  },
  {
   "cell_type": "code",
   "execution_count": 25,
   "metadata": {
    "id": "Y8fGwaCPJrGA",
    "scrolled": true
   },
   "outputs": [],
   "source": [
    "## Write your code here to initialise the Word2Vec model by downloading \"word2vec-google-news-300\"\n",
    "word2vec_model = api.load('word2vec-google-news-300')"
   ]
  },
  {
   "cell_type": "markdown",
   "metadata": {
    "id": "yYzD85nTJrGA"
   },
   "source": [
    "### **6.2** Extract vectors for cleaned news data   <font color = red>[8 marks]</font>"
   ]
  },
  {
   "cell_type": "code",
   "execution_count": 26,
   "metadata": {
    "id": "ffzdDpp_JrGB"
   },
   "outputs": [
    {
     "name": "stdout",
     "output_type": "stream",
     "text": [
      "Training vectors shape: (31428,)\n",
      "Validation vectors shape: (13470,)\n"
     ]
    }
   ],
   "source": [
    "## Write your code here to extract the vectors from the Word2Vec model for both training and validation data\n",
    "## Extract the target variable for the training data and validation data\n",
    "def get_text_vector(tokens_list, model):\n",
    "    vectors = []\n",
    "    for token in tokens_list:\n",
    "        if token in word2vec_model:\n",
    "            vectors.append(word2vec_model[token])\n",
    "            \n",
    "    if vectors:\n",
    "        return np.mean(vectors, axis=0)\n",
    "    else:\n",
    "        return np.zeros(word2vec_model.vector_size)\n",
    "\n",
    "# Now apply to your train and valid sets\n",
    "\n",
    "# For training set\n",
    "train_vectors = train_df['news_text_token'].apply(lambda x: get_text_vector(x, word2vec_model))\n",
    "test_vectors = test_df['news_text_token'].apply(lambda x: get_text_vector(x, word2vec_model))\n",
    "\n",
    "\n",
    "print(\"Training vectors shape:\", train_vectors.shape)\n",
    "print(\"Validation vectors shape:\", test_vectors.shape)\n"
   ]
  },
  {
   "cell_type": "code",
   "execution_count": 52,
   "metadata": {},
   "outputs": [
    {
     "data": {
      "text/plain": [
       "dtype('O')"
      ]
     },
     "execution_count": 52,
     "metadata": {},
     "output_type": "execute_result"
    }
   ],
   "source": [
    "train_vectors.dtype"
   ]
  },
  {
   "cell_type": "markdown",
   "metadata": {
    "id": "7Q9lwvNEJrGB"
   },
   "source": [
    "## **7.** Model Training and Evaluation <font color = red>[45 marks]</font>\n",
    "\n",
    "You will use a set of supervised models to classify the news into true or fake."
   ]
  },
  {
   "cell_type": "markdown",
   "metadata": {
    "id": "sO16REK-xpq4"
   },
   "source": [
    "### **7.0** Import models and evaluation metrics"
   ]
  },
  {
   "cell_type": "code",
   "execution_count": 28,
   "metadata": {
    "id": "k0BKoT3wxpq4"
   },
   "outputs": [],
   "source": [
    "from sklearn.linear_model import LogisticRegression\n",
    "from sklearn.tree import DecisionTreeClassifier\n",
    "from sklearn.ensemble import RandomForestClassifier\n",
    "from sklearn.metrics import accuracy_score, precision_score, recall_score, f1_score\n",
    "from sklearn.metrics import classification_report"
   ]
  },
  {
   "cell_type": "markdown",
   "metadata": {
    "id": "SLuHH1olZXQq"
   },
   "source": [
    "### **7.1** Build Logistic Regression Model  <font color = red>[15 marks]</font>"
   ]
  },
  {
   "cell_type": "markdown",
   "metadata": {
    "id": "b1ItmvvGwduv"
   },
   "source": [
    "##### 7.1.1 Create and train logistic regression model on training data  <font color = red>[10 marks]</font>"
   ]
  },
  {
   "cell_type": "code",
   "execution_count": 29,
   "metadata": {},
   "outputs": [
    {
     "data": {
      "text/html": [
       "<div>\n",
       "<style scoped>\n",
       "    .dataframe tbody tr th:only-of-type {\n",
       "        vertical-align: middle;\n",
       "    }\n",
       "\n",
       "    .dataframe tbody tr th {\n",
       "        vertical-align: top;\n",
       "    }\n",
       "\n",
       "    .dataframe thead th {\n",
       "        text-align: right;\n",
       "    }\n",
       "</style>\n",
       "<table border=\"1\" class=\"dataframe\">\n",
       "  <thead>\n",
       "    <tr style=\"text-align: right;\">\n",
       "      <th></th>\n",
       "      <th>news_text</th>\n",
       "      <th>news_text_cleaned</th>\n",
       "      <th>news_text_token</th>\n",
       "    </tr>\n",
       "  </thead>\n",
       "  <tbody>\n",
       "    <tr>\n",
       "      <th>22216</th>\n",
       "      <td>If threatened, U.S. will 'totally destroy' Nor...</td>\n",
       "      <td>if threatened us will totally destroy north ko...</td>\n",
       "      <td>[trump, vow, nation, reuters, president, trump...</td>\n",
       "    </tr>\n",
       "    <tr>\n",
       "      <th>27917</th>\n",
       "      <td>OAS says Honduran vote results in doubt due to...</td>\n",
       "      <td>oas says honduran vote results in doubt due to...</td>\n",
       "      <td>[oas, vote, result, irregularity, reuters, obs...</td>\n",
       "    </tr>\n",
       "    <tr>\n",
       "      <th>25007</th>\n",
       "      <td>Lebanon's Aoun says PM Hariri's freedom restri...</td>\n",
       "      <td>lebanons aoun says pm hariris freedom restrict...</td>\n",
       "      <td>[lebanon, pm, hariris, freedom, beirut, reuter...</td>\n",
       "    </tr>\n",
       "    <tr>\n",
       "      <th>1377</th>\n",
       "      <td>Cruz LITERALLY Steals Line From Legendary Mov...</td>\n",
       "      <td>cruz literally steals line from legendary movi...</td>\n",
       "      <td>[cruz, line, movie, wife, donald, trump, video...</td>\n",
       "    </tr>\n",
       "    <tr>\n",
       "      <th>32476</th>\n",
       "      <td>STUNNING PHOTOS EMERGE Of West Point Graduate ...</td>\n",
       "      <td>stunning photos emerge of west point graduate ...</td>\n",
       "      <td>[photo, point, graduate, infantry, officer, an...</td>\n",
       "    </tr>\n",
       "    <tr>\n",
       "      <th>...</th>\n",
       "      <td>...</td>\n",
       "      <td>...</td>\n",
       "      <td>...</td>\n",
       "    </tr>\n",
       "    <tr>\n",
       "      <th>35343</th>\n",
       "      <td>Taking back control: UK's classic blue-and-gol...</td>\n",
       "      <td>taking back control uks classic blueandgold pa...</td>\n",
       "      <td>[control, blueandgold, passport, reuters, mini...</td>\n",
       "    </tr>\n",
       "    <tr>\n",
       "      <th>21632</th>\n",
       "      <td>House committee passes sweeping tax bill WASHI...</td>\n",
       "      <td>house committee passes sweeping tax bill washi...</td>\n",
       "      <td>[house, committee, tax, bill, washington, reut...</td>\n",
       "    </tr>\n",
       "    <tr>\n",
       "      <th>25863</th>\n",
       "      <td>Maine Democratic lawmaker blasted for threaten...</td>\n",
       "      <td>maine democratic lawmaker blasted for threaten...</td>\n",
       "      <td>[maine, lawmaker, post, trump, editor, attenti...</td>\n",
       "    </tr>\n",
       "    <tr>\n",
       "      <th>16315</th>\n",
       "      <td>Defense Secretary Mattis promises support to U...</td>\n",
       "      <td>defense secretary mattis promises support to u...</td>\n",
       "      <td>[defense, secretary, mattis, support, ukraine,...</td>\n",
       "    </tr>\n",
       "    <tr>\n",
       "      <th>40968</th>\n",
       "      <td>UK PM May: We will not revoke Article 50 EU ex...</td>\n",
       "      <td>uk pm may we will not revoke article eu exit p...</td>\n",
       "      <td>[pm, article, exit, process, london, reuters, ...</td>\n",
       "    </tr>\n",
       "  </tbody>\n",
       "</table>\n",
       "<p>13470 rows × 3 columns</p>\n",
       "</div>"
      ],
      "text/plain": [
       "                                               news_text  \\\n",
       "22216  If threatened, U.S. will 'totally destroy' Nor...   \n",
       "27917  OAS says Honduran vote results in doubt due to...   \n",
       "25007  Lebanon's Aoun says PM Hariri's freedom restri...   \n",
       "1377    Cruz LITERALLY Steals Line From Legendary Mov...   \n",
       "32476  STUNNING PHOTOS EMERGE Of West Point Graduate ...   \n",
       "...                                                  ...   \n",
       "35343  Taking back control: UK's classic blue-and-gol...   \n",
       "21632  House committee passes sweeping tax bill WASHI...   \n",
       "25863  Maine Democratic lawmaker blasted for threaten...   \n",
       "16315  Defense Secretary Mattis promises support to U...   \n",
       "40968  UK PM May: We will not revoke Article 50 EU ex...   \n",
       "\n",
       "                                       news_text_cleaned  \\\n",
       "22216  if threatened us will totally destroy north ko...   \n",
       "27917  oas says honduran vote results in doubt due to...   \n",
       "25007  lebanons aoun says pm hariris freedom restrict...   \n",
       "1377   cruz literally steals line from legendary movi...   \n",
       "32476  stunning photos emerge of west point graduate ...   \n",
       "...                                                  ...   \n",
       "35343  taking back control uks classic blueandgold pa...   \n",
       "21632  house committee passes sweeping tax bill washi...   \n",
       "25863  maine democratic lawmaker blasted for threaten...   \n",
       "16315  defense secretary mattis promises support to u...   \n",
       "40968  uk pm may we will not revoke article eu exit p...   \n",
       "\n",
       "                                         news_text_token  \n",
       "22216  [trump, vow, nation, reuters, president, trump...  \n",
       "27917  [oas, vote, result, irregularity, reuters, obs...  \n",
       "25007  [lebanon, pm, hariris, freedom, beirut, reuter...  \n",
       "1377   [cruz, line, movie, wife, donald, trump, video...  \n",
       "32476  [photo, point, graduate, infantry, officer, an...  \n",
       "...                                                  ...  \n",
       "35343  [control, blueandgold, passport, reuters, mini...  \n",
       "21632  [house, committee, tax, bill, washington, reut...  \n",
       "25863  [maine, lawmaker, post, trump, editor, attenti...  \n",
       "16315  [defense, secretary, mattis, support, ukraine,...  \n",
       "40968  [pm, article, exit, process, london, reuters, ...  \n",
       "\n",
       "[13470 rows x 3 columns]"
      ]
     },
     "execution_count": 29,
     "metadata": {},
     "output_type": "execute_result"
    }
   ],
   "source": [
    "train_df.drop('news_label',axis=1)\n",
    "test_df.drop('news_label',axis=1)"
   ]
  },
  {
   "cell_type": "code",
   "execution_count": 43,
   "metadata": {},
   "outputs": [
    {
     "name": "stdout",
     "output_type": "stream",
     "text": [
      "Training input shape: (31428, 300)\n",
      "Validation input shape: (13470, 300)\n"
     ]
    }
   ],
   "source": [
    "# Convert to 2D numpy array\n",
    "train_input = np.array(train_vectors.tolist())\n",
    "test_input = np.array(test_vectors.tolist())\n",
    "print(\"Training input shape:\", train_input.shape)\n",
    "print(\"Validation input shape:\", test_input.shape)"
   ]
  },
  {
   "cell_type": "code",
   "execution_count": 44,
   "metadata": {
    "id": "wzXd3YSu5eyY"
   },
   "outputs": [],
   "source": [
    "logreg = LogisticRegression()\n",
    "logreg.fit(train_input, y_train)\n",
    "y_pred = logreg.predict(test_input)"
   ]
  },
  {
   "cell_type": "markdown",
   "metadata": {
    "id": "BvNKC8ob8IAL"
   },
   "source": [
    "##### 7.1.2 Calculate and print accuracy, precision, recall and f1-score on validation data <font color = red>[5 marks]</font>"
   ]
  },
  {
   "cell_type": "code",
   "execution_count": 45,
   "metadata": {
    "id": "BEyQcSoWo4xs"
   },
   "outputs": [],
   "source": [
    "## Calculate and print accuracy, precision, recall, f1-score on predicted labels\n",
    "accuracy = accuracy_score(y_test, y_pred)\n",
    "precision = precision_score(y_test, y_pred)\n",
    "recall = recall_score(y_test, y_pred)\n",
    "f1 = f1_score(y_test, y_pred)\n"
   ]
  },
  {
   "cell_type": "code",
   "execution_count": 46,
   "metadata": {
    "id": "T6P4MA_AC216"
   },
   "outputs": [
    {
     "name": "stdout",
     "output_type": "stream",
     "text": [
      "Accuracy: 0.9327394209354121\n",
      "Precision: 0.9255668491008601\n",
      "Recall: 0.9322727988659631\n",
      "F1-score: 0.9289077212806027\n"
     ]
    }
   ],
   "source": [
    "# Classification Report\n",
    "print(\"Accuracy:\", accuracy)\n",
    "print(\"Precision:\", precision)\n",
    "print(\"Recall:\", recall)\n",
    "print(\"F1-score:\", f1)"
   ]
  },
  {
   "cell_type": "markdown",
   "metadata": {
    "id": "TRGPMQZd8r8B"
   },
   "source": [
    "### **7.2** Build Decision Tree Model <font color = red>[15 marks]</font>"
   ]
  },
  {
   "cell_type": "markdown",
   "metadata": {
    "id": "Rgv4vqrt81sH"
   },
   "source": [
    "##### 7.2.1 Create and train a decision tree model on training data <font color = red>[10 marks]</font>"
   ]
  },
  {
   "cell_type": "code",
   "execution_count": 48,
   "metadata": {
    "id": "i-mTab94xpq4"
   },
   "outputs": [],
   "source": [
    "# 1. Initialize Decision Tree model\n",
    "decisiontree = DecisionTreeClassifier(random_state=42)  \n",
    "\n",
    "# 2. Train Decision Tree model on training data\n",
    "decisiontree.fit(train_input, y_train)\n",
    "\n",
    "# 3. Predict on validation data\n",
    "y_pred_dt = decisiontree.predict(test_input)\n"
   ]
  },
  {
   "cell_type": "markdown",
   "metadata": {
    "id": "vZ_Vj5fs6w9I"
   },
   "source": [
    "##### 7.2.2 Calculate and print accuracy, precision, recall and f1-score on validation data <font color = red>[5 marks]</font>"
   ]
  },
  {
   "cell_type": "code",
   "execution_count": 50,
   "metadata": {
    "id": "15iYiCQhp7jo"
   },
   "outputs": [],
   "source": [
    "## Calculate and print accuracy, precision, recall, f1-score on predicted labels\n",
    "accuracy_dt = accuracy_score(y_test, y_pred_dt)\n",
    "precision_dt = precision_score(y_test, y_pred_dt)\n",
    "recall_dt = recall_score(y_test, y_pred_dt)\n",
    "f1_dt = f1_score(y_test, y_pred_dt)"
   ]
  },
  {
   "cell_type": "code",
   "execution_count": 51,
   "metadata": {
    "id": "DohNckxxxpq4"
   },
   "outputs": [
    {
     "name": "stdout",
     "output_type": "stream",
     "text": [
      "Accuracy: 0.847290274684484\n",
      "Precision: 0.8514575827055355\n",
      "Recall: 0.8188691132461805\n",
      "F1-score: 0.8348454435969489\n"
     ]
    }
   ],
   "source": [
    "# Classification Report\n",
    "print(\"Accuracy:\", accuracy_dt)\n",
    "print(\"Precision:\", precision_dt)\n",
    "print(\"Recall:\", recall_dt)\n",
    "print(\"F1-score:\", f1_dt)"
   ]
  },
  {
   "cell_type": "markdown",
   "metadata": {
    "id": "xnB_P9kd9EdC"
   },
   "source": [
    "### **7.3** Build Random Forest Model <font color = red>[15 marks]</font>\n"
   ]
  },
  {
   "cell_type": "markdown",
   "metadata": {
    "id": "DhW0nyU29In9"
   },
   "source": [
    "##### 7.3.1 Create and train a random forest model on training data <font color = red>[10 marks]</font>"
   ]
  },
  {
   "cell_type": "code",
   "execution_count": 55,
   "metadata": {
    "id": "uIvY9-oPxpq4"
   },
   "outputs": [],
   "source": [
    "## Initialise Random Forest model\n",
    "randomforest = RandomForestClassifier(random_state=42)  \n",
    "\n",
    "## Train Random Forest model on training data\n",
    "randomforest.fit(train_input, y_train)\n",
    "\n",
    "## Predict on validation data\n",
    "y_pred_rf = randomforest.predict(test_input)"
   ]
  },
  {
   "cell_type": "markdown",
   "metadata": {
    "id": "RRBxZieM7eea"
   },
   "source": [
    " ##### 7.3.2 Calculate and print accuracy, precision, recall and f1-score on validation data <font color = red>[5 marks]</font>"
   ]
  },
  {
   "cell_type": "code",
   "execution_count": 56,
   "metadata": {
    "id": "VzNK3jcCq01-"
   },
   "outputs": [],
   "source": [
    "## Calculate and print accuracy, precision, recall, f1-score on predicted labels\n",
    "accuracy_rf = accuracy_score(y_test, y_pred_rf)\n",
    "precision_rf = precision_score(y_test, y_pred_rf)\n",
    "recall_rf = recall_score(y_test, y_pred_rf)\n",
    "f1_rf = f1_score(y_test, y_pred_rf)"
   ]
  },
  {
   "cell_type": "code",
   "execution_count": 57,
   "metadata": {
    "id": "VIBCo_kFxpq4"
   },
   "outputs": [
    {
     "name": "stdout",
     "output_type": "stream",
     "text": [
      "Accuracy: 0.9279881217520416\n",
      "Precision: 0.9288789666719821\n",
      "Recall: 0.9174673176878249\n",
      "F1-score: 0.9231378763866878\n"
     ]
    }
   ],
   "source": [
    "# Classification Report\n",
    "print(\"Accuracy:\", accuracy_rf)\n",
    "print(\"Precision:\", precision_rf)\n",
    "print(\"Recall:\", recall_rf)\n",
    "print(\"F1-score:\", f1_rf)"
   ]
  },
  {
   "cell_type": "markdown",
   "metadata": {
    "id": "Lnj7RUDDSEJX"
   },
   "source": [
    "## **8.** Conclusion <font color = red>[5 marks]</font>\n",
    "\n",
    "Summarise your findings by discussing patterns observed in true and fake news and how semantic classification addressed the problem. Highlight the best model chosen, the evaluation metric prioritised for the decision, and assess the approach and its impact."
   ]
  },
  {
   "cell_type": "markdown",
   "metadata": {},
   "source": [
    "#### The acurrancy of decision tree model is less than Random forest and Logistic regression model by approximately 10%.\n",
    "#### With the help of Logistic regression and Random forest we are able to detect the fake new with an accuracy of approximately 92%\n",
    "#### After lemmatization, the data reduced significantly which helped us with faster model training.\n",
    "#### Using Unigram, Bigram and Trigram we are able to capture different word combination and identify the most frequently occuring phrase."
   ]
  },
  {
   "cell_type": "code",
   "execution_count": null,
   "metadata": {},
   "outputs": [],
   "source": []
  }
 ],
 "metadata": {
  "colab": {
   "provenance": []
  },
  "kernelspec": {
   "display_name": "Python 3 (ipykernel)",
   "language": "python",
   "name": "python3"
  },
  "language_info": {
   "codemirror_mode": {
    "name": "ipython",
    "version": 3
   },
   "file_extension": ".py",
   "mimetype": "text/x-python",
   "name": "python",
   "nbconvert_exporter": "python",
   "pygments_lexer": "ipython3",
   "version": "3.11.7"
  }
 },
 "nbformat": 4,
 "nbformat_minor": 4
}
